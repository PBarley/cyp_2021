{
  "nbformat": 4,
  "nbformat_minor": 0,
  "metadata": {
    "colab": {
      "name": "Tarea_8_CyP.ipynb",
      "provenance": [],
      "authorship_tag": "ABX9TyNxygdUJsAAbK7HEjUwVcgt",
      "include_colab_link": true
    },
    "kernelspec": {
      "name": "python3",
      "display_name": "Python 3"
    }
  },
  "cells": [
    {
      "cell_type": "markdown",
      "metadata": {
        "id": "view-in-github",
        "colab_type": "text"
      },
      "source": [
        "<a href=\"https://colab.research.google.com/github/PBarley/cyp_2021/blob/main/Tarea_8_CyP.ipynb\" target=\"_parent\"><img src=\"https://colab.research.google.com/assets/colab-badge.svg\" alt=\"Open In Colab\"/></a>"
      ]
    },
    {
      "cell_type": "code",
      "metadata": {
        "colab": {
          "base_uri": "https://localhost:8080/"
        },
        "id": "1coCjDkuft1I",
        "outputId": "98a958f8-3ff5-49c7-ddbc-b8b76af24f05"
      },
      "source": [
        "#Tarea 8. Print. Nombre:Paola. \r\n",
        "\r\n",
        "print(\"\\u2743\\u25A1\\u2251\\u2251\\u2251\\u2251\\u2251\\u2251\\u2251\\u2251\\u2251\\u2251\\u2251\\u2251\\u2251\\u2251\\u2251\\u2251\\u2251\\u2251\\u2251\\u2251\\u2251\\u2251\\u2251\\u2251\\u2251\\u2251\\u2251\\u2251\\u2251\\u2251\\u2251\\u2251\\u2251\\u2251\\u2251\\u2251\\u2251\\u2251\\u2251\\u2251\\u2251\\u2251\\u2251\\u2251\\u2251\\u2251\\u2251\\u2251\\u2251\\u2251\\u2251\\u2251\\u2251\\u2251\\u2251\\u2251\\u2251\\u25A1\\u2743\")\r\n",
        "print(\" \\u25A1\\t\\t\\t\\t\\t\\t\\t\\t\\t   \\u25A1\")\r\n",
        "print(\" \\u2225\\t\\u2BB3\\u21E8\\u21E8\\u21E8\\u21E8\\u21E8\\u2BB7\\t \\u272D        \\u2BAE\\u2B0C\\u2B0C\\u2B0C\\u2B0C\\u2BAF  \\u2B99\\t        \\u269D\\t   \\u2225\")\r\n",
        "print(\" \\u2225\\t\\u21E7        \\u21E9      \\u272D \\u272D \\t  \\u2B0D\\t   \\u2B0D  \\u2B99\\t      \\u269D  \\u269D\\t   \\u2225\")\r\n",
        "print(\" \\u2225\\t\\u21E7        \\u21E9     \\u272D   \\u272D \\t  \\u2B0D\\t   \\u2B0D  \\u2B99\\t     \\u269D    \\u269D\\t   \\u2225\")\r\n",
        "print(\" \\u2225\\t\\u21E7\\u21E6\\u21E6\\u21E6\\u21E6\\u21E6\\u2BB0    \\u272D\\u272D\\u272D\\u272D\\u272D \\t  \\u2B0D\\t   \\u2B0D  \\u2B99\\t    \\u269D\\u2968\\u2969\\u2968\\u2969\\u269D\\t   \\u2225\")\r\n",
        "print(\" \\u2225\\t\\u21E7            \\u272D       \\u272D   \\u2B0D\\t   \\u2B0D  \\u2B99\\t   \\u269D\\t     \\u269D\\t   \\u2225\")\r\n",
        "print(\" \\u2225\\t\\u21E7           \\u272D         \\u272D  \\u2B0D\\t   \\u2B0D  \\u2B99\\t  \\u269D\\t      \\u269D\\t   \\u2225\")\r\n",
        "print(\" \\u2225\\t\\u21E7          \\u272D           \\u272D \\u2BAC\\u2B0C\\u2B0C\\u2B0C\\u2B0C\\u2BAD \\u273A\\u2B9A\\u2B9A\\u2B9A\\u2B9A\\u2B9A\\u2B9A \\u269D\\t       \\u269D   \\u2225\")\r\n",
        "print(\" \\u25A1\\t\\t\\t\\t\\t\\t\\t\\t\\t   \\u25A1\")\r\n",
        "print(\"\\u2743\\u25A1\\u2251\\u2251\\u2251\\u2251\\u2251\\u2251\\u2251\\u2251\\u2251\\u2251\\u2251\\u2251\\u2251\\u2251\\u2251\\u2251\\u2251\\u2251\\u2251\\u2251\\u2251\\u2251\\u2251\\u2251\\u2251\\u2251\\u2251\\u2251\\u2251\\u2251\\u2251\\u2251\\u2251\\u2251\\u2251\\u2251\\u2251\\u2251\\u2251\\u2251\\u2251\\u2251\\u2251\\u2251\\u2251\\u2251\\u2251\\u2251\\u2251\\u2251\\u2251\\u2251\\u2251\\u2251\\u2251\\u2251\\u2251\\u25A1\\u2743\")\r\n"
      ],
      "execution_count": 285,
      "outputs": [
        {
          "output_type": "stream",
          "text": [
            "❃□≑≑≑≑≑≑≑≑≑≑≑≑≑≑≑≑≑≑≑≑≑≑≑≑≑≑≑≑≑≑≑≑≑≑≑≑≑≑≑≑≑≑≑≑≑≑≑≑≑≑≑≑≑≑≑≑≑□❃\n",
            " □\t\t\t\t\t\t\t\t\t   □\n",
            " ∥\t⮳⇨⇨⇨⇨⇨⮷\t ✭        ⮮⬌⬌⬌⬌⮯  ⮙\t        ⚝\t   ∥\n",
            " ∥\t⇧        ⇩      ✭ ✭ \t  ⬍\t   ⬍  ⮙\t      ⚝  ⚝\t   ∥\n",
            " ∥\t⇧        ⇩     ✭   ✭ \t  ⬍\t   ⬍  ⮙\t     ⚝    ⚝\t   ∥\n",
            " ∥\t⇧⇦⇦⇦⇦⇦⮰    ✭✭✭✭✭ \t  ⬍\t   ⬍  ⮙\t    ⚝⥨⥩⥨⥩⚝\t   ∥\n",
            " ∥\t⇧            ✭       ✭   ⬍\t   ⬍  ⮙\t   ⚝\t     ⚝\t   ∥\n",
            " ∥\t⇧           ✭         ✭  ⬍\t   ⬍  ⮙\t  ⚝\t      ⚝\t   ∥\n",
            " ∥\t⇧          ✭           ✭ ⮬⬌⬌⬌⬌⮭ ✺⮚⮚⮚⮚⮚⮚ ⚝\t       ⚝   ∥\n",
            " □\t\t\t\t\t\t\t\t\t   □\n",
            "❃□≑≑≑≑≑≑≑≑≑≑≑≑≑≑≑≑≑≑≑≑≑≑≑≑≑≑≑≑≑≑≑≑≑≑≑≑≑≑≑≑≑≑≑≑≑≑≑≑≑≑≑≑≑≑≑≑≑□❃\n"
          ],
          "name": "stdout"
        }
      ]
    }
  ]
}