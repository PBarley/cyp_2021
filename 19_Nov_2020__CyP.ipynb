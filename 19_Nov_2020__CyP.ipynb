{
  "nbformat": 4,
  "nbformat_minor": 0,
  "metadata": {
    "colab": {
      "name": "19_Nov_2020_ CyP.ipynb",
      "provenance": [],
      "authorship_tag": "ABX9TyPLr5w/hzEycNS7jXybp6CW",
      "include_colab_link": true
    },
    "kernelspec": {
      "name": "python3",
      "display_name": "Python 3"
    }
  },
  "cells": [
    {
      "cell_type": "markdown",
      "metadata": {
        "id": "view-in-github",
        "colab_type": "text"
      },
      "source": [
        "<a href=\"https://colab.research.google.com/github/PBarley/cyp_2021/blob/main/19_Nov_2020__CyP.ipynb\" target=\"_parent\"><img src=\"https://colab.research.google.com/assets/colab-badge.svg\" alt=\"Open In Colab\"/></a>"
      ]
    },
    {
      "cell_type": "code",
      "metadata": {
        "colab": {
          "base_uri": "https://localhost:8080/"
        },
        "id": "M-bzyr2G5NB2",
        "outputId": "5e4e30d7-3d64-4333-bb6e-840c0f8540e3"
      },
      "source": [
        "#El concepto de asignación\n",
        "I=0\n",
        "I= I+1\n",
        "I= I+1\n",
        "print(f\"I={I}\")\n",
        "J=5 ** 2/3\n",
        "print (f\"J={J}\")"
      ],
      "execution_count": 1,
      "outputs": [
        {
          "output_type": "stream",
          "text": [
            "I=2\n",
            "J=8.333333333333334\n"
          ],
          "name": "stdout"
        }
      ]
    },
    {
      "cell_type": "code",
      "metadata": {
        "colab": {
          "base_uri": "https://localhost:8080/"
        },
        "id": "iqQEqSwO5cdT",
        "outputId": "b5aa9780-e22b-4fb0-ad45-e4fb66b6356b"
      },
      "source": [
        "#EJEMPLO 1.6\n",
        "#Declaracion de Variables (reservando Memoria)\n",
        "A=0\n",
        "B=0\n",
        "C=0\n",
        "D=0\n",
        "\n",
        "A= int(input(\"Dame un valor entero\"))\n",
        "B= int(input(\"Dame un valor entero\"))\n",
        "C= int(input(\"Dame un valor entero\"))\n",
        "D=int(input(\"Dame un valor entero\"))\n",
        "\n",
        "print (D)\n",
        "print(C)\n",
        "print (B)\n",
        "print (A)"
      ],
      "execution_count": 2,
      "outputs": [
        {
          "output_type": "stream",
          "text": [
            "Dame un valor entero8\n",
            "Dame un valor entero9\n",
            "Dame un valor entero10\n",
            "Dame un valor entero11\n",
            "11\n",
            "10\n",
            "9\n",
            "8\n"
          ],
          "name": "stdout"
        }
      ]
    },
    {
      "cell_type": "code",
      "metadata": {
        "colab": {
          "base_uri": "https://localhost:8080/"
        },
        "id": "rjQLFDtI5gkx",
        "outputId": "23cdcb50-139e-4b32-d9b6-1e1b178bbdc1"
      },
      "source": [
        "#EJEMPLO 1.7\n",
        "A=0\n",
        "B=0\n",
        "RES=0\n",
        "\n",
        "A=int (input(\"Dame un entero:\"))\n",
        "B= int (input(\"Dame un entero:\"))\n",
        "RES = (A+B)**2 / 3\n",
        "print(RES)\n"
      ],
      "execution_count": 4,
      "outputs": [
        {
          "output_type": "stream",
          "text": [
            "Dame un entero:7\n",
            "Dame un entero:10\n",
            "96.33333333333333\n"
          ],
          "name": "stdout"
        }
      ]
    },
    {
      "cell_type": "code",
      "metadata": {
        "colab": {
          "base_uri": "https://localhost:8080/"
        },
        "id": "N5eo7RYA5jbC",
        "outputId": "15542617-f616-43a4-8d79-bf63f37551ce"
      },
      "source": [
        "#EJEMPLO 1.8\n",
        "\n",
        "MAT=0\n",
        "CAL1=0\n",
        "CAL2=0\n",
        "CAL3=0\n",
        "CAL4=0\n",
        "CAL5=0\n",
        "PRO=0.0\n",
        "\n",
        "MAT= int (input(\"Dame tu matricula:\"))\n",
        "CAL1= float (input(\"Dame la calificación 1: \"))\n",
        "CAL2= float (input(\"Dame la calificación 2: \"))\n",
        "CAL3= float (input(\"Dame la calificación 3: \"))\n",
        "CAL4= float (input(\"Dame la calificación 4: \"))\n",
        "CAL5=float (input(\"Dame la calificación 5:\"))\n",
        "PRO= (CAL1 + CAL2 + CAL3 + CAL4 + CAL5 )/5\n",
        "print(MAT, \"tu promedio es: \", PRO)\n"
      ],
      "execution_count": 5,
      "outputs": [
        {
          "output_type": "stream",
          "text": [
            "Dame tu matricula:16500\n",
            "Dame la calificación 1: 8\n",
            "Dame la calificación 2: 8.5\n",
            "Dame la calificación 3: 9\n",
            "Dame la calificación 4: 7\n",
            "Dame la calificación 5:6\n",
            "16500 tu promedio es:  7.7\n"
          ],
          "name": "stdout"
        }
      ]
    },
    {
      "cell_type": "code",
      "metadata": {
        "colab": {
          "base_uri": "https://localhost:8080/"
        },
        "id": "z8woKnZn5m4_",
        "outputId": "d0d715dd-d9a9-4717-dee5-3c2ea7333da3"
      },
      "source": [
        "#EJEMPLO 1.9\n",
        "\n",
        "NUM=0\n",
        "CUA=0\n",
        "CUB=0\n",
        "\n",
        "NUM= int (input(\"Dame el número que quieres conocer\"))\n",
        "CUA= NUM ** 2\n",
        "CUB= NUM ** 3\n",
        "print (\"El cuadrado es: \", CUA, \"y\", \"el cubo es: \", CUB)"
      ],
      "execution_count": 7,
      "outputs": [
        {
          "output_type": "stream",
          "text": [
            "Dame el número que quieres conocer7\n",
            "El cuadrado es:  49 y el cubo es:  343\n"
          ],
          "name": "stdout"
        }
      ]
    },
    {
      "cell_type": "code",
      "metadata": {
        "colab": {
          "base_uri": "https://localhost:8080/"
        },
        "id": "KVgdyv2k5pO9",
        "outputId": "8abf596e-3ce6-4e4b-d8b5-8b4952ca4300"
      },
      "source": [
        "#EJEMPLO 1.10\n",
        "\n",
        "BASE=0\n",
        "ALTU=0\n",
        "SUP=0\n",
        "PER=0\n",
        "\n",
        "BASE= float (input(\"Dame la base: \"))\n",
        "ALTU= float (input(\"Dame la altura: \"))\n",
        "SUP= (BASE * ALTU)\n",
        "PER= 2 * (BASE + ALTU)\n",
        "print(\"El área es: \", SUP, \"y el perimetro es: \", PER)"
      ],
      "execution_count": 8,
      "outputs": [
        {
          "output_type": "stream",
          "text": [
            "Dame la base: 8.5\n",
            "Dame la altura: 6.2\n",
            "El área es:  52.7 y el perimetro es:  29.4\n"
          ],
          "name": "stdout"
        }
      ]
    }
  ]
}