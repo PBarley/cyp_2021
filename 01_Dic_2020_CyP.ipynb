{
  "nbformat": 4,
  "nbformat_minor": 0,
  "metadata": {
    "colab": {
      "name": "01_Dic_2020. CyP.ipynb",
      "provenance": [],
      "authorship_tag": "ABX9TyMMB6RPhFAcFgFV3uIPKVGW",
      "include_colab_link": true
    },
    "kernelspec": {
      "name": "python3",
      "display_name": "Python 3"
    }
  },
  "cells": [
    {
      "cell_type": "markdown",
      "metadata": {
        "id": "view-in-github",
        "colab_type": "text"
      },
      "source": [
        "<a href=\"https://colab.research.google.com/github/PBarley/cyp_2021/blob/main/01_Dic_2020_CyP.ipynb\" target=\"_parent\"><img src=\"https://colab.research.google.com/assets/colab-badge.svg\" alt=\"Open In Colab\"/></a>"
      ]
    },
    {
      "cell_type": "code",
      "metadata": {
        "colab": {
          "base_uri": "https://localhost:8080/"
        },
        "id": "qdxS_J9VTRkm",
        "outputId": "f5208dfb-9413-4b16-c202-b4a4f15e2a17"
      },
      "source": [
        "#EJEMPLO 1\n",
        "#Pedir 3 números enteros y mostrar el mayor de los tres \n",
        "\n",
        "numero1= int (input(\"Introduce el primer número\"))\n",
        "numero2= int (input(\"Introduce el segundo número\"))\n",
        "numero3= int (input(\"Introduce el tercer número\"))\n",
        "\n",
        "if numero1 >= numero2 and numero1 >= numero3:\n",
        "  print(numero1, \"es el mayor\")\n",
        "elif numero2 >= numero1 and numero2 >= numero3:\n",
        "  print(numero2, \"es el mayor\")"
      ],
      "execution_count": 18,
      "outputs": [
        {
          "output_type": "stream",
          "text": [
            "Introduce el primer número3\n",
            "Introduce el segundo número5\n",
            "Introduce el tercer número2\n",
            "5 es el mayor\n"
          ],
          "name": "stdout"
        }
      ]
    },
    {
      "cell_type": "code",
      "metadata": {
        "colab": {
          "base_uri": "https://localhost:8080/"
        },
        "id": "RdgYaDwCVoim",
        "outputId": "4a277b19-8901-4f46-8d83-10a889c6f9a9"
      },
      "source": [
        "#EJEMPLO 2\n",
        "print(\"Ingrese el nombre del empleado: \")\n",
        "nombre= input()\n",
        "print(\"Cuantas horas trabajo esta semana?: \")\n",
        "horas= input()\n",
        "horas=int(horas)\n",
        "print (\"Cuanto se paga por horas?: \")\n",
        "sueldoH= input()\n",
        "sueldoH=float(sueldoH)\n",
        "\n",
        "#Evluar su sueldo\n",
        "\n",
        "if (horas<=40):\n",
        "  pago=horas * sueldoH\n",
        "  print(\"El sueldo final de \", nombre, \"es: $ \", pago)\n",
        "else:\n",
        "  extras= horas - 40\n",
        "  pago=40 * sueldoH\n",
        "  pagoFinal= pago + ((extras * sueldoH)*2)\n",
        "  print(\"El sueldo final de \", nombre, \"es $ : \", pagoFinal)"
      ],
      "execution_count": 17,
      "outputs": [
        {
          "output_type": "stream",
          "text": [
            "Ingrese el nombre del empleado: \n",
            "Zet\n",
            "Cuantas horas trabajo esta semana?: \n",
            "45\n",
            "Cuanto se paga por horas?: \n",
            "10\n",
            "El sueldo final de  Zet es $ :  500.0\n"
          ],
          "name": "stdout"
        }
      ]
    },
    {
      "cell_type": "code",
      "metadata": {
        "colab": {
          "base_uri": "https://localhost:8080/"
        },
        "id": "Q2MTKTjVZIFt",
        "outputId": "6c173d48-4d71-41f3-b574-fbaca0a6ec3f"
      },
      "source": [
        "#Ejemplo 3\n",
        "#Calcular el salario semanal de x trabajador\n",
        "#El salario semanal se calcula en base a las horas semanales trabajadas\n",
        "#El pago por hora es variable (se pide por teclado)\n",
        "#Si las horas trabajadas superan las 40 horas, el pago por hora extra es:\n",
        "#Doble en el rango de 41horas a 50horas\n",
        "#Triple en el rango de 51horas a 60 horas\n",
        "#Incentivo de $2000 si rebasa las 60 horas.\n",
        "\n",
        "print(\"Ingrese el nombre del empleado: \")\n",
        "nombre= input()\n",
        "print(\"Cuantas horas trabajo esta semana?: \")\n",
        "horas= input()\n",
        "horas=int(horas)\n",
        "print (\"Cuanto se paga por horas?: \")\n",
        "sueldoH= input()\n",
        "sueldoH=float(sueldoH)\n",
        "\n",
        "#Evaluar el sueldo\n",
        "\n",
        "if(horas<=40):\n",
        "  pago=horas * sueldoH\n",
        "  print(\"El sueldo final de: \", nombre, \"es $ \", pago)\n",
        "elif(horas>40 and horas <=50):\n",
        "  extrasDobles= horas - 40\n",
        "  print(\"Horas extras dobles\", extrasDobles)\n",
        "  pago= 40 * sueldoH\n",
        "  print(\"Sueldo base: $\", pago)\n",
        "  pagoDoble=extrasDobles * sueldoH * 2\n",
        "  print(\"Pago de horas dobles: $\", pagoDoble)\n",
        "  pagoFinal= pago + pagoDoble\n",
        "  print(\"El sueldo final de: \", nombre, \"es $ \", pagoFinal)\n",
        "elif (horas > 50 and horas <=60):\n",
        "  extrasTriples= horas - 50\n",
        "  print(\"Horas extras dobles: 10\")\n",
        "  print(\"Horas extras triples\", extrasTriples)\n",
        "  pago= 40 * sueldoH\n",
        "  print(\"Sueldo base: $\", pago)\n",
        "  pagoDoble=10*sueldoH * 2\n",
        "  print(\"Pago de horas extras dobles: $\",pagoDoble)\n",
        "  pagoTriple= extrasTriples * sueldoH * 3\n",
        "  print(\"Pago de horas extras triples: \", pagoTriple)\n",
        "  pagoFinal= pago + pagoDoble + pagoTriple\n",
        "  print(\"El sueldo final de: \", nombre, \"es $ \", pagoFinal)\n",
        "else:\n",
        "  extrasTriples= 10\n",
        "  print(\"Horas extras dobles: 10\")\n",
        "  print(\"Horas extras triples: 10\")\n",
        "  pago= 40  *sueldoH\n",
        "  print(\"Sueldo Base: $\", pago)\n",
        "  pagoDoble= 10 * sueldoH * 2\n",
        "  print(\"Pago de horas extras dobles: $\",pagoDoble)\n",
        "  pagoTriple= extrasTriples * sueldoH * 3\n",
        "  print(\"Pago de horas extras triples: $\", pagoTriple)\n",
        "  print(\"Incentivo por trabajar más de 60 horas: $2000\")\n",
        "  pagoFinal= pago + pagoDoble + pagoTriple + 2000\n",
        "  print(\"El sueldo final de: \", nombre, \"es $ \", pagoFinal)"
      ],
      "execution_count": 13,
      "outputs": [
        {
          "output_type": "stream",
          "text": [
            "Ingrese el nombre del empleado: \n",
            "Zet\n",
            "Cuantas horas trabajo esta semana?: \n",
            "51\n",
            "Cuanto se paga por horas?: \n",
            "100\n",
            "Horas extras dobles: 10\n",
            "Horas extras triples 1\n",
            "Sueldo base: $ 4000.0\n",
            "Pago de horas extras dobles: $ 2000.0\n",
            "Pago de horas extras triples:  300.0\n",
            "El sueldo final de:  Zet es $  6300.0\n"
          ],
          "name": "stdout"
        }
      ]
    },
    {
      "cell_type": "code",
      "metadata": {
        "colab": {
          "base_uri": "https://localhost:8080/"
        },
        "id": "0SSUMxTHn80a",
        "outputId": "e8f89fff-2e9a-481e-fc0f-090fc6f10e01"
      },
      "source": [
        "#ESTRUCTURA FOR\n",
        "\n",
        "#EJEMPLO 1\n",
        "\n",
        "for estaciones_año in[\"primavera\", \"verano\", \"otoño\", \"invierno\"]: #\"in\" es una palabra reservada, qué indica un elemento a recorrer\n",
        "  print(estaciones_año)\n",
        "\n",
        "#variables que suelen formar parte de FOR son \"i\""
      ],
      "execution_count": 14,
      "outputs": [
        {
          "output_type": "stream",
          "text": [
            "primavera\n",
            "verano\n",
            "otoño, \n",
            "invierno\n"
          ],
          "name": "stdout"
        }
      ]
    },
    {
      "cell_type": "code",
      "metadata": {
        "colab": {
          "base_uri": "https://localhost:8080/"
        },
        "id": "EZg-OB5oqZ_H",
        "outputId": "271ecf1d-cd1b-4b20-b710-e995edb81a96"
      },
      "source": [
        "for estaciones_año in[\"primavera\", \"verano\", \"otoño\", \"invierno\"]: #\"in\" es una palabra reservada, qué indica un elemento a recorrer\n",
        "  print(\"Hola\")"
      ],
      "execution_count": 15,
      "outputs": [
        {
          "output_type": "stream",
          "text": [
            "Hola\n",
            "Hola\n",
            "Hola\n",
            "Hola\n"
          ],
          "name": "stdout"
        }
      ]
    }
  ]
}