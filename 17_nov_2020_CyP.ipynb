{
  "nbformat": 4,
  "nbformat_minor": 0,
  "metadata": {
    "colab": {
      "name": "17_nov_2020.CyP.ipynb",
      "provenance": [],
      "authorship_tag": "ABX9TyMGnpxDH3HTUkykT5CyxuEi",
      "include_colab_link": true
    },
    "kernelspec": {
      "name": "python3",
      "display_name": "Python 3"
    }
  },
  "cells": [
    {
      "cell_type": "markdown",
      "metadata": {
        "id": "view-in-github",
        "colab_type": "text"
      },
      "source": [
        "<a href=\"https://colab.research.google.com/github/PBarley/cyp_2021/blob/main/17_nov_2020_CyP.ipynb\" target=\"_parent\"><img src=\"https://colab.research.google.com/assets/colab-badge.svg\" alt=\"Open In Colab\"/></a>"
      ]
    },
    {
      "cell_type": "code",
      "metadata": {
        "colab": {
          "base_uri": "https://localhost:8080/"
        },
        "id": "eWnqvC6LSBDm",
        "outputId": "b24f4928-a729-4028-d766-a95b6f276ed6"
      },
      "source": [
        "edad=15\n",
        "estatura= 1.67\n",
        "a=10\n",
        "b=3\n",
        "\n",
        "c= 2**b+2+3+4\n",
        "\n",
        "print (c)\n",
        "\n",
        "e=estatura*2.0\n",
        "print (e)\n",
        "\n",
        "f= a/b #En python se hace el cálculo exacto\n",
        "print (f)\n",
        "\n",
        "#Tambien podemos forzar el cálculo de enteros \n",
        "g=a//b\n",
        "print(\"g=\", g)\n",
        "\n",
        "h=a % b\n",
        "print (\"h: \",h)\n",
        "\n",
        "num=10\n",
        "print (\"Es par num?\", (num %2)==0)\n"
      ],
      "execution_count": 8,
      "outputs": [
        {
          "output_type": "stream",
          "text": [
            "17\n",
            "3.34\n",
            "3.3333333333333335\n",
            "g= 3\n",
            "h:  1\n",
            "Es par num? True\n"
          ],
          "name": "stdout"
        }
      ]
    },
    {
      "cell_type": "code",
      "metadata": {
        "colab": {
          "base_uri": "https://localhost:8080/"
        },
        "id": "MV7rmhqZW3yk",
        "outputId": "6098f4d0-25bc-47f9-df68-c1d5bbb80332"
      },
      "source": [
        " ecuacion = 9+7*8-36/5 #   9 + 56 - 7.2   ->   65 - 7.2\n",
        " print (ecuacion)\n",
        "\n",
        "ecuacion= (9+7)*8-36/5  # 128 - 7.2\n",
        " print (ecuacion)\n",
        "\n",
        " ecuacion= 9 + 7 * (8 -36)/5 \n",
        "print (ecuacion)"
      ],
      "execution_count": 12,
      "outputs": [
        {
          "output_type": "stream",
          "text": [
            "57.8\n",
            "120.8\n",
            "-30.200000000000003\n"
          ],
          "name": "stdout"
        }
      ]
    },
    {
      "cell_type": "code",
      "metadata": {
        "colab": {
          "base_uri": "https://localhost:8080/"
        },
        "id": "13eYwHR8b25Q",
        "outputId": "4a6e7e6a-4823-422f-f80a-6c843c008b8c"
      },
      "source": [
        "#Operadores lógicos -> True    Falso\n",
        "\n",
        "x=5\n",
        "y=4 \n",
        "\n",
        "valor= (x==y) #Son iguales?? --> False\n",
        "print (valor)\n",
        "\n",
        "valor= (x !=y) # Son diferentes?? --> True\n",
        "print (valor)\n",
        "\n",
        "valor= (x<y) # x es menor que y?? --> False\n",
        "print (valor)\n",
        "\n",
        "valor= (x>y) # x es mayor que y?? -->True\n",
        "print (valor)\n",
        "\n",
        "y=5\n",
        "valor= (x<=y) # x es menor o igual que y?? --> True\n",
        "print (valor)\n",
        "\n",
        "\n",
        "valor= (x>=y) # x es mayor o igual que y?? --> True\n",
        "print (valor)\n",
        "\n"
      ],
      "execution_count": 20,
      "outputs": [
        {
          "output_type": "stream",
          "text": [
            "False\n",
            "True\n",
            "False\n",
            "True\n",
            "True\n",
            "True\n"
          ],
          "name": "stdout"
        }
      ]
    },
    {
      "cell_type": "code",
      "metadata": {
        "colab": {
          "base_uri": "https://localhost:8080/"
        },
        "id": "y3PXTqJkfbkB",
        "outputId": "2c98657f-666f-4a7b-daa0-522fe87a0256"
      },
      "source": [
        "costo_chetos= 7.0\n",
        "tienda_abierta = False \n",
        "capital_en_bolsa= 10.0\n",
        "\n",
        "se_compra= (costo_chetos < capital_en_bolsa) and (tienda_abierta==True)\n",
        "print(se_compra)"
      ],
      "execution_count": 24,
      "outputs": [
        {
          "output_type": "stream",
          "text": [
            "False\n"
          ],
          "name": "stdout"
        }
      ]
    }
  ]
}