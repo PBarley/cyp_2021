{
  "nbformat": 4,
  "nbformat_minor": 0,
  "metadata": {
    "colab": {
      "name": "Listas, tuplas y diccionarios. 1st Study.ipynb",
      "provenance": [],
      "collapsed_sections": [],
      "authorship_tag": "ABX9TyPt8bCPNKXWF8NDLnWlGWWH",
      "include_colab_link": true
    },
    "kernelspec": {
      "name": "python3",
      "display_name": "Python 3"
    }
  },
  "cells": [
    {
      "cell_type": "markdown",
      "metadata": {
        "id": "view-in-github",
        "colab_type": "text"
      },
      "source": [
        "<a href=\"https://colab.research.google.com/github/PBarley/cyp_2021/blob/main/Listas%2C_tuplas_y_diccionarios_1st_Study.ipynb\" target=\"_parent\"><img src=\"https://colab.research.google.com/assets/colab-badge.svg\" alt=\"Open In Colab\"/></a>"
      ]
    },
    {
      "cell_type": "markdown",
      "metadata": {
        "id": "IJJ-88DC8SC2"
      },
      "source": [
        "# LISTAS EN PYTHON "
      ]
    },
    {
      "cell_type": "code",
      "metadata": {
        "colab": {
          "base_uri": "https://localhost:8080/"
        },
        "id": "eXH3OIiB8ROM",
        "outputId": "74b2860c-3385-411b-9d6e-11abdf322af1"
      },
      "source": [
        "#UNA LISTA DE \"N\" ELEMENTOS \r\n",
        "\r\n",
        "#Declara lista de n elementos\r\n",
        "numeros = [4, 2, 45, 7, 83, 3]\r\n",
        "print(numeros)\r\n",
        "print(numeros[2])\r\n",
        "\r\n",
        "#Declarar lista vacia\r\n",
        "colores= [] \r\n",
        "print(colores)\r\n",
        "# Type= Método de lenguaje Python. Averigua de que tipo de trato es una variable con la función \r\n",
        "type (colores)\r\n",
        "\r\n",
        "#Declarar una lista vacia\r\n",
        "dias= list()\r\n",
        "print(dias)\r\n"
      ],
      "execution_count": null,
      "outputs": [
        {
          "output_type": "stream",
          "text": [
            "[4, 2, 45, 7, 83, 3]\n",
            "45\n",
            "[]\n",
            "[]\n"
          ],
          "name": "stdout"
        }
      ]
    },
    {
      "cell_type": "code",
      "metadata": {
        "colab": {
          "base_uri": "https://localhost:8080/"
        },
        "id": "IxYF1Mi09FCs",
        "outputId": "933cbb77-113e-42aa-8d02-bef994274fe7"
      },
      "source": [
        "#Pueden ser de diferente tipo de datos\r\n",
        "\r\n",
        "mi_lista = [1, 2, 3, \"Jose\", False, 1.76,[554327890, 56387509, 234532232]  ] #No puede empezar en 0 un número.\r\n",
        "print(mi_lista)\r\n",
        "print(mi_lista [6][1]) #Acceder a una lista dentro de otra lista \r\n",
        "print(mi_lista [3][3]) #Una letra de una palabra \r\n",
        "\r\n",
        "#Acceder con rebanado:\r\n",
        "print(mi_lista [3][-1::1])\r\n",
        "\r\n",
        "#Suponiendo que mi_lista = [1, 2, 3, \"Jose\", False, 1.76,[\"554327890\", \"56387509\", \"234532232\"]] \r\n",
        "#Para sacar un númmero de las listas anidadas, hacemos:\r\n",
        "print(str(mi_lista[6][1][2]))"
      ],
      "execution_count": null,
      "outputs": [
        {
          "output_type": "stream",
          "text": [
            "[1, 2, 3, 'Jose', False, 1.76, ['554327890', '56387509', '234532232']]\n",
            "56387509\n",
            "e\n",
            "3\n",
            "e\n"
          ],
          "name": "stdout"
        }
      ]
    },
    {
      "cell_type": "code",
      "metadata": {
        "colab": {
          "base_uri": "https://localhost:8080/"
        },
        "id": "MDj2gt5s-yUL",
        "outputId": "2aa79410-20c4-4238-83ef-bf0712460f04"
      },
      "source": [
        "#Son mutables\r\n",
        "#Podemos cambiar o reasignar los elementos:\r\n",
        "\r\n",
        "frutas= [\"melon\", \"sandia\", \"kiwi\", \"aguacate\", \"mango\", \"platano\"]\r\n",
        "print(frutas)\r\n",
        "frutas[0]= \"Melón\"\r\n",
        "print(frutas)\r\n",
        "# frutas[1][0]= \"S\" #Da error porque los str no son mutables, solo se puede reasignarar como a continuación:\r\n",
        "frutas[1]= frutas[1].capitalize() #Otra alternartiva: frutas[1] = frutas[1][0].upper() + frutas[1][1:]\r\n",
        "print(frutas)"
      ],
      "execution_count": null,
      "outputs": [
        {
          "output_type": "stream",
          "text": [
            "['melon', 'sandia', 'kiwi', 'aguacate', 'mango', 'platano']\n",
            "['Melón', 'sandia', 'kiwi', 'aguacate', 'mango', 'platano']\n",
            "['Melón', 'Sandia', 'kiwi', 'aguacate', 'mango', 'platano']\n"
          ],
          "name": "stdout"
        }
      ]
    },
    {
      "cell_type": "markdown",
      "metadata": {
        "id": "Ixlrg6ybUhCW"
      },
      "source": [
        "### MÉTODOS EN LAS LISTAS"
      ]
    },
    {
      "cell_type": "code",
      "metadata": {
        "colab": {
          "base_uri": "https://localhost:8080/"
        },
        "id": "82OLL7KN_3qn",
        "outputId": "7b0e36b6-c10a-4532-8ce6-3bced5e135af"
      },
      "source": [
        "# MÉTODOS EN LAS LISTAS: \r\n",
        "#Las listas son clases por lo tanto, tiene métodos \r\n",
        "\r\n",
        "#Append()= Agrega un elemento final \r\n",
        "frutas= [\"melon\", \"sandia\", \"kiwi\", \"aguacate\", \"mango\", \"platano\"]\r\n",
        "frutas.append(\"Fresa\")\r\n",
        "print(frutas)\r\n",
        "\r\n",
        "#copy()= Hace una copia superficial \r\n",
        "print(\"Ejemplo de copias\")\r\n",
        "otras_frutas= frutas.copy() \r\n",
        "otras_frutas [0]= \"Chico zapote\"\r\n",
        "print(otras_frutas)\r\n",
        "print(frutas)\r\n",
        "print('''--------------------\r\n",
        "''')\r\n",
        "\r\n",
        "''' extend()= Si se quiere introduir los elementos de una lista a otro, pero sin que esten \r\n",
        "anidadas,aplicamos el metodo \"append()\", que las integrara completamente'''\r\n",
        "\r\n",
        "print(\"Ejemplo de extend\")\r\n",
        "colores= [\"rojo\", \"verde\", \"azul\"]\r\n",
        "frutas.extend(colores)\r\n",
        "print(frutas)\r\n",
        "print('''--------------------\r\n",
        "''')\r\n",
        "\r\n",
        "'''insert()= Agrega un elemento en la posisición indicada sin eliminar a otro elemento, \r\n",
        "es decir, solo los deplaza un lugar a la derecha'''\r\n",
        "print(\"Ejemplo de insert\")\r\n",
        "print(f\"El tamaño de la lista= {len(frutas)}\")\r\n",
        "frutas.insert(3, \"Limon\")\r\n",
        "print(f\"El tamaño de la lista= {len(frutas)}\")\r\n",
        "print(frutas)\r\n",
        "print('''--------------------\r\n",
        "''')\r\n",
        "\r\n",
        "# remove() y/o del= Eliminar un elemento \r\n",
        "print(\"Ejemplo de remove, eliminar el kiwi\")\r\n",
        "frutas.remove(\"kiwi\")\r\n",
        "print(frutas)\r\n",
        "\r\n",
        "print(\"Ejemplo con del\")\r\n",
        "del frutas[2] #No es como tal una función, es un OPERADOR de listas\r\n",
        "print(frutas)\r\n",
        "print('''--------------------\r\n",
        "''')\r\n",
        "\r\n",
        "#clear()= Deja la lista vacia \r\n",
        "print(frutas)\r\n",
        "frutas.clear() \r\n",
        "print(frutas)"
      ],
      "execution_count": null,
      "outputs": [
        {
          "output_type": "stream",
          "text": [
            "['melon', 'sandia', 'kiwi', 'aguacate', 'mango', 'platano', 'Fresa']\n",
            "Ejemplo de copias\n",
            "['Chico zapote', 'sandia', 'kiwi', 'aguacate', 'mango', 'platano', 'Fresa']\n",
            "['melon', 'sandia', 'kiwi', 'aguacate', 'mango', 'platano', 'Fresa']\n",
            "--------------------\n",
            "\n",
            "Ejemplo de extend\n",
            "['melon', 'sandia', 'kiwi', 'aguacate', 'mango', 'platano', 'Fresa', 'rojo', 'verde', 'azul']\n",
            "--------------------\n",
            "\n",
            "Ejemplo de insert\n",
            "El tamaño de la lista= 10\n",
            "El tamaño de la lista= 11\n",
            "['melon', 'sandia', 'kiwi', 'Limon', 'aguacate', 'mango', 'platano', 'Fresa', 'rojo', 'verde', 'azul']\n",
            "--------------------\n",
            "\n",
            "Ejemplo de remove, eliminar el kiwi\n",
            "['melon', 'sandia', 'Limon', 'aguacate', 'mango', 'platano', 'Fresa', 'rojo', 'verde', 'azul']\n",
            "Ejemplo con del\n",
            "['melon', 'sandia', 'aguacate', 'mango', 'platano', 'Fresa', 'rojo', 'verde', 'azul']\n",
            "--------------------\n",
            "\n",
            "['melon', 'sandia', 'aguacate', 'mango', 'platano', 'Fresa', 'rojo', 'verde', 'azul']\n",
            "[]\n"
          ],
          "name": "stdout"
        }
      ]
    },
    {
      "cell_type": "code",
      "metadata": {
        "colab": {
          "base_uri": "https://localhost:8080/"
        },
        "id": "MMvhnkYlEndY",
        "outputId": "a7e92a87-d159-4ecc-d029-cf5a4acc929b"
      },
      "source": [
        "cosas = [\"Jose\",True,2,3,4,5,\"Pedro\",1.23]\r\n",
        "indice = 0\r\n",
        "a_eliminar=[]\r\n",
        "\r\n",
        "'''La función isinstance () comprueba si el objeto (primer argumento) \r\n",
        "es una instancia o subclase de la clase classinfo (segundo argumento).'''\r\n",
        "for elemento in cosas:\r\n",
        "    if isinstance( elemento , int ) : \r\n",
        "        print(\"entero\",elemento) \r\n",
        "        #Se agrgan los valores enteros a una nueva lista    \r\n",
        "        a_eliminar.append(elemento) \r\n",
        "    #indice += 1\r\n",
        "\r\n",
        "print(a_eliminar)\r\n",
        "for indice in a_eliminar:\r\n",
        "    print(indice) #Indice adquiere el valor del elemento\r\n",
        "    cosas.remove(indice) #Removemos ese elemento de la primera lista\r\n",
        "print(cosas)"
      ],
      "execution_count": null,
      "outputs": [
        {
          "output_type": "stream",
          "text": [
            "entero True\n",
            "entero 2\n",
            "entero 3\n",
            "entero 4\n",
            "entero 5\n",
            "[True, 2, 3, 4, 5]\n",
            "True\n",
            "2\n",
            "3\n",
            "4\n",
            "5\n",
            "['Jose', 'Pedro', 1.23]\n"
          ],
          "name": "stdout"
        }
      ]
    },
    {
      "cell_type": "markdown",
      "metadata": {
        "id": "OUitLlEHJYGY"
      },
      "source": [
        "### SLICING SOBRE LISTAS"
      ]
    },
    {
      "cell_type": "code",
      "metadata": {
        "colab": {
          "base_uri": "https://localhost:8080/"
        },
        "id": "rpjDsTIFJcPY",
        "outputId": "1e91a2a2-5553-4541-f98d-89343054624e"
      },
      "source": [
        "#SLICING SOBRE LISTAS\r\n",
        "frutas= [\"melon\", \"sandia\", \"kiwi\", \"aguacate\", \"mango\", \"platano\"]\r\n",
        "print(frutas[1:4:])\r\n",
        "print(\"----------------------------------\")\r\n",
        "sistemas_operativos= [\"Windows\",\"Mac Os\", \"Linus\", \"Android\"]\r\n",
        "autos= [\"Ford\", \"Mazda\",\"Honda\"]\r\n",
        "cosas= [sistemas_operativos, autos]\r\n",
        "\r\n",
        "print(cosas)\r\n",
        "#Imprimir la lista autos\r\n",
        "print(cosas[1]) \r\n",
        "#Imprimir \"Linus\"\r\n",
        "print(cosas[0][2]) \r\n",
        "#Imprimir \"dro\" de 'Android'\r\n",
        "print(cosas[0][3][2:5:1])\r\n",
        "#Imprimir \"dza\" de 'Mazda'\r\n",
        "print(cosas[1][1][-2:-5:-1])"
      ],
      "execution_count": null,
      "outputs": [
        {
          "output_type": "stream",
          "text": [
            "['sandia', 'kiwi', 'aguacate']\n",
            "----------------------------------\n",
            "[['Windows', 'Mac Os', 'Linus', 'Android'], ['Ford', 'Mazda', 'Honda']]\n",
            "['Ford', 'Mazda', 'Honda']\n",
            "Linus\n",
            "dro\n",
            "dza\n"
          ],
          "name": "stdout"
        }
      ]
    },
    {
      "cell_type": "markdown",
      "metadata": {
        "id": "hw680CBYT0-k"
      },
      "source": [
        "# TUPLAS \r\n",
        "\r\n",
        "Las tuplas asi como las listas y los diccionarios pueden contener cualquier tipo de datos, como números, cadenas, listas, etc"
      ]
    },
    {
      "cell_type": "code",
      "metadata": {
        "colab": {
          "base_uri": "https://localhost:8080/"
        },
        "id": "PdjomZqOXD_l",
        "outputId": "1c5b2784-ccb2-4cc4-e4a1-ca17c36bc3e0"
      },
      "source": [
        "#Como se declara una Tupla \r\n",
        "frutas = ('Sandía', 'Melón', 'limon', 'Mango')\r\n",
        "print(frutas)\r\n",
        "\r\n",
        "'''Soporta todas las operaciones que reciben la lista, siempre que no intenten  \r\n",
        "modificarlas'''\r\n",
        "#Ejemplo Slicing \r\n",
        "print(frutas[1:3:1])\r\n",
        "print(frutas.count('Melón')) #Cuenta cuantas veces apare\r\n",
        "\r\n",
        "#Son inmutables \r\n",
        "'''frutas[1] = 'Manzana' #No se puede hacer esto, \r\n",
        "                NO SE PUEDE MODIFICAR LAS TUPLAS. '''\r\n",
        "\r\n",
        "#¿Pa que se usan?\r\n",
        "'''Se usan para representar colecciones fijas de elementos, por ejemplo: las fechas \r\n",
        "de un calendario, los meses de un año, etc.'''\r\n",
        "conexion = ('132.248.12.12',3306, 'cyp_bd', 'usr_test', '1234dios')\r\n",
        "print(f\"Usuario: {conexion [3]} y passwd:{conexion[4]}\")"
      ],
      "execution_count": 2,
      "outputs": [
        {
          "output_type": "stream",
          "text": [
            "('Sandía', 'Melón', 'limon', 'Mango')\n",
            "('Melón', 'limon')\n",
            "1\n",
            "Usuario: usr_test y passwd:1234dios\n"
          ],
          "name": "stdout"
        }
      ]
    },
    {
      "cell_type": "markdown",
      "metadata": {
        "id": "w7279li7aeqq"
      },
      "source": [
        "# DICCIONARIOS\r\n",
        "\r\n",
        "EJEMPLOS:"
      ]
    },
    {
      "cell_type": "code",
      "metadata": {
        "colab": {
          "base_uri": "https://localhost:8080/"
        },
        "id": "6k6QimRqbCaI",
        "outputId": "b49c0c9f-4a21-4071-8251-f7a051195cb8"
      },
      "source": [
        "#Ejemplo Kareli\r\n",
        "alumno = {        'nombre'       : 'Juan Pérez', \r\n",
        "          'edad' : 18, \r\n",
        "          'Matricula': 312193, \r\n",
        "          'calificaciones' : {'Mate: ': 8, 'ciencias:': 9, 'ingles: ': 8}, \r\n",
        "          'aprovado' : True,\r\n",
        "          'dirección': {\r\n",
        "              'Calle':'Rancho seco',\r\n",
        "              'Numero': 's/n',\r\n",
        "              'colonia': 'impulsora popular avicola',\r\n",
        "              'municipio': 'minesota',\r\n",
        "              'Estado': {\r\n",
        "                  'Clave_del_estado': 15,\r\n",
        "                  'nombre_clave': 'Estado de México'\r\n",
        "                  }\r\n",
        "              } #Anidamos diccionarios\r\n",
        "          }\r\n",
        "\r\n",
        "print(alumno)\r\n",
        "# Solo el nombre\r\n",
        "print(alumno['nombre'])\r\n",
        "# 9 Calificación de ciencias???\r\n",
        "print(alumno['calificaciones']['ciencias:'])\r\n",
        "\r\n",
        "#Nombre, todo en mayusculas (Ejercicio) \r\n",
        "  #Usamos el método del dato string upper()\r\n",
        "print(alumno['nombre'].upper()) \r\n",
        "print(\"---------------------------------------\")\r\n",
        "\r\n",
        "#Es mutable\r\n",
        "print(alumno)\r\n",
        "alumno['seguro']= True   \r\n",
        "print(alumno)\r\n",
        "\r\n",
        "#Ahora agreguemos el código postal dentro de dirección \r\n",
        "alumno['dirección']['cp']=57170\r\n",
        "print(alumno)"
      ],
      "execution_count": 3,
      "outputs": [
        {
          "output_type": "stream",
          "text": [
            "{'nombre': 'Juan Pérez', 'edad': 18, 'Matricula': 312193, 'calificaciones': {'Mate: ': 8, 'ciencias: ': 9, 'ingles: ': 8}, 'aprovado': True, 'dirección': {'Calle': 'Rancho seco', 'Numero': 's/n', 'colonia': 'impulsora popular avicola', 'municipio': 'minesota', 'Estado': {'Clave_del_estado': 15, 'nombre_clave': 'Estado de México'}}}\n",
            "Juan Pérez\n",
            "9\n",
            "JUAN PÉREZ\n",
            "---------------------------------------\n",
            "{'nombre': 'Juan Pérez', 'edad': 18, 'Matricula': 312193, 'calificaciones': {'Mate: ': 8, 'ciencias: ': 9, 'ingles: ': 8}, 'aprovado': True, 'dirección': {'Calle': 'Rancho seco', 'Numero': 's/n', 'colonia': 'impulsora popular avicola', 'municipio': 'minesota', 'Estado': {'Clave_del_estado': 15, 'nombre_clave': 'Estado de México'}}}\n",
            "{'nombre': 'Juan Pérez', 'edad': 18, 'Matricula': 312193, 'calificaciones': {'Mate: ': 8, 'ciencias: ': 9, 'ingles: ': 8}, 'aprovado': True, 'dirección': {'Calle': 'Rancho seco', 'Numero': 's/n', 'colonia': 'impulsora popular avicola', 'municipio': 'minesota', 'Estado': {'Clave_del_estado': 15, 'nombre_clave': 'Estado de México'}}, 'seguro': True}\n",
            "{'nombre': 'Juan Pérez', 'edad': 18, 'Matricula': 312193, 'calificaciones': {'Mate: ': 8, 'ciencias: ': 9, 'ingles: ': 8}, 'aprovado': True, 'dirección': {'Calle': 'Rancho seco', 'Numero': 's/n', 'colonia': 'impulsora popular avicola', 'municipio': 'minesota', 'Estado': {'Clave_del_estado': 15, 'nombre_clave': 'Estado de México'}, 'cp': 57170}, 'seguro': True}\n"
          ],
          "name": "stdout"
        }
      ]
    },
    {
      "cell_type": "markdown",
      "metadata": {
        "id": "HfmA4Yipgxq0"
      },
      "source": [
        "# MANIPULACIÓN DE LOS PARES LLAVE VALOR.\r\n",
        "Para ello se emplean los métodos:\r\n",
        "\r\n",
        "1. Keys() Te regresa una tupla con los valores strings llave del diccionario\r\n",
        "\r\n",
        "1. Values() Te regresa sólo los valores\r\n",
        "\r\n",
        "1. items() Te regresa los pares"
      ]
    },
    {
      "cell_type": "code",
      "metadata": {
        "colab": {
          "base_uri": "https://localhost:8080/"
        },
        "id": "loJ1CjvzgiN5",
        "outputId": "bd262b3e-09f9-4cfd-8da3-61e2bff09f69"
      },
      "source": [
        "#Manipular llaves \r\n",
        "libros = {        \"J. K. Rowling\"       : {\r\n",
        "            \"Harry Potter y la piedra filosofal\": \"$450\", \r\n",
        "            \"Harry Potter y la cámara secreta\": \"$310\",\r\n",
        "            \"Harry Potter y el prisionero de Azkaban\": \"$437\"    \r\n",
        "            }, \r\n",
        "          \" Antoine De Saint\": {\"El Principito\": \"$230\"},\r\n",
        "          \"best seller\":[\"A TIME FOR MERCY\", \"THE DUKE AND\"]\r\n",
        "          }\r\n",
        "\r\n",
        "\r\n",
        "print(libros)\r\n",
        "print('''\r\n",
        "MÉTODO keys()''')\r\n",
        "llaves= libros.keys()\r\n",
        "print(llaves) #Es como una lista dentro de un objeto..... Solo puede ser utilizado con iteradores, con un for.\r\n",
        "print(\"Entonces:\")\r\n",
        "for elem in llaves:\r\n",
        "  print(elem, ':')\r\n",
        "  print(libros[elem],'''\r\n",
        "  ''')\r\n",
        "print(\"-------------------------\")\r\n",
        "\r\n",
        "\r\n",
        "#Manipular los valores\r\n",
        "print('''\r\n",
        "MÉTODO values()''')\r\n",
        "valores= libros.values()\r\n",
        "print(valores)\r\n",
        "print(\"Entonces\")\r\n",
        "for val in valores:\r\n",
        "  print(val)\r\n",
        "print('''\r\n",
        ".-.-.-.-.-.-.-..-.-.-.-.-.-.''')\r\n",
        "\r\n",
        "#Manipular Pares \r\n",
        "print('''\r\n",
        "MÉTODO items()''')\r\n",
        "pares= libros.items() #Una lista donde cada elemento es una tupla \r\n",
        "print(pares)\r\n",
        "print(\"Entonces:\")\r\n",
        "for par in pares:\r\n",
        "  print(par)\r\n"
      ],
      "execution_count": 19,
      "outputs": [
        {
          "output_type": "stream",
          "text": [
            "{'J. K. Rowling': {'Harry Potter y la piedra filosofal': '$450', 'Harry Potter y la cámara secreta': '$310', 'Harry Potter y el prisionero de Azkaban': '$437'}, ' Antoine De Saint': {'El Principito': '$230'}, 'best seller': ['A TIME FOR MERCY', 'THE DUKE AND']}\n",
            "\n",
            "MÉTODO keys()\n",
            "dict_keys(['J. K. Rowling', ' Antoine De Saint', 'best seller'])\n",
            "Entonces:\n",
            "J. K. Rowling :\n",
            "{'Harry Potter y la piedra filosofal': '$450', 'Harry Potter y la cámara secreta': '$310', 'Harry Potter y el prisionero de Azkaban': '$437'} \n",
            "  \n",
            " Antoine De Saint :\n",
            "{'El Principito': '$230'} \n",
            "  \n",
            "best seller :\n",
            "['A TIME FOR MERCY', 'THE DUKE AND'] \n",
            "  \n",
            "-------------------------\n",
            "\n",
            "MÉTODO values()\n",
            "dict_values([{'Harry Potter y la piedra filosofal': '$450', 'Harry Potter y la cámara secreta': '$310', 'Harry Potter y el prisionero de Azkaban': '$437'}, {'El Principito': '$230'}, ['A TIME FOR MERCY', 'THE DUKE AND']])\n",
            "Entonces\n",
            "{'Harry Potter y la piedra filosofal': '$450', 'Harry Potter y la cámara secreta': '$310', 'Harry Potter y el prisionero de Azkaban': '$437'}\n",
            "{'El Principito': '$230'}\n",
            "['A TIME FOR MERCY', 'THE DUKE AND']\n",
            "\n",
            ".-.-.-.-.-.-.-..-.-.-.-.-.-.\n",
            "\n",
            "MÉTODO items()\n",
            "dict_items([('J. K. Rowling', {'Harry Potter y la piedra filosofal': '$450', 'Harry Potter y la cámara secreta': '$310', 'Harry Potter y el prisionero de Azkaban': '$437'}), (' Antoine De Saint', {'El Principito': '$230'}), ('best seller', ['A TIME FOR MERCY', 'THE DUKE AND'])])\n",
            "Entonces:\n",
            "('J. K. Rowling', {'Harry Potter y la piedra filosofal': '$450', 'Harry Potter y la cámara secreta': '$310', 'Harry Potter y el prisionero de Azkaban': '$437'})\n",
            "(' Antoine De Saint', {'El Principito': '$230'})\n",
            "('best seller', ['A TIME FOR MERCY', 'THE DUKE AND'])\n"
          ],
          "name": "stdout"
        }
      ]
    },
    {
      "cell_type": "code",
      "metadata": {
        "colab": {
          "base_uri": "https://localhost:8080/"
        },
        "id": "i0M8wF63gZal",
        "outputId": "768d78b3-c40a-4acb-8568-c62e29faf411"
      },
      "source": [
        "# MÉTODOS DE LOS DICCIONARIOS\r\n",
        "  #El tipo de dato Diccionario se llama \"dict\"\r\n",
        "funciones= dir(dict) \r\n",
        "for funcion in funciones:\r\n",
        "  print(funcion)"
      ],
      "execution_count": 4,
      "outputs": [
        {
          "output_type": "stream",
          "text": [
            "__class__\n",
            "__contains__\n",
            "__delattr__\n",
            "__delitem__\n",
            "__dir__\n",
            "__doc__\n",
            "__eq__\n",
            "__format__\n",
            "__ge__\n",
            "__getattribute__\n",
            "__getitem__\n",
            "__gt__\n",
            "__hash__\n",
            "__init__\n",
            "__init_subclass__\n",
            "__iter__\n",
            "__le__\n",
            "__len__\n",
            "__lt__\n",
            "__ne__\n",
            "__new__\n",
            "__reduce__\n",
            "__reduce_ex__\n",
            "__repr__\n",
            "__setattr__\n",
            "__setitem__\n",
            "__sizeof__\n",
            "__str__\n",
            "__subclasshook__\n",
            "clear\n",
            "copy\n",
            "fromkeys\n",
            "get\n",
            "items\n",
            "keys\n",
            "pop\n",
            "popitem\n",
            "setdefault\n",
            "update\n",
            "values\n"
          ],
          "name": "stdout"
        }
      ]
    }
  ]
}