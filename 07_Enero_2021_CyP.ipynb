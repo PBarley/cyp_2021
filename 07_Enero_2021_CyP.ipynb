{
  "nbformat": 4,
  "nbformat_minor": 0,
  "metadata": {
    "colab": {
      "name": "07_Enero_2021_CyP.ipynb",
      "provenance": [],
      "authorship_tag": "ABX9TyMKM4UrVPGEBEdr1/o3lV6W",
      "include_colab_link": true
    },
    "kernelspec": {
      "name": "python3",
      "display_name": "Python 3"
    }
  },
  "cells": [
    {
      "cell_type": "markdown",
      "metadata": {
        "id": "view-in-github",
        "colab_type": "text"
      },
      "source": [
        "<a href=\"https://colab.research.google.com/github/PBarley/cyp_2021/blob/main/07_Enero_2021_CyP.ipynb\" target=\"_parent\"><img src=\"https://colab.research.google.com/assets/colab-badge.svg\" alt=\"Open In Colab\"/></a>"
      ]
    },
    {
      "cell_type": "code",
      "metadata": {
        "colab": {
          "base_uri": "https://localhost:8080/"
        },
        "id": "8A8zPJMO2BFU",
        "outputId": "76ee5ef4-cd74-4f1e-b4a6-be95fe38922a"
      },
      "source": [
        "# EXPLICACIÓN DE LOS ARREGLOS BIDIMENCIONALES\r\n",
        "REN= 3\r\n",
        "COL= 5\r\n",
        "VEC=[ [0 for x in range(COL)] for x in range(REN)]\r\n",
        "print(VEC)\r\n",
        "VEC [1][2]= 15\r\n",
        "print(VEC)\r\n",
        "\r\n",
        "print(\"Automatizar el recorrido del arreglo\")\r\n",
        "for i in range(REN):\r\n",
        "  for j in range(COL):\r\n",
        "    print (f\" {i}, {j}= {VEC [i][j]}\")"
      ],
      "execution_count": 6,
      "outputs": [
        {
          "output_type": "stream",
          "text": [
            "[[0, 0, 0, 0, 0], [0, 0, 0, 0, 0], [0, 0, 0, 0, 0]]\n",
            "[[0, 0, 0, 0, 0], [0, 0, 15, 0, 0], [0, 0, 0, 0, 0]]\n",
            "Automatizar el recorrido del arreglo\n",
            " 0, 0= 0\n",
            " 0, 1= 0\n",
            " 0, 2= 0\n",
            " 0, 3= 0\n",
            " 0, 4= 0\n",
            " 1, 0= 0\n",
            " 1, 1= 0\n",
            " 1, 2= 15\n",
            " 1, 3= 0\n",
            " 1, 4= 0\n",
            " 2, 0= 0\n",
            " 2, 1= 0\n",
            " 2, 2= 0\n",
            " 2, 3= 0\n",
            " 2, 4= 0\n"
          ],
          "name": "stdout"
        }
      ]
    },
    {
      "cell_type": "code",
      "metadata": {
        "colab": {
          "base_uri": "https://localhost:8080/"
        },
        "id": "h9V4OqhYCLZv",
        "outputId": "cfc31bc7-ace7-4bb0-91c3-0064e251f11e"
      },
      "source": [
        "#EJEMPLO 4.6. PÁG.210. FORMA 1\r\n",
        "estados= int (input(\"Cuantos estados son?: \"))\r\n",
        "lluvias_men_est= [ [0 for x in range(12)] for x in range(estados)]\r\n",
        "print(lluvias_men_est)\r\n",
        "\r\n",
        "for i in range(estados):\r\n",
        "  for j in range (12):\r\n",
        "    aux = int (input(f\"Dame el valor del estado {i+1} del mes {j + 1}: \")) # Puede se puede hacer con los comandos:     mensaje= \"Dame el valor del estado \" + str(i+1)+ \" del mes \" +str(j+1)+ \":\"    y    aux= int (input(mensaje)), como el codigo de la forma 2\r\n",
        "    lluvias_men_est [i][j]= aux\r\n",
        "\r\n",
        "print(lluvias_men_est)\r\n",
        "\r\n",
        "print(\"Promedio de lluvias en el estado:\")\r\n",
        "suma=0 #NO ES NECESARIO\r\n",
        "for i in range(estados):\r\n",
        "  suma= 0\r\n",
        "  for j in range(12):\r\n",
        "    suma= suma + lluvias_men_est [i][j]\r\n",
        "  print(f\"El promedio de lluvias en el estado {i+1} es: {suma /12}\")"
      ],
      "execution_count": 19,
      "outputs": [
        {
          "output_type": "stream",
          "text": [
            "Cuantos estados son?: 2\n",
            "[[0, 0, 0, 0, 0, 0, 0, 0, 0, 0, 0, 0], [0, 0, 0, 0, 0, 0, 0, 0, 0, 0, 0, 0]]\n",
            "Dame el valor del estado 1 del mes 1: 50\n",
            "Dame el valor del estado 1 del mes 2: 7\n",
            "Dame el valor del estado 1 del mes 3: 12\n",
            "Dame el valor del estado 1 del mes 4: 15\n",
            "Dame el valor del estado 1 del mes 5: 22\n",
            "Dame el valor del estado 1 del mes 6: 50\n",
            "Dame el valor del estado 1 del mes 7: 85\n",
            "Dame el valor del estado 1 del mes 8: 70\n",
            "Dame el valor del estado 1 del mes 9: 65\n",
            "Dame el valor del estado 1 del mes 10: 28\n",
            "Dame el valor del estado 1 del mes 11: 35\n",
            "Dame el valor del estado 1 del mes 12: 17\n",
            "Dame el valor del estado 2 del mes 1: 45\n",
            "Dame el valor del estado 2 del mes 2: 3\n",
            "Dame el valor del estado 2 del mes 3: 10\n",
            "Dame el valor del estado 2 del mes 4: 5\n",
            "Dame el valor del estado 2 del mes 5: 30\n",
            "Dame el valor del estado 2 del mes 6: 90\n",
            "Dame el valor del estado 2 del mes 7: 130\n",
            "Dame el valor del estado 2 del mes 8: 75\n",
            "Dame el valor del estado 2 del mes 9: 49\n",
            "Dame el valor del estado 2 del mes 10: 37\n",
            "Dame el valor del estado 2 del mes 11: 15\n",
            "Dame el valor del estado 2 del mes 12: 8\n",
            "[[50, 7, 12, 15, 22, 50, 85, 70, 65, 28, 35, 17], [45, 3, 10, 5, 30, 90, 130, 75, 49, 37, 15, 8]]\n",
            "Promedio de lluvias en el estado:\n",
            "El promedio de lluvias en el estado 1 es: 38.0\n",
            "El promedio de lluvias en el estado 2 es: 41.416666666666664\n"
          ],
          "name": "stdout"
        }
      ]
    },
    {
      "cell_type": "code",
      "metadata": {
        "colab": {
          "base_uri": "https://localhost:8080/"
        },
        "id": "Ejw-1LVRLZAz",
        "outputId": "b29c075e-f746-4a4b-b783-406671075fbe"
      },
      "source": [
        "#EJEMPLO 4.6. PÁG.210. FORMA 2\r\n",
        "estados= int (input(\"Cuantos estados son?: \"))\r\n",
        "lluvias_men_est= [ [0 for x in range(12)] for x in range(estados)]\r\n",
        "print(lluvias_men_est)\r\n",
        "\r\n",
        "for i in range(estados):\r\n",
        "  for j in range (12):\r\n",
        "    mensaje= \"Dame el valor del estado \" + str(i+1)+ \" del mes \" +str(j+1)+ \":\"\r\n",
        "    aux= int (input(mensaje))\r\n",
        "    lluvias_men_est [i][j]= aux\r\n",
        "\r\n",
        "print(lluvias_men_est)\r\n",
        "\r\n",
        "print(\"Promedio de lluvias en el estado:\")\r\n",
        "suma=0 #NO ES NECESARIO\r\n",
        "for i in range(estados):\r\n",
        "  suma= 0\r\n",
        "  for j in range(12):\r\n",
        "    suma= suma + lluvias_men_est [i][j]\r\n",
        "  print(f\"El promedio de lluvias en el estado {i+1} es: {suma /12}\")"
      ],
      "execution_count": 17,
      "outputs": [
        {
          "output_type": "stream",
          "text": [
            "Cuantos estados son?: 2\n",
            "[[0, 0, 0, 0, 0, 0, 0, 0, 0, 0, 0, 0], [0, 0, 0, 0, 0, 0, 0, 0, 0, 0, 0, 0]]\n",
            "Dame el valor del estado 1 del mes 1:50\n",
            "Dame el valor del estado 1 del mes 2:7\n",
            "Dame el valor del estado 1 del mes 3:12\n",
            "Dame el valor del estado 1 del mes 4:15\n",
            "Dame el valor del estado 1 del mes 5:22\n",
            "Dame el valor del estado 1 del mes 6:50\n",
            "Dame el valor del estado 1 del mes 7:85\n",
            "Dame el valor del estado 1 del mes 8:70\n",
            "Dame el valor del estado 1 del mes 9:65\n",
            "Dame el valor del estado 1 del mes 10:28\n",
            "Dame el valor del estado 1 del mes 11:35\n",
            "Dame el valor del estado 1 del mes 12:17\n",
            "Dame el valor del estado 2 del mes 1:45\n",
            "Dame el valor del estado 2 del mes 2:3\n",
            "Dame el valor del estado 2 del mes 3:10\n",
            "Dame el valor del estado 2 del mes 4:5\n",
            "Dame el valor del estado 2 del mes 5:30\n",
            "Dame el valor del estado 2 del mes 6:90\n",
            "Dame el valor del estado 2 del mes 7:130\n",
            "Dame el valor del estado 2 del mes 8:75\n",
            "Dame el valor del estado 2 del mes 9:49\n",
            "Dame el valor del estado 2 del mes 10:37\n",
            "Dame el valor del estado 2 del mes 11:15\n",
            "Dame el valor del estado 2 del mes 12:8\n",
            "[[50, 7, 12, 15, 22, 50, 85, 70, 65, 28, 35, 17], [45, 3, 10, 5, 30, 90, 130, 75, 49, 37, 15, 8]]\n",
            "Promedio de lluvias en el estado:\n",
            "El promedio de lluvias en el estado 1 es: 38.0\n",
            "El promedio de lluvias en el estado 2 es: 41.416666666666664\n"
          ],
          "name": "stdout"
        }
      ]
    }
  ]
}