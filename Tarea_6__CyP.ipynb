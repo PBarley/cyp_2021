{
  "nbformat": 4,
  "nbformat_minor": 0,
  "metadata": {
    "colab": {
      "name": "Tarea 6_ CyP.ipynb",
      "provenance": [],
      "authorship_tag": "ABX9TyP7dnWdyEb9jj1JTM8NFf9A",
      "include_colab_link": true
    },
    "kernelspec": {
      "name": "python3",
      "display_name": "Python 3"
    }
  },
  "cells": [
    {
      "cell_type": "markdown",
      "metadata": {
        "id": "view-in-github",
        "colab_type": "text"
      },
      "source": [
        "<a href=\"https://colab.research.google.com/github/PBarley/cyp_2021/blob/main/Tarea_6__CyP.ipynb\" target=\"_parent\"><img src=\"https://colab.research.google.com/assets/colab-badge.svg\" alt=\"Open In Colab\"/></a>"
      ]
    },
    {
      "cell_type": "code",
      "metadata": {
        "colab": {
          "base_uri": "https://localhost:8080/"
        },
        "id": "oWboa48EptFW",
        "outputId": "8f5cb7e3-b1d4-4d44-f3b7-5b3c84f7eb79"
      },
      "source": [
        "# EJERCICIO 3.3. PÁG. 124. CON FOR\r\n",
        "\r\n",
        "N= 0\r\n",
        "serie= 0\r\n",
        "band= True \r\n",
        "I=1\r\n",
        "\r\n",
        "\r\n",
        "N= int (input (\"Ingresa el valor de terminos en la serie a sumar: \"))\r\n",
        "# Ya que el rango comenzará de 0, y entonce eso provoaría que la división de la línea 14 se indefinida, sumamos 1 al valor de N y hacemos el rago desde 1 hata N.\r\n",
        "N= N+1\r\n",
        "for I in range (1 , N):\r\n",
        "  if band == True:\r\n",
        "    serie= serie + (1/I)\r\n",
        "    band= False \r\n",
        "  else:\r\n",
        "    serie = serie - (1/I)\r\n",
        "    band= True\r\n",
        "  I= I + 1\r\n",
        "print(f\"El resultado de los términos de la serie es:  {serie}\") "
      ],
      "execution_count": null,
      "outputs": [
        {
          "output_type": "stream",
          "text": [
            "Ingresa el valor de terminos en la serie a sumar: 9\n",
            "El resultado de los términos de la serie es:  0.7456349206349207\n"
          ],
          "name": "stdout"
        }
      ]
    },
    {
      "cell_type": "code",
      "metadata": {
        "colab": {
          "base_uri": "https://localhost:8080/"
        },
        "id": "7AydTuY_m5Yq",
        "outputId": "9ea6c92f-09a7-4368-aaf1-fa38fa975b55"
      },
      "source": [
        "# EJERCICIO 3.4. PÁG.126. WHILE\r\n",
        "\r\n",
        "nue_sueldo= 0\r\n",
        "nom= 0\r\n",
        "i=1\r\n",
        "\r\n",
        "sueldo= float (input(f\"Dame el sueldo {i}: \"))\r\n",
        "while (sueldo != -1):\r\n",
        "  if sueldo < 1000:\r\n",
        "    nue_sueldo= sueldo * 1.15\r\n",
        "  else: \r\n",
        "    nue_sueldo= sueldo * 1.12\r\n",
        "  nom= nom + nue_sueldo\r\n",
        "  print(f\"El nuevo sueldo de trabajador {1} es: ${nue_sueldo}\")\r\n",
        "  i= i+1\r\n",
        "  sueldo= float (input(f\"Ingresa el sueldo {i} (si ya no hay más sueldo que calcular ingrsa -1):\"))  \r\n",
        "print(f\"La nómina de la empresa asciende a: ${nom}\")\r\n"
      ],
      "execution_count": null,
      "outputs": [
        {
          "output_type": "stream",
          "text": [
            "Dame el sueldo 1: 855\n",
            "El nuevo sueldo de trabajador 1 es: $983.2499999999999\n",
            "Ingresa el sueldo 2 (si ya no hay más sueldo que calcular ingrsa -1):760.32\n",
            "El nuevo sueldo de trabajador 1 es: $874.3679999999999\n",
            "Ingresa el sueldo 3 (si ya no hay más sueldo que calcular ingrsa -1):1100.20\n",
            "El nuevo sueldo de trabajador 1 es: $1232.2240000000002\n",
            "Ingresa el sueldo 4 (si ya no hay más sueldo que calcular ingrsa -1):614\n",
            "El nuevo sueldo de trabajador 1 es: $706.0999999999999\n",
            "Ingresa el sueldo 5 (si ya no hay más sueldo que calcular ingrsa -1):2600\n",
            "El nuevo sueldo de trabajador 1 es: $2912.0000000000005\n",
            "Ingresa el sueldo 6 (si ya no hay más sueldo que calcular ingrsa -1):817.50\n",
            "El nuevo sueldo de trabajador 1 es: $940.1249999999999\n",
            "Ingresa el sueldo 7 (si ya no hay más sueldo que calcular ingrsa -1):1280.30\n",
            "El nuevo sueldo de trabajador 1 es: $1433.9360000000001\n",
            "Ingresa el sueldo 8 (si ya no hay más sueldo que calcular ingrsa -1):687\n",
            "El nuevo sueldo de trabajador 1 es: $790.05\n",
            "Ingresa el sueldo 9 (si ya no hay más sueldo que calcular ingrsa -1):-1\n",
            "La nómina de la empresa haciende a: $9872.053\n"
          ],
          "name": "stdout"
        }
      ]
    },
    {
      "cell_type": "code",
      "metadata": {
        "colab": {
          "base_uri": "https://localhost:8080/"
        },
        "id": "6KEVFUce0W2b",
        "outputId": "85fe45a3-a846-46c0-8da1-596b320c8089"
      },
      "source": [
        "# EJERCICIO 3.5. PÁG.129. FOR\r\n",
        "\r\n",
        "# N= La cantidad de datos a ingresar\r\n",
        "N= 0\r\n",
        "# num= el número que el usuario ingresará\r\n",
        "num= 0\r\n",
        "# num_pos= La variable que llevará la cuenta de los números positivos y mayores a cero\r\n",
        "num_pos=0\r\n",
        "# sum_p= La variable que registrará la suma de los números positivos mayores a cero\r\n",
        "sum_p=0\r\n",
        "# sum_n= La variable que registrará la suma de los números negativo e iguales a cero\r\n",
        "sum_n= 0\r\n",
        "#prom_pos= La variable que guardará el valor del promedio de los números positivos y mayores a cero\r\n",
        "prom_pos= 0\r\n",
        "#prom_total= La varible que registrará el promedio total de los valores ingresados\r\n",
        "prom_total= 0\r\n",
        "\r\n",
        "N= int (input(\"¿Cuántos números ingresará?: \"))\r\n",
        "\r\n",
        "for i in range (N):\r\n",
        "  i= i +1\r\n",
        "  num= int (input(f\"Ingresa el número {i}: \"))\r\n",
        "  if num > 0:\r\n",
        "    num_pos= num_pos + 1\r\n",
        "    sum_p= sum_p + num\r\n",
        "  else:\r\n",
        "    sum_n= sum_n + num\r\n",
        "prom_pos= sum_p / num_pos\r\n",
        "prom_total= (sum_p + sum_n) / N\r\n",
        "\r\n",
        "print(f\"El número de valores positivos es: {num_pos}\")\r\n",
        "print(f\"El promedio de los valores positivos es: {prom_pos}\")\r\n",
        "print(f\"El promedio total de los números es: {prom_total}\")"
      ],
      "execution_count": null,
      "outputs": [
        {
          "output_type": "stream",
          "text": [
            "¿Cuántos números ingresará?: 20\n",
            "Ingresa el número 1: 7\n",
            "Ingresa el número 2: 12\n",
            "Ingresa el número 3: 0\n",
            "Ingresa el número 4: 6\n",
            "Ingresa el número 5: 11\n",
            "Ingresa el número 6: -3\n",
            "Ingresa el número 7: 17\n",
            "Ingresa el número 8: 12\n",
            "Ingresa el número 9: 19\n",
            "Ingresa el número 10: 0\n",
            "Ingresa el número 11: 11\n",
            "Ingresa el número 12: 4\n",
            "Ingresa el número 13: -5\n",
            "Ingresa el número 14: -1\n",
            "Ingresa el número 15: 0\n",
            "Ingresa el número 16: 3\n",
            "Ingresa el número 17: 24\n",
            "Ingresa el número 18: 0\n",
            "Ingresa el número 19: 3\n",
            "Ingresa el número 20: -16\n",
            "El número de valores positivos es: 12\n",
            "El promedio de los valores positivos es: 10.75\n",
            "El promedio total de los números es: 5.2\n"
          ],
          "name": "stdout"
        }
      ]
    },
    {
      "cell_type": "code",
      "metadata": {
        "colab": {
          "base_uri": "https://localhost:8080/"
        },
        "id": "qm95oEmF80vs",
        "outputId": "9d2e7895-935e-4bdf-a841-7f55c154df3c"
      },
      "source": [
        "# EJERCICIO 3.6. PÁG.132. FOR\r\n",
        "\r\n",
        "# N= La cantidad de datos a ingresar\r\n",
        "N= 0\r\n",
        "# num= el número que el usuario ingresará\r\n",
        "num= 0\r\n",
        "num_may= -100000\r\n",
        "num_men= 100000\r\n",
        "num_NumMay= 0\r\n",
        "num_numMen= 0\r\n",
        "\r\n",
        "N= int (input(\"¿Cuántos números ingresará?: \"))\r\n",
        "\r\n",
        "for i in range (N):\r\n",
        "  i= i +1\r\n",
        "  num= int (input(f\"Ingresa el número {i}:\"))\r\n",
        "  if num > num_may:\r\n",
        "    num_may= num\r\n",
        "    num_NumMay= i\r\n",
        "  else:\r\n",
        "    if num < num_men:\r\n",
        "      num_men= num\r\n",
        "      num_numMen= i\r\n",
        "print(f\"El mayor es el número {num_NumMay}: {num_may}\")\r\n",
        "print(f\"Y el menor es el número {num_numMen}: {num_men}\")"
      ],
      "execution_count": null,
      "outputs": [
        {
          "output_type": "stream",
          "text": [
            "¿Cuántos números ingresará?: 12\n",
            "Ingresa el número 1:170\n",
            "Ingresa el número 2:44\n",
            "Ingresa el número 3:815\n",
            "Ingresa el número 4:1700\n",
            "Ingresa el número 5:38\n",
            "Ingresa el número 6:140\n",
            "Ingresa el número 7:380\n",
            "Ingresa el número 8:1020\n",
            "Ingresa el número 9:116\n",
            "Ingresa el número 10:14\n",
            "Ingresa el número 11:730\n",
            "Ingresa el número 12:960\n",
            "El mayor es el número 4: 1700\n",
            "Y el menor es el número 10: 14\n"
          ],
          "name": "stdout"
        }
      ]
    },
    {
      "cell_type": "code",
      "metadata": {
        "colab": {
          "base_uri": "https://localhost:8080/"
        },
        "id": "8_Q9F9P-Ko6o",
        "outputId": "e6f7e08f-936a-41e3-86c6-fe06c782cc05"
      },
      "source": [
        "# EJERCICIO 3.7. PÁG.135. FOR\r\n",
        "\r\n",
        "# N= El número total de ventas \r\n",
        "N= 0\r\n",
        "# prec= el precio de la venta \"i\"\r\n",
        "prec= 0\r\n",
        "# May= La variable que registra el número de precios mayores o iguales a $400\r\n",
        "may= 0\r\n",
        "# Med= La variable que registra el número de precios mayores a $200 y menores a $400\r\n",
        "med= 0\r\n",
        "# men= La variable que registra el número de precios menores o iguales a $200\r\n",
        "men= 0\r\n",
        "\r\n",
        "N= int (input(\"¿Cuántos números ingresará?: \"))\r\n",
        "\r\n",
        "for i in range (N):\r\n",
        "  i= i +1\r\n",
        "  prec= float (input(f\"Ingrese el precio del producto {i}: \"))\r\n",
        "  if prec <=200: #La estructura se puede cambiar por un if... Elif... Else...? \r\n",
        "    men= men + 1\r\n",
        "  else:\r\n",
        "    if prec >200 and prec <400:\r\n",
        "      med= med + 1\r\n",
        "    else:\r\n",
        "      may= may + 1 #Si doy por hecho que esto es corrcto hay un margen de error?\r\n",
        "print(f\"La cantidad de precios mayores o iguales a $400 es: {may}\")\r\n",
        "print(f\"La cantidad de precios mayores a $200 y menores a $400 es: {med}\")\r\n",
        "print(f\"La cantidad de precios menores o iguales a $200 es: {men}\")"
      ],
      "execution_count": null,
      "outputs": [
        {
          "output_type": "stream",
          "text": [
            "¿Cuántos números ingresará?: 12\n",
            "Ingrese el precio del producto 1: 180.25\n",
            "Ingrese el precio del producto 2: 470.30\n",
            "Ingrese el precio del producto 3: 150.25\n",
            "Ingrese el precio del producto 4: 88.60\n",
            "Ingrese el precio del producto 5: 230.15\n",
            "Ingrese el precio del producto 6: 170.20\n",
            "Ingrese el precio del producto 7: 40.30\n",
            "Ingrese el precio del producto 8: 201.90\n",
            "Ingrese el precio del producto 9: 60.32\n",
            "Ingrese el precio del producto 10: 280.30\n",
            "Ingrese el precio del producto 11: 15.70\n",
            "Ingrese el precio del producto 12: 140.20\n",
            "La cantidad de precios mayores o iguales a $400 es: 1\n",
            "La cantidad de precios mayores a $200 y menores a $400 es: 3\n",
            "La cantidad de precios menores o iguales a $200 es: 8\n"
          ],
          "name": "stdout"
        }
      ]
    },
    {
      "cell_type": "code",
      "metadata": {
        "colab": {
          "base_uri": "https://localhost:8080/"
        },
        "id": "h3Y27Mw-TNTR",
        "outputId": "f9342011-3ccb-4cb9-a368-be878009306a"
      },
      "source": [
        "# EJERCICIO 3.8. ULAM.    PÁG.138. WHILE\r\n",
        "\r\n",
        "num=0\r\n",
        "\r\n",
        "num= int (input(\"Ingresa el número del cual desaeas conocer la sucesión de Ulam: \"))\r\n",
        "\r\n",
        "if num > 0:\r\n",
        "  while (num != 1):\r\n",
        "    print(num)\r\n",
        "    if (num % 2) == 0:  #Tambie se puede usar:  ((-1) ** num) > 0  \r\n",
        "      num= num / 2\r\n",
        "    else:\r\n",
        "      num= (num * 3) + 1\r\n",
        "  print(num)\r\n",
        "else:\r\n",
        "  print(\"El número debe ser un entero positivo\")      \r\n"
      ],
      "execution_count": null,
      "outputs": [
        {
          "output_type": "stream",
          "text": [
            "Ingresa el número del cual desaeas conocer la sucesión de Ulam: 25\n",
            "25\n",
            "76\n",
            "38.0\n",
            "19.0\n",
            "58.0\n",
            "29.0\n",
            "88.0\n",
            "44.0\n",
            "22.0\n",
            "11.0\n",
            "34.0\n",
            "17.0\n",
            "52.0\n",
            "26.0\n",
            "13.0\n",
            "40.0\n",
            "20.0\n",
            "10.0\n",
            "5.0\n",
            "16.0\n",
            "8.0\n",
            "4.0\n",
            "2.0\n",
            "1.0\n"
          ],
          "name": "stdout"
        }
      ]
    },
    {
      "cell_type": "code",
      "metadata": {
        "colab": {
          "base_uri": "https://localhost:8080/"
        },
        "id": "6dIiZyEBixA7",
        "outputId": "b3005fd0-bc73-4e0e-d1f8-bfbdac9e368c"
      },
      "source": [
        "# EJERCICIO 3.9. PÁG. 140 CON FOR\r\n",
        "\r\n",
        "N=0\r\n",
        "serie= 0\r\n",
        "\r\n",
        "N= int (input (\"Ingresa la cantidad de terminos en la serie a sumar: \"))\r\n",
        "for i in range (N):\r\n",
        "  i= i + 1\r\n",
        "  serie= serie + (i**i)\r\n",
        "print(\"El resultado de la serie es: \", serie)"
      ],
      "execution_count": null,
      "outputs": [
        {
          "output_type": "stream",
          "text": [
            "Ingresa la cantidad de terminos en la serie a sumar: 8\n",
            "El resultado de la serie es:  17650828\n"
          ],
          "name": "stdout"
        }
      ]
    },
    {
      "cell_type": "code",
      "metadata": {
        "colab": {
          "base_uri": "https://localhost:8080/"
        },
        "id": "1Mg0eKflvR5e",
        "outputId": "81009aa9-76e5-477e-de72-c97eeb29f212"
      },
      "source": [
        "# EJERCICIO 3.10. FIBONACCI.   PÁG.142   CON FOR\r\n",
        "\r\n",
        "pri= 0\r\n",
        "seg= 1\r\n",
        "i= 3\r\n",
        "\r\n",
        "for i in range (2, 179):\r\n",
        "  num_sig= pri + seg\r\n",
        "  pri= seg\r\n",
        "  seg= num_sig\r\n",
        "\r\n",
        "print(f\"El número de la posicion 180 es: {num_sig}\")\r\n"
      ],
      "execution_count": null,
      "outputs": [
        {
          "output_type": "stream",
          "text": [
            "El número de la posicion 180 es: 7084593923980518516849609894969925639\n"
          ],
          "name": "stdout"
        }
      ]
    },
    {
      "cell_type": "code",
      "metadata": {
        "id": "O3HgE9HdlPiL",
        "colab": {
          "base_uri": "https://localhost:8080/"
        },
        "outputId": "ae170318-6233-4dd5-ea9b-d810a22a2a22"
      },
      "source": [
        "# EJERCICIO 3.10. Comprobación con una posición más sencilla\r\n",
        "\r\n",
        "pri= 0\r\n",
        "seg= 1\r\n",
        "i= 3\r\n",
        "\r\n",
        "posicion= int (input(\"Qué posicion desea calcular?\"))\r\n",
        "for i in range (2, posicion):\r\n",
        "  i= i+1\r\n",
        "  num_sig= pri + seg\r\n",
        "  pri= seg\r\n",
        "  seg= num_sig\r\n",
        "\r\n",
        "print(f\"El número de la posicion {i} es: {num_sig}\")\r\n"
      ],
      "execution_count": null,
      "outputs": [
        {
          "output_type": "stream",
          "text": [
            "Qué posicion desea calcular?8\n",
            "El número de la posicion 8 es: 13\n"
          ],
          "name": "stdout"
        }
      ]
    },
    {
      "cell_type": "code",
      "metadata": {
        "colab": {
          "base_uri": "https://localhost:8080/"
        },
        "id": "LAUplt5xvmoH",
        "outputId": "639434a0-a238-47eb-903a-696c136c5ef0"
      },
      "source": [
        "# EJERCICO 3.11. PÁG.144. WHILE\r\n",
        "\r\n",
        "cand_1= 0\r\n",
        "cand_2= 0\r\n",
        "cand_3= 0\r\n",
        "cand_4= 0\r\n",
        "voto=0\r\n",
        "vot_total= 0\r\n",
        "por_c1= 0\r\n",
        "por_c2= 0\r\n",
        "por_c3= 0\r\n",
        "por_c4= 0\r\n",
        "i=1\r\n",
        "\r\n",
        "voto= int (input(\"Ingresa el primer voto: \"))\r\n",
        "\r\n",
        "while (voto != 0):\r\n",
        "  i= i + 1\r\n",
        "  if voto == 1:\r\n",
        "    cand_1= cand_1 + 1\r\n",
        "  else:\r\n",
        "    if voto == 2:\r\n",
        "      cand_2= cand_2 + 1\r\n",
        "    else:\r\n",
        "      if voto == 3:\r\n",
        "        cand_3= cand_3+1\r\n",
        "      else:\r\n",
        "        if voto == 4:\r\n",
        "          cand_4 = cand_4 + 1\r\n",
        "        else:\r\n",
        "          print(\"No es posible registrar este voto, ya que no es valido\")\r\n",
        "  voto= int (input(f\"Ingresa el voto {i}: \"))\r\n",
        "i= i - 1\r\n",
        "vot_total= cand_1 + cand_2 + cand_3 + cand_4 # Despues de hacer i= i - 1, lo puedes sustituir en lugar de hacer la suma de los votos por cada candidato\r\n",
        "por_c1= (cand_1 * 100) / vot_total\r\n",
        "por_c2= (cand_2 * 100) / vot_total\r\n",
        "por_c3= (cand_3 * 100) / vot_total\r\n",
        "por_c4= (cand_4 * 100) / vot_total\r\n",
        "print(f\"Se registraron {i} votos de los cuales: \")\r\n",
        "print(f\"El {por_c1}%  con {cand_1} votos son para el Candidato 1\")\r\n",
        "print(f\"El {por_c2}%  con {cand_2} votos son para el Candidato 2\")\r\n",
        "print(f\"El {por_c3}%  con {cand_3} votos son para el Candidato 3\")\r\n",
        "print(f\"El {por_c4}%  con {cand_4} votos son para el Candidato 4\")"
      ],
      "execution_count": null,
      "outputs": [
        {
          "output_type": "stream",
          "text": [
            "Ingresa el primer voto: 1\n",
            "Ingresa el voto 2: 1\n",
            "Ingresa el voto 3: 2\n",
            "Ingresa el voto 4: 1\n",
            "Ingresa el voto 5: 3\n",
            "Ingresa el voto 6: 1\n",
            "Ingresa el voto 7: 1\n",
            "Ingresa el voto 8: 2\n",
            "Ingresa el voto 9: 4\n",
            "Ingresa el voto 10: 4\n",
            "Ingresa el voto 11: 3\n",
            "Ingresa el voto 12: 1\n",
            "Ingresa el voto 13: 1\n",
            "Ingresa el voto 14: 2\n",
            "Ingresa el voto 15: 3\n",
            "Ingresa el voto 16: 1\n",
            "Ingresa el voto 17: 4\n",
            "Ingresa el voto 18: 1\n",
            "Ingresa el voto 19: 2\n",
            "Ingresa el voto 20: 1\n",
            "Ingresa el voto 21: 2\n",
            "Ingresa el voto 22: 4\n",
            "Ingresa el voto 23: 4\n",
            "Ingresa el voto 24: 2\n",
            "Ingresa el voto 25: 1\n",
            "Ingresa el voto 26: 0\n",
            "Se registraron 25 votos de los cuales: \n",
            "El 44.0%  con 11 votos son para el Candidato 1\n",
            "El 24.0%  con 6 votos son para el Candidato 2\n",
            "El 12.0%  con 3 votos son para el Candidato 3\n",
            "El 20.0%  con 5 votos son para el Candidato 4\n"
          ],
          "name": "stdout"
        }
      ]
    },
    {
      "cell_type": "code",
      "metadata": {
        "colab": {
          "base_uri": "https://localhost:8080/"
        },
        "id": "9YzYzPQG317K",
        "outputId": "881ce119-8c48-4b46-90f9-d2a846c71219"
      },
      "source": [
        "# EJERCICIO 3.12. PÁG. 147 CON FOR\r\n",
        "\r\n",
        "N= 0\r\n",
        "mayor_sueldo= 0\r\n",
        "mayor_num_emp= 0\r\n",
        "num_emple= 0\r\n",
        "sue_emple= 0\r\n",
        "i= 1\r\n",
        "\r\n",
        "N= int (input(\"Cuántos empleados hay en la empresa?: \"))\r\n",
        "for i in range (N):\r\n",
        "  num_emple= int (input(\"Cuál es el número del empleado?: \"))\r\n",
        "  sue_emple= float (input(f\"Cuál es el sueldo del empleado {num_emple}: \"))\r\n",
        "  if sue_emple > mayor_sueldo:\r\n",
        "    mayor_sueldo= sue_emple\r\n",
        "    mayor_num_emp= num_emple\r\n",
        "print(f\"El mayor sueldo es de: $ {mayor_sueldo}   Correspondiente al empleado: {mayor_num_emp}\")  "
      ],
      "execution_count": null,
      "outputs": [
        {
          "output_type": "stream",
          "text": [
            "Cuántos empleados hay en la empresa?: 6\n",
            "Cuál es el número del empleado?: 1235\n",
            "Cuál es el sueldo del empleado 1235: 2580\n",
            "Cuál es el número del empleado?: 1260\n",
            "Cuál es el sueldo del empleado 1260: 1400\n",
            "Cuál es el número del empleado?: 1325\n",
            "Cuál es el sueldo del empleado 1325: 3600\n",
            "Cuál es el número del empleado?: 1418\n",
            "Cuál es el sueldo del empleado 1418: 2720\n",
            "Cuál es el número del empleado?: 1650\n",
            "Cuál es el sueldo del empleado 1650: 4120\n",
            "Cuál es el número del empleado?: 1717\n",
            "Cuál es el sueldo del empleado 1717: 1950\n",
            "El mayor sueldo es de: $ 4120.0   Correspondiente al empleado: 1650\n"
          ],
          "name": "stdout"
        }
      ]
    },
    {
      "cell_type": "code",
      "metadata": {
        "colab": {
          "base_uri": "https://localhost:8080/"
        },
        "id": "rrCooO92hNOO",
        "outputId": "904ff072-c361-4a69-cfc1-9a0fa9058550"
      },
      "source": [
        "# EJERCICIO 3.13. PÁG. 150 CON FOR\r\n",
        "\r\n",
        "men_reg_no= 0\r\n",
        "men_reg_ce= 0\r\n",
        "men_reg_sur= 0\r\n",
        "anu_reg_no= 0\r\n",
        "anu_reg_ce= 0\r\n",
        "anu_reg_sur= 0\r\n",
        "prom_anu_ce= 0\r\n",
        "menor_mes_sur= 0\r\n",
        "regis_me_mes_sur= 50000 \r\n",
        "\r\n",
        "for i in range (1, 13):\r\n",
        "  # Se lee las cantidad de lluvia en cada mes\r\n",
        "  men_reg_no= int (input(f\"Cuantas lluvias hubo en el {i} mes en la región norte?: \"))\r\n",
        "  men_reg_ce= int (input(f\"Cuantas lluvias hubo en el {i} mes en la región centro?: \"))\r\n",
        "  men_reg_sur= int (input(f\"Cuantas lluvias hubo en el {i} mes en la región sur?: \"))\r\n",
        "\r\n",
        "  # Se realiza el registro anual de lluvias en cada región\r\n",
        "  anu_reg_no= anu_reg_no + men_reg_no\r\n",
        "  anu_reg_ce= anu_reg_ce + men_reg_ce\r\n",
        "  anu_reg_sur= anu_reg_sur + men_reg_sur\r\n",
        "\r\n",
        "  # Calculamos el mes y registro con menor lluvia de la región sur.\r\n",
        "  if men_reg_sur < regis_me_mes_sur:\r\n",
        "    regis_me_mes_sur = men_reg_sur\r\n",
        "    menor_mes_sur= i\r\n",
        "\r\n",
        "# Calculamos el promedio anual de la región sur\r\n",
        "prom_anu_ce = (anu_reg_ce) / 12\r\n",
        "\r\n",
        "# Una línea para separa los datos de la información final. La coloco aquí, porque inmediatamente con los sig. comandos, ya se imprimen las respuestas.\r\n",
        "print(\"----------------------------\")\r\n",
        "\r\n",
        "# Mostramos los  datos guardados en las variables:\r\n",
        "print(f\"El promedio anual de la región CENTRO es: {prom_anu_ce}\")\r\n",
        "print(f\"El mes con menor lluvia en la región SUR es: {menor_mes_sur}    Con un registro de: {regis_me_mes_sur} lluvias\")\r\n",
        "\r\n",
        "# Determinamos cual es la mayor región con lluvias anuales y lo mostramos al usuario:\r\n",
        "if anu_reg_no > anu_reg_ce:\r\n",
        "  if anu_reg_no > anu_reg_sur:\r\n",
        "    print(\"La región con mayor lluvia anual es la NORTE\")\r\n",
        "  else:\r\n",
        "    print(\"La región con mayor lluvia anual es la SUR\")\r\n",
        "else: \r\n",
        "  if anu_reg_ce > anu_reg_sur:\r\n",
        "    print(\"La región con mayor lluvia anual es la CENTRO\")\r\n",
        "  else:\r\n",
        "    print(\"La región con mayor lluvia anual es la SUR\")\r\n",
        "\r\n"
      ],
      "execution_count": null,
      "outputs": [
        {
          "output_type": "stream",
          "text": [
            "Cuantas lluvias hubo en el 1 mes en la región norte?: 80\n",
            "Cuantas lluvias hubo en el 1 mes en la región centro?: 70\n",
            "Cuantas lluvias hubo en el 1 mes en la región sur?: 170\n",
            "Cuantas lluvias hubo en el 2 mes en la región norte?: 60\n",
            "Cuantas lluvias hubo en el 2 mes en la región centro?: 85\n",
            "Cuantas lluvias hubo en el 2 mes en la región sur?: 100\n",
            "Cuantas lluvias hubo en el 3 mes en la región norte?: 120\n",
            "Cuantas lluvias hubo en el 3 mes en la región centro?: 100\n",
            "Cuantas lluvias hubo en el 3 mes en la región sur?: 185\n",
            "Cuantas lluvias hubo en el 4 mes en la región norte?: 100\n",
            "Cuantas lluvias hubo en el 4 mes en la región centro?: 90\n",
            "Cuantas lluvias hubo en el 4 mes en la región sur?: 88\n",
            "Cuantas lluvias hubo en el 5 mes en la región norte?: 70\n",
            "Cuantas lluvias hubo en el 5 mes en la región centro?: 82\n",
            "Cuantas lluvias hubo en el 5 mes en la región sur?: 80\n",
            "Cuantas lluvias hubo en el 6 mes en la región norte?: 150\n",
            "Cuantas lluvias hubo en el 6 mes en la región centro?: 130\n",
            "Cuantas lluvias hubo en el 6 mes en la región sur?: 122\n",
            "Cuantas lluvias hubo en el 7 mes en la región norte?: 100\n",
            "Cuantas lluvias hubo en el 7 mes en la región centro?: 95\n",
            "Cuantas lluvias hubo en el 7 mes en la región sur?: 67\n",
            "Cuantas lluvias hubo en el 8 mes en la región norte?: 47\n",
            "Cuantas lluvias hubo en el 8 mes en la región centro?: 38\n",
            "Cuantas lluvias hubo en el 8 mes en la región sur?: 55\n",
            "Cuantas lluvias hubo en el 9 mes en la región norte?: 95\n",
            "Cuantas lluvias hubo en el 9 mes en la región centro?: 115\n",
            "Cuantas lluvias hubo en el 9 mes en la región sur?: 110\n",
            "Cuantas lluvias hubo en el 10 mes en la región norte?: 70\n",
            "Cuantas lluvias hubo en el 10 mes en la región centro?: 62\n",
            "Cuantas lluvias hubo en el 10 mes en la región sur?: 83\n",
            "Cuantas lluvias hubo en el 11 mes en la región norte?: 100\n",
            "Cuantas lluvias hubo en el 11 mes en la región centro?: 87\n",
            "Cuantas lluvias hubo en el 11 mes en la región sur?: 107\n",
            "Cuantas lluvias hubo en el 12 mes en la región norte?: 130\n",
            "Cuantas lluvias hubo en el 12 mes en la región centro?: 103\n",
            "Cuantas lluvias hubo en el 12 mes en la región sur?: 148\n",
            "----------------------------\n",
            "El promedio anual de la región CENTRO es: 88.08333333333333\n",
            "El mes con menor lluvia en la región SUR es: 8    Con un registro de: 55 lluvias\n",
            "La región con mayor lluvia anual es la SUR\n"
          ],
          "name": "stdout"
        }
      ]
    },
    {
      "cell_type": "code",
      "metadata": {
        "colab": {
          "base_uri": "https://localhost:8080/"
        },
        "id": "6xpgwKUyuXoO",
        "outputId": "57182c36-f211-4e9b-e5df-e75dee8c3b61"
      },
      "source": [
        "# EJERCICIO 3.14.    PÁG.154. WHILE\r\n",
        "\r\n",
        "#p= precio de los boletos dependiendo de la sección\r\n",
        "p1= 0\r\n",
        "p2= 0\r\n",
        "p3= 0\r\n",
        "p4= 0\r\n",
        "p5= 0\r\n",
        "#Localidad donde el cliente compra sus boletos\r\n",
        "clave= 0\r\n",
        "#cantidad= cuantos boletos son (en cada compra)\r\n",
        "cantidad= 0\r\n",
        "# cant#= cantidad total de boletos por localidad\r\n",
        "cant1= 0\r\n",
        "cant2= 0\r\n",
        "cant3= 0\r\n",
        "cant4= 0\r\n",
        "cant5= 0\r\n",
        "# importe= lo que se debe pagar por venta\r\n",
        "importe= 0\r\n",
        "#recaud= la cantidad total de todas la ventas \r\n",
        "recaud= 0\r\n",
        "\r\n",
        "p1= float (input(\"Ingresa el precio de la localidad 1: \"))\r\n",
        "p2= float (input(\"Ingresa el precio de la localidad 2: \"))\r\n",
        "p3= float (input(\"Ingresa el precio de la localidad 3: \"))\r\n",
        "p4= float (input(\"Ingresa el precio de la localidad 4: \"))\r\n",
        "p5= float (input(\"Ingresa el precio de la localidad 5: \"))\r\n",
        "\r\n",
        "print(\"Bienvenido al estadio\")\r\n",
        "clave= int (input(\"En localidad le gustaria adquirir sus boletos?: \"))\r\n",
        "cantidad= int (input(\"Cuántos boletos desea adquirir?: \"))\r\n",
        "\r\n",
        "while (clave != -1 and cantidad != -1):\r\n",
        "  if clave == 1:\r\n",
        "    importe= cantidad * p1\r\n",
        "    cant1= cant1 + cantidad\r\n",
        "    recaud= recaud + importe\r\n",
        "    print(f\"Sus boletos están en la localidad {clave}.  Son {cantidad} boletos con un importe total de: {importe}.\")\r\n",
        "  else:\r\n",
        "    if clave == 2:\r\n",
        "      importe= cantidad * p2\r\n",
        "      cant2= cant2 + cantidad\r\n",
        "      recaud= recaud + importe\r\n",
        "      print(f\"Sus boletos están en la localidad {clave}.  Son {cantidad} boletos con un importe total de: {importe}.\")\r\n",
        "    else:\r\n",
        "      if clave == 3:\r\n",
        "       importe = cantidad * p3\r\n",
        "       cant3= cant3 + cantidad\r\n",
        "       recaud= recaud + importe\r\n",
        "       print(f\"Sus boletos están en la localidad {clave}.  Son {cantidad} boletos con un importe total de: {importe}.\")\r\n",
        "      else:\r\n",
        "        if clave == 4:\r\n",
        "         importe= cantidad * p4\r\n",
        "         cant4= cant4 + cantidad\r\n",
        "         recaud= recaud + importe\r\n",
        "         print(f\"Sus boletos están en la localidad {clave}.  Son {cantidad} boletos con un importe total de: {importe}.\")\r\n",
        "        else:\r\n",
        "          importe= cantidad * p5\r\n",
        "          cant5= cant5 + cantidad\r\n",
        "          recaud= recaud + importe\r\n",
        "          print(f\"Sus boletos están en la localidad {clave}.  Son {cantidad} boletos con un importe total de: {importe}.\")\r\n",
        "  clave= int (input(\"En localidad le gustaria adquirir sus boletos?: \"))\r\n",
        "  cantidad= int (input(\"Cuántos boletos desea adquirir?: \"))\r\n",
        "\r\n",
        "print(\"---------------------------------------\")\r\n",
        "print(\"La cantidad vendida de boletos son:\")\r\n",
        "print(f\"Localidad 1  -->  {cant1} boletos\")\r\n",
        "print(f\"Localidad 2  -->  {cant2} boletos\")\r\n",
        "print(f\"Localidad 3  -->  {cant3} boletos\")\r\n",
        "print(f\"Localidad 4  -->  {cant4} boletos\")\r\n",
        "print(f\"Localidad 5  -->  {cant5} boletos\")\r\n",
        "print(f\"La recaudación total del estadio es: ${recaud}\")"
      ],
      "execution_count": null,
      "outputs": [
        {
          "output_type": "stream",
          "text": [
            "Ingresa el precio de la localidad 1: 7.25\n",
            "Ingresa el precio de la localidad 2: 15.8\n",
            "Ingresa el precio de la localidad 3: 25\n",
            "Ingresa el precio de la localidad 4: 50\n",
            "Ingresa el precio de la localidad 5: 75\n",
            "Bienvenido al estadio\n",
            "En localidad le gustaria adquirir sus boletos?: 2\n",
            "Cuántos boletos desea adquirir?: 3\n",
            "Sus boletos están en la localidad 2.  Son 3 boletos con un importe total de: 47.400000000000006.\n",
            "En localidad le gustaria adquirir sus boletos?: 3\n",
            "Cuántos boletos desea adquirir?: 8\n",
            "Sus boletos están en la localidad 3.  Son 8 boletos con un importe total de: 200.0.\n",
            "En localidad le gustaria adquirir sus boletos?: 2\n",
            "Cuántos boletos desea adquirir?: 4\n",
            "Sus boletos están en la localidad 2.  Son 4 boletos con un importe total de: 63.2.\n",
            "En localidad le gustaria adquirir sus boletos?: 1\n",
            "Cuántos boletos desea adquirir?: 6\n",
            "Sus boletos están en la localidad 1.  Son 6 boletos con un importe total de: 43.5.\n",
            "En localidad le gustaria adquirir sus boletos?: 4\n",
            "Cuántos boletos desea adquirir?: 5\n",
            "Sus boletos están en la localidad 4.  Son 5 boletos con un importe total de: 250.0.\n",
            "En localidad le gustaria adquirir sus boletos?: 1\n",
            "Cuántos boletos desea adquirir?: 12\n",
            "Sus boletos están en la localidad 1.  Son 12 boletos con un importe total de: 87.0.\n",
            "En localidad le gustaria adquirir sus boletos?: 2\n",
            "Cuántos boletos desea adquirir?: 8\n",
            "Sus boletos están en la localidad 2.  Son 8 boletos con un importe total de: 126.4.\n",
            "En localidad le gustaria adquirir sus boletos?: 5\n",
            "Cuántos boletos desea adquirir?: 3\n",
            "Sus boletos están en la localidad 5.  Son 3 boletos con un importe total de: 225.0.\n",
            "En localidad le gustaria adquirir sus boletos?: 2\n",
            "Cuántos boletos desea adquirir?: 7\n",
            "Sus boletos están en la localidad 2.  Son 7 boletos con un importe total de: 110.60000000000001.\n",
            "En localidad le gustaria adquirir sus boletos?: 3\n",
            "Cuántos boletos desea adquirir?: 14\n",
            "Sus boletos están en la localidad 3.  Son 14 boletos con un importe total de: 350.0.\n",
            "En localidad le gustaria adquirir sus boletos?: 4\n",
            "Cuántos boletos desea adquirir?: 1\n",
            "Sus boletos están en la localidad 4.  Son 1 boletos con un importe total de: 50.0.\n",
            "En localidad le gustaria adquirir sus boletos?: 2\n",
            "Cuántos boletos desea adquirir?: 11\n",
            "Sus boletos están en la localidad 2.  Son 11 boletos con un importe total de: 173.8.\n",
            "En localidad le gustaria adquirir sus boletos?: 4\n",
            "Cuántos boletos desea adquirir?: 9\n",
            "Sus boletos están en la localidad 4.  Son 9 boletos con un importe total de: 450.0.\n",
            "En localidad le gustaria adquirir sus boletos?: 5\n",
            "Cuántos boletos desea adquirir?: 7\n",
            "Sus boletos están en la localidad 5.  Son 7 boletos con un importe total de: 525.0.\n",
            "En localidad le gustaria adquirir sus boletos?: 1\n",
            "Cuántos boletos desea adquirir?: 23\n",
            "Sus boletos están en la localidad 1.  Son 23 boletos con un importe total de: 166.75.\n",
            "En localidad le gustaria adquirir sus boletos?: 1\n",
            "Cuántos boletos desea adquirir?: 18\n",
            "Sus boletos están en la localidad 1.  Son 18 boletos con un importe total de: 130.5.\n",
            "En localidad le gustaria adquirir sus boletos?: 3\n",
            "Cuántos boletos desea adquirir?: 4\n",
            "Sus boletos están en la localidad 3.  Son 4 boletos con un importe total de: 100.0.\n",
            "En localidad le gustaria adquirir sus boletos?: -1\n",
            "Cuántos boletos desea adquirir?: -1\n",
            "---------------------------------------\n",
            "La cantidad vendida de boletos son:\n",
            "Localidad 1  -->  59 boletos\n",
            "Localidad 2  -->  33 boletos\n",
            "Localidad 3  -->  26 boletos\n",
            "Localidad 4  -->  15 boletos\n",
            "Localidad 5  -->  10 boletos\n",
            "La recaudación total del estadio es: $3099.1499999999996\n"
          ],
          "name": "stdout"
        }
      ]
    },
    {
      "cell_type": "code",
      "metadata": {
        "colab": {
          "base_uri": "https://localhost:8080/"
        },
        "id": "B6nOHfql0Ygh",
        "outputId": "b347c3a0-1108-47a7-d8e3-5411ce946b3e"
      },
      "source": [
        "# EJERCICIO 3.15.    PÁG.157. WHILE\r\n",
        "\r\n",
        "# Variable que guardará el precio total a pagar por todas las llamadas\r\n",
        "pago_total= 0\r\n",
        "duracion= 0\r\n",
        "# Total de llamadas locales realizadas\r\n",
        "t_locales= 0\r\n",
        "\r\n",
        "tipo= str (input(\"Su llamada será Interncaional (I), Nacional (N) o Local (L)?: \"))\r\n",
        "duracion= int (input(\"Cuántos minitos hablará?: \"))\r\n",
        "\r\n",
        "while (duracion != -1 and tipo != \"X\"):  # La unica condición del progrma podría  ser: while (duracion != -1), pero para el ejercicio incluiré la otra condición\r\n",
        "  if tipo == \"I\" or tipo == \"i\":\r\n",
        "    if duracion <= 3:\r\n",
        "      pago_total= pago_total + 7.59\r\n",
        "    else:\r\n",
        "      pago_total= (pago_total) + 7.59 + ((duracion-3)* (3.03))\r\n",
        "  else:\r\n",
        "    if tipo == \"N\" or tipo == \"n\":\r\n",
        "      if duracion <= 3:\r\n",
        "        pago_total= pago_total + 1.20\r\n",
        "      else:\r\n",
        "        pago_total= (pago_total) + 1.20 + ((duracion-3)* (0.48))\r\n",
        "    else:\r\n",
        "      if tipo == \"L\" or tipo == \"l\":\r\n",
        "        t_locales= t_locales + 1\r\n",
        "        if t_locales <= 50:\r\n",
        "          pago_total= pago_total \r\n",
        "        else:\r\n",
        "          pago_total= pago_total + ((t_locales - 50) * (0.60))\r\n",
        "  tipo= str (input(\"Su siguiente llamada será Interncaional (I), Nacional (N) o Local (L)?: \"))\r\n",
        "  duracion= int (input(\"Cuántos minitos hablará?: \"))\r\n",
        "print(f\"El pago total por las llamadas es: $ {pago_total}\")"
      ],
      "execution_count": null,
      "outputs": [
        {
          "output_type": "stream",
          "text": [
            "Su llamada será Interncaional (I), Nacional (N) o Local (L)?: i\n",
            "Cuántos minitos hablará?: 7\n",
            "Su siguiente llamada será Interncaional (I), Nacional (N) o Local (L)?: n\n",
            "Cuántos minitos hablará?: 6\n",
            "Su siguiente llamada será Interncaional (I), Nacional (N) o Local (L)?: N\n",
            "Cuántos minitos hablará?: 12\n",
            "Su siguiente llamada será Interncaional (I), Nacional (N) o Local (L)?: L\n",
            "Cuántos minitos hablará?: 5\n",
            "Su siguiente llamada será Interncaional (I), Nacional (N) o Local (L)?: L\n",
            "Cuántos minitos hablará?: 7\n",
            "Su siguiente llamada será Interncaional (I), Nacional (N) o Local (L)?: l\n",
            "Cuántos minitos hablará?: 15\n",
            "Su siguiente llamada será Interncaional (I), Nacional (N) o Local (L)?: n\n",
            "Cuántos minitos hablará?: 16\n",
            "Su siguiente llamada será Interncaional (I), Nacional (N) o Local (L)?: L\n",
            "Cuántos minitos hablará?: 7\n",
            "Su siguiente llamada será Interncaional (I), Nacional (N) o Local (L)?: L\n",
            "Cuántos minitos hablará?: 6\n",
            "Su siguiente llamada será Interncaional (I), Nacional (N) o Local (L)?: l\n",
            "Cuántos minitos hablará?: 4\n",
            "Su siguiente llamada será Interncaional (I), Nacional (N) o Local (L)?: i\n",
            "Cuántos minitos hablará?: 11\n",
            "Su siguiente llamada será Interncaional (I), Nacional (N) o Local (L)?: X\n",
            "Cuántos minitos hablará?: -1\n",
            "El pago total por las llamadas es: $ 67.14\n"
          ],
          "name": "stdout"
        }
      ]
    },
    {
      "cell_type": "code",
      "metadata": {
        "colab": {
          "base_uri": "https://localhost:8080/"
        },
        "id": "IF3Bs_UTKGin",
        "outputId": "7ca85c51-dbab-4307-98a1-95abafc4c2fb"
      },
      "source": [
        "# EJERCICIO 3.16. PÁG. 161 CON FOR\r\n",
        "\r\n",
        "# La cantidad de años de la que es la informacion:\r\n",
        "Años= 0\r\n",
        "# Guarda la cantidad anual de cada tipo de vino:\r\n",
        "vino= 0\r\n",
        "# Variables que registrarán el total de vino producido a lo largo de los años por cada tipo\r\n",
        "v_total_T1= 0\r\n",
        "v_total_T2= 0\r\n",
        "v_total_T3= 0\r\n",
        "v_total_T4= 0\r\n",
        "v_total_T5= 0\r\n",
        "\r\n",
        "#Año en que se produjo la mayor cantidad de vino, Tipo 2 y su cantidad\r\n",
        "T2_a_may= 0\r\n",
        "T2_l_may= 0\r\n",
        "\r\n",
        "Años= int (input(\"A cuántos años corresponde la información de los vinos?: \"))\r\n",
        "\r\n",
        "for i in range (Años):\r\n",
        "  i= i + 1\r\n",
        "  v_anual= 0\r\n",
        "  for j in range (1, 6):\r\n",
        "    vino= float (input(f\"Cuánto vino Tipo {j} se produjo en el año {i}?: \"))\r\n",
        "    v_anual= v_anual + vino\r\n",
        "\r\n",
        "    if j == 1:\r\n",
        "      v_total_T1= v_total_T1 + vino\r\n",
        "    else:\r\n",
        "      if j == 2:\r\n",
        "        v_total_T2= v_total_T2 + vino\r\n",
        "        if vino > T2_l_may:\r\n",
        "          T2_l_may= vino\r\n",
        "          T2_a_may= i\r\n",
        "      else:\r\n",
        "        if j ==3:\r\n",
        "         v_total_T3= v_total_T3 + vino \r\n",
        "         if vino == 0:\r\n",
        "           print(f\"¡¡En el año {i} no se produjo Vino Tipo 3!!\")\r\n",
        "        else:\r\n",
        "          if j == 4:\r\n",
        "            v_total_T4= v_total_T4 + vino\r\n",
        "          else:\r\n",
        "            v_total_T5= v_total_T5 + vino\r\n",
        "  print(f'''En el año {i} se produjo un total de: {v_anual} L. ''')\r\n",
        "  \r\n",
        "\r\n",
        "print(f''' -------------------------------------------------------------------\r\n",
        "La producción de vino durante los {Años} fue de la siguiente manera:\r\n",
        "Tipo 1 --> {v_total_T1} L.\r\n",
        "Tipo 2 --> {v_total_T2} L.\r\n",
        "Tipo 3 --> {v_total_T3} L.\r\n",
        "Tipo 4 --> {v_total_T4} L.\r\n",
        "Tipo 5 --> {v_total_T5} L.\r\n",
        "\r\n",
        "Donde el año con mayor producción del vino Tipo 2 fue el {T2_a_may} con una producción de {T2_l_may} L.''')"
      ],
      "execution_count": null,
      "outputs": [
        {
          "output_type": "stream",
          "text": [
            "A cuántos años corresponde la información de los vinos?: 5\n",
            "Cuánto vino Tipo 1 se produjo en el año 1?: 7\n",
            "Cuánto vino Tipo 2 se produjo en el año 1?: 4\n",
            "Cuánto vino Tipo 3 se produjo en el año 1?: 0\n",
            "¡¡En el año 1 no se produjo Vino Tipo 3!!\n",
            "Cuánto vino Tipo 4 se produjo en el año 1?: 5\n",
            "Cuánto vino Tipo 5 se produjo en el año 1?: 7\n",
            "En el año 1 se produjo un total de: 23.0 L. \n",
            "Cuánto vino Tipo 1 se produjo en el año 2?: 8\n",
            "Cuánto vino Tipo 2 se produjo en el año 2?: 10\n",
            "Cuánto vino Tipo 3 se produjo en el año 2?: 9\n",
            "Cuánto vino Tipo 4 se produjo en el año 2?: 8\n",
            "Cuánto vino Tipo 5 se produjo en el año 2?: 7\n",
            "En el año 2 se produjo un total de: 42.0 L. \n",
            "Cuánto vino Tipo 1 se produjo en el año 3?: 15\n",
            "Cuánto vino Tipo 2 se produjo en el año 3?: 8\n",
            "Cuánto vino Tipo 3 se produjo en el año 3?: 8\n",
            "Cuánto vino Tipo 4 se produjo en el año 3?: 13\n",
            "Cuánto vino Tipo 5 se produjo en el año 3?: 9\n",
            "En el año 3 se produjo un total de: 53.0 L. \n",
            "Cuánto vino Tipo 1 se produjo en el año 4?: 6\n",
            "Cuánto vino Tipo 2 se produjo en el año 4?: 7\n",
            "Cuánto vino Tipo 3 se produjo en el año 4?: 6\n",
            "Cuánto vino Tipo 4 se produjo en el año 4?: 8\n",
            "Cuánto vino Tipo 5 se produjo en el año 4?: 9\n",
            "En el año 4 se produjo un total de: 36.0 L. \n",
            "Cuánto vino Tipo 1 se produjo en el año 5?: 3\n",
            "Cuánto vino Tipo 2 se produjo en el año 5?: 9\n",
            "Cuánto vino Tipo 3 se produjo en el año 5?: 15\n",
            "Cuánto vino Tipo 4 se produjo en el año 5?: 10\n",
            "Cuánto vino Tipo 5 se produjo en el año 5?: 8\n",
            "En el año 5 se produjo un total de: 45.0 L. \n",
            " -------------------------------------------------------------------\n",
            "La producción de vino durante los 5 fue de la siguiente manera:\n",
            "Tipo 1 --> 39.0 L.\n",
            "Tipo 2 --> 38.0 L.\n",
            "Tipo 3 --> 38.0 L.\n",
            "Tipo 4 --> 44.0 L.\n",
            "Tipo 5 --> 40.0 L.\n",
            "\n",
            "Donde el año con mayor producción del vino Tipo 2 fue el 2 con una producción de 10.0 L.\n"
          ],
          "name": "stdout"
        }
      ]
    },
    {
      "cell_type": "code",
      "metadata": {
        "colab": {
          "base_uri": "https://localhost:8080/"
        },
        "id": "CGb8tGFVSLWU",
        "outputId": "38df8900-43c1-4cec-82aa-47b3cf7c0299"
      },
      "source": [
        "# EJERCICIO 3.17. #Primos   PÁG.164. WHILE\r\n",
        "\r\n",
        "#El número entero positivo que el usuario ingresa\r\n",
        "M= 0\r\n",
        "#Cantidad de primos entre 1 y M\r\n",
        "N= 0\r\n",
        "I= 3\r\n",
        "J= 3\r\n",
        "\r\n",
        "M= int (input(\"Ingresa el número del cual quieras conocer los números primos antes de él: \"))\r\n",
        "if M > 0: \r\n",
        "  if M == 1:\r\n",
        "   print(\"No hay números primos en 1\")\r\n",
        "  if M >= 2:\r\n",
        "   N = N + 1\r\n",
        "   print(\"Los números primos son: 2\", end=\"\")\r\n",
        "  while I <= M:\r\n",
        "   J=3\r\n",
        "   band= \"V\"\r\n",
        "   while J < (I/2) and band ==\"V\":\r\n",
        "     if ((I % J) == 0): \r\n",
        "       band= \"F\"\r\n",
        "       J= J + 2\r\n",
        "     else:\r\n",
        "         J= J + 2\r\n",
        "   if band == \"V\":\r\n",
        "     print(f\", {I}\", end=\"\")\r\n",
        "     N= N + 1\r\n",
        "     I= I + 2\r\n",
        "   else:\r\n",
        "      I= I + 2 \r\n",
        "  print(\".\")\r\n",
        "  print(f\"Entre 1 y M hay {N} números primos.\")\r\n",
        "\r\n",
        "else:\r\n",
        "  print(\"No permiten valores <= 0. Ingrese un número entero positivo\")"
      ],
      "execution_count": null,
      "outputs": [
        {
          "output_type": "stream",
          "text": [
            "Ingresa el número del cual quieras conocer los números primos antes de él: 28\n",
            "Los números primos son: 2, 3, 5, 7, 11, 13, 17, 19, 23.\n",
            "Entre 1 y M hay 9 números primos.\n"
          ],
          "name": "stdout"
        }
      ]
    },
    {
      "cell_type": "code",
      "metadata": {
        "colab": {
          "base_uri": "https://localhost:8080/"
        },
        "id": "UnR5yeVI0PWA",
        "outputId": "058f1f23-b8a2-499a-f158-cc735d9b6a83"
      },
      "source": [
        "# EJERCICIO 3.18. PÁG. 167 CON FOR\r\n",
        "\r\n",
        "#El total de fabricas registradas en Secretaria de Industrias:\r\n",
        "F= 0\r\n",
        "clave_de_F: 0\r\n",
        "# Producción mensual en cada fabrica:\r\n",
        "prod_mes= 0\r\n",
        "Fab_may_prod= 0\r\n",
        "Cantid_may_prod= 0\r\n",
        "i=1 \r\n",
        "j=1 \r\n",
        "\r\n",
        "F= int (input(\"Cuántas faricas son?: \"))\r\n",
        "if F <= 100:\r\n",
        "  for i in range (F):\r\n",
        "    i= i+1\r\n",
        "    clave_de_F= int (input(f\"Ingresa la clave de la fabrica {i}: \"))\r\n",
        "    # Así no se acumula los suma de todos las producciones anuales de cada empresa:\r\n",
        "    total_anu= 0\r\n",
        "    for j in range (1, 13):\r\n",
        "      prod_mes= float (input(f\"Cuál fue la producción de la fabrica {clave_de_F} en el mes {j}?: \"))\r\n",
        "      total_anu= total_anu + prod_mes\r\n",
        "      if j == 7 and prod_mes> 3000000:\r\n",
        "        print(f\"La fabrica {clave_de_F} prudujo más de 3 000 000 en el mes de Julio\")\r\n",
        "    if total_anu > Cantid_may_prod:\r\n",
        "      Cantid_may_prod= total_anu\r\n",
        "      Fab_may_prod = clave_de_F\r\n",
        "    print(f\"La producción anual de la fabrica {clave_de_F} es de: {total_anu}\")\r\n",
        "  print(f\"La fabrica con mayor producción de manera anual fue la {Fab_may_prod} con una producción total de: {Cantid_may_prod}.\")\r\n",
        "else:\r\n",
        "  print(\"Error: La cantidad de fabricas ingresadas, no corresponde a las existentes\")"
      ],
      "execution_count": null,
      "outputs": [
        {
          "output_type": "stream",
          "text": [
            "Cuántas faricas son?: 2\n",
            "Ingresa la clave de la fabrica 1: 123\n",
            "Cuál fue la producción de la fabrica 123 en el mes 1?: 2500000\n",
            "Cuál fue la producción de la fabrica 123 en el mes 2?: 3000000\n",
            "Cuál fue la producción de la fabrica 123 en el mes 3?: 1289000\n",
            "Cuál fue la producción de la fabrica 123 en el mes 4?: 3200000\n",
            "Cuál fue la producción de la fabrica 123 en el mes 5?: 1010100\n",
            "Cuál fue la producción de la fabrica 123 en el mes 6?: 2780000\n",
            "Cuál fue la producción de la fabrica 123 en el mes 7?: 3200000\n",
            "La fabrica 123 prudujo más de 3 000 000 en el mes de Julio\n",
            "Cuál fue la producción de la fabrica 123 en el mes 8?: 5222000\n",
            "Cuál fue la producción de la fabrica 123 en el mes 9?: 2700000\n",
            "Cuál fue la producción de la fabrica 123 en el mes 10?: 990000\n",
            "Cuál fue la producción de la fabrica 123 en el mes 11?: 1000000\n",
            "Cuál fue la producción de la fabrica 123 en el mes 12?: 1100000\n",
            "La producción anual de la fabrica 123 es de: 27991100.0\n",
            "Ingresa la clave de la fabrica 2: 234\n",
            "Cuál fue la producción de la fabrica 234 en el mes 1?: 1000000\n",
            "Cuál fue la producción de la fabrica 234 en el mes 2?: 1000000\n",
            "Cuál fue la producción de la fabrica 234 en el mes 3?: 1200000\n",
            "Cuál fue la producción de la fabrica 234 en el mes 4?: 1200000\n",
            "Cuál fue la producción de la fabrica 234 en el mes 5?: 1000000\n",
            "Cuál fue la producción de la fabrica 234 en el mes 6?: 1200000\n",
            "Cuál fue la producción de la fabrica 234 en el mes 7?: 1000000\n",
            "Cuál fue la producción de la fabrica 234 en el mes 8?: 1200000\n",
            "Cuál fue la producción de la fabrica 234 en el mes 9?: 1000000\n",
            "Cuál fue la producción de la fabrica 234 en el mes 10?: 100000\n",
            "Cuál fue la producción de la fabrica 234 en el mes 11?: 1000000\n",
            "Cuál fue la producción de la fabrica 234 en el mes 12?: 1000000\n",
            "La producción anual de la fabrica 234 es de: 11900000.0\n",
            "La fabrica con mayor producción de manera anual fue la 123 con una producción total de: 27991100.0.\n"
          ],
          "name": "stdout"
        }
      ]
    },
    {
      "cell_type": "code",
      "metadata": {
        "colab": {
          "base_uri": "https://localhost:8080/"
        },
        "id": "u0Yv7gH50kAj",
        "outputId": "3aacd843-6d3a-46d7-b40a-8852d9797a67"
      },
      "source": [
        "# EJERCICIO 3.19. PÁG. 170 CON FOR\r\n",
        "\r\n",
        "#El número entero positivo que el usuario ingresa\r\n",
        "M= 0\r\n",
        "#Nos ayudará a saber si la suma de sus divisores hace al número perfecto:\r\n",
        "suma= 0\r\n",
        "J= 1\r\n",
        "\r\n",
        "\r\n",
        "M= int (input(\"Ingresa el número del cual quieras conocer los números perfectos antes de él: \"))\r\n",
        "M= M + 1\r\n",
        "for I in range (1, M):\r\n",
        "  suma= 0\r\n",
        "  J= 1\r\n",
        "  while J <= (I/2):\r\n",
        "    if ((I % J) == 0): \r\n",
        "      suma= suma + J\r\n",
        "    J= J + 1\r\n",
        "  else:\r\n",
        "    if suma == I:\r\n",
        "      print(f\"{I} es un número perfecto\")\r\n",
        "    I= I + 1\r\n"
      ],
      "execution_count": null,
      "outputs": [
        {
          "output_type": "stream",
          "text": [
            "Ingresa el número del cual quieras conocer los números perfectos antes de él: 9\n",
            "6 es un número perfecto\n"
          ],
          "name": "stdout"
        }
      ]
    }
  ]
}