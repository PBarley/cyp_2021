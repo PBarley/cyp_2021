{
  "nbformat": 4,
  "nbformat_minor": 0,
  "metadata": {
    "colab": {
      "name": "12_Enero_2021.ipynb",
      "provenance": [],
      "collapsed_sections": [],
      "authorship_tag": "ABX9TyPhYjmAGbMLpTkZqFAIUovZ",
      "include_colab_link": true
    },
    "kernelspec": {
      "display_name": "Python 3",
      "name": "python3"
    }
  },
  "cells": [
    {
      "cell_type": "markdown",
      "metadata": {
        "id": "view-in-github",
        "colab_type": "text"
      },
      "source": [
        "<a href=\"https://colab.research.google.com/github/PBarley/cyp_2021/blob/main/12_Enero_2021.ipynb\" target=\"_parent\"><img src=\"https://colab.research.google.com/assets/colab-badge.svg\" alt=\"Open In Colab\"/></a>"
      ]
    },
    {
      "cell_type": "markdown",
      "metadata": {
        "id": "fszLrpu9pTry"
      },
      "source": [
        "# INTRODUCCIÓN A PYTHON \r\n",
        "- Creado en los 90´s por Guido Van R. \r\n",
        "- En el 2000 Python mejora y tiene nuevas caracteristicas \r\n",
        "- En el 2020 deje de ser la versión oficial Python 2.7 y solo se le dará soporte a Python 3 en adelante.\r\n",
        "\r\n",
        "## CARACTERISTICAS \r\n",
        "1. Lenguaje de proposito general (para uso en distintas areas de la (Que es practico para utilizarse en distintas áreas de la programación?))\r\n",
        "2. Es un lenguaje interpretado y no-compilado (es decir, conforme se lee la línea de código se ejecuta)\r\n",
        "3. Tipos de datos dinamicos. (numericos, cadena, bool, entre otros)\r\n",
        "4. Multiplataforma (se puede usar en distintos Sistemas Operativos, como Windows, Mac Os, Linux, etc.)\r\n",
        "5. Lenguaje multi-paradigma (Programacoón imperativa, POO y funcional) (Función)\r\n",
        "6. El código es estructurado por indentación. \r\n",
        "```\r\n",
        "  if a > 10:\r\n",
        "    print(\"Hola\")\r\n",
        "  print(\"Hola dos\")\r\n",
        "```\r\n",
        "\r\n",
        "\r\n",
        "## Principios Zen (Zen of Python) \r\n",
        "Son las caracteristicas que guian el diseño del lenguaje de programación Python \r\n",
        "(Prinipios con los cuales influye el diseño Python, es decir, que se busca crear con Python desde el punto de vista de un programador. \r\n",
        "(1. Les interesa que se puedan programar cosas potentes sin la necesidad de como se ve el código, si muy está revuelto o no.    2.Es mejor que le permitas al programador escribir cosas explicitas que implicitas, es decir, otros lenguajes permitian ejecutar cosas implicitas, por lo cual otros programadores se podían confundir, incluso el programador, que NO se deje todo al contexto.    3. Simple es mejor que complejo (parecido el lenguaje Ruby, simple en su aprendiczaje y en poco tiempo empezar a manejarlo) )\r\n",
        "\r\n"
      ]
    },
    {
      "cell_type": "markdown",
      "metadata": {
        "id": "5a1KHKTOvqSA"
      },
      "source": [
        "#LA FUNCIÓN print ()\r\n",
        "Es una de las funciones más empleadas en progrmación y busca enviar datos de salida estandar (monitor).\r\n",
        "\r\n",
        "### Formas de uso\r\n",
        "1. Con coma\r\n",
        "2. Con signos más \r\n",
        "3. .format()\r\n",
        "4. EL operador f\"    \"\r\n",
        "\r\n",
        "#### Con Comas\r\n",
        "concatena los argumentos enviados a print y les agrega un espacio .\r\n",
        "\r\n",
        "#### Con signos +\r\n",
        "Concatena los valores sin espcaio y sin conversión de tipos.\r\n",
        "\r\n",
        "#### Con la función .format()\r\n",
        "Permite darle formato a la salida de la impresión de variables. Emplea la función format de el tipo de dato String.\r\n",
        "```\r\n",
        "\"cadena {} a {} format {}tear\".format(v1,v2,vn)\r\n",
        "```\r\n",
        "Es decir, \r\n",
        "\"Cadena a formatear\".format(variable1, variable2,variablen)\r\n",
        "\r\n",
        "Emplea comodines para sustituir valores de los signos {}.\r\n",
        "\r\n",
        "#### Con el operador f\"\"\r\n",
        "\r\n",
        "Es una variante de la forma anterior, pero enmascarando la función format(). \r\n",
        "```\r\n",
        "print(f\"sdfdsf{var}fdfsdd {var2}sfddf {varn}\")\r\n",
        "```"
      ]
    },
    {
      "cell_type": "code",
      "metadata": {
        "colab": {
          "background_save": true,
          "base_uri": "https://localhost:8080/"
        },
        "id": "7GPDzkIJurn7",
        "outputId": "00998c18-93e2-4a22-e2e9-26b95c4d9639"
      },
      "source": [
        "#Primer programa en Pyhton \r\n",
        "\r\n",
        "nombre = \"José\"\r\n",
        "edad= 18\r\n",
        "print(\"Hola\", nombre, edad) # La \",\" concatena y agrega un espacio.  Hace los espacios para que se puedan concatenar diferentes tipos de variables \r\n",
        "print(\"Hola\"+ nombre+ str(edad))\r\n",
        "\r\n",
        "# Nombre: Jose, con una edad de: 18 años\r\n",
        "print(\"Nombre:\", nombre, \"con una edad de:\", edad, \"años\")\r\n",
        "print(\"Nombre: \"+ nombre +\" con una edad de: \" + str(edad), \" años\") \r\n",
        "#Se vuelve más complicado darle formato a la salida. Y ya que se busca que los lenguajes sean simples de escribir usamos la funcion con format.()\r\n",
        "\r\n",
        "#Con .format()\r\n",
        "print(\"Nombre: {} con una edad de: {} años\".format( nombre,edad)) #Si ponemos comidenes es esa posición ppython va a buscar una variable que sustituya al comodin. Tiene que ver con las POSICIONES DE LOS ARGUMENTOS\r\n",
        "#Si print(\"Nombre: {1} con una edad de: {0} años\".format(nombre,edad))\r\n",
        "#Tuplas= arreglo\r\n",
        "\r\n",
        "#Con el operador f\"\"\r\n",
        "print(f\"Nombre: {nombre} con una edad de: {edad} años\")"
      ],
      "execution_count": null,
      "outputs": [
        {
          "output_type": "stream",
          "text": [
            "Hola José 18\n",
            "HolaJosé18\n",
            "Nombre: José con una edad de: 18 años\n",
            "Nombre: José con una edad de: 18  años\n",
            "Nombre: José con una edad de: 18 años\n",
            "Nombre: José con una edad de: 18 años\n"
          ],
          "name": "stdout"
        }
      ]
    },
    {
      "cell_type": "markdown",
      "metadata": {
        "id": "Q7doZek12H1k"
      },
      "source": [
        "#Función print() y los caracteres de escape \r\n",
        "\r\n",
        "- \\n  --> Salto de linea\r\n",
        "- \\t --> Tabulador\r\n",
        "- \\\\ imprimir la diagonal \\\r\n",
        "- escapar \\' y \\\"\r\n",
        "- \\uxxxx imprimir un  icode de \r\n",
        "- \\uxxxxxxx "
      ]
    },
    {
      "cell_type": "code",
      "metadata": {
        "colab": {
          "base_uri": "https://localhost:8080/"
        },
        "id": "hPaS5qi92dPc",
        "outputId": "210657b7-5bbe-4e0f-b82e-4ff58abe64ba"
      },
      "source": [
        "print('\"\"')\r\n",
        "print(\"\\\"\") #Caracteres de escape\r\n",
        "print(\"Nombre: José\\n\\tCon una edad \\\\de: 18 años\") #El espacio del tabulador son por defecto, se pueden configurarar. \r\n",
        "#Caracteres unicode\r\n",
        "print(\"Hola \\u2661\")\r\n",
        "#Carateres unicode son: \"Son caracteres especiales como un corazon, euro\", etc.\r\n",
        "\r\n",
        "#Por defecto el print agrega un salto de linea "
      ],
      "execution_count": 19,
      "outputs": [
        {
          "output_type": "stream",
          "text": [
            "\"\"\n",
            "\"\n",
            "Nombre: José\n",
            "\tCon una edad \\de: 18 años\n",
            "Hola ♡\n"
          ],
          "name": "stdout"
        }
      ]
    },
    {
      "cell_type": "markdown",
      "metadata": {
        "id": "oH9aeqoj8FgL"
      },
      "source": [
        "# print con salto de línea en el argumento\r\n",
        "\r\n",
        "Por defecto tiene esta forma:\r\n",
        "\r\n",
        "```\r\n",
        "print([lista de variables a imprimirt], end(variable interna)=\"\\n\")\r\n",
        "```"
      ]
    },
    {
      "cell_type": "code",
      "metadata": {
        "id": "qi9KsaG78im4"
      },
      "source": [
        "print(\"Hola\", end= \" \")\r\n",
        "print(\"Mundo\", end=\"\\u25EF \")\r\n",
        "print(\"Fin\", end=\"\\n\")"
      ],
      "execution_count": null,
      "outputs": []
    },
    {
      "cell_type": "markdown",
      "metadata": {
        "id": "F7kd84Vf9e0m"
      },
      "source": [
        "#COMENTARIOS en Python\r\n",
        "\r\n",
        "Un comentario en progrmación, es un texto especial que es ignorado por el interprete o compilador (segun sea el caso del lenguaje) y es empleado para que el programador documente sus algoritmos\r\n",
        "\r\n",
        "Existen de dos tipos: De línea simple y de multiple línea\r\n",
        "\r\n",
        "En python:\r\n",
        "- Línea simple emplea #\r\n",
        "```\r\n",
        "#comentario de linea simple\r\n",
        "```\r\n",
        "- Línea múltiple (emplea las tres comillas simples\r\n",
        "```\r\n",
        "'''\r\n",
        "Y esto es \r\n",
        "un comentario\r\n",
        "de línea \r\n",
        "multiple\r\n",
        "'''\r\n",
        "```"
      ]
    },
    {
      "cell_type": "code",
      "metadata": {
        "colab": {
          "base_uri": "https://localhost:8080/"
        },
        "id": "dHuna3H1-kV7",
        "outputId": "78312b3c-f239-4c80-fcd1-7dc6807ae70c"
      },
      "source": [
        "print(\"Hola\")\r\n",
        "#print(\"Hola\")\r\n",
        "#Cualquier cosa\r\n",
        "print(\"Hola\")\r\n",
        "print(\"Hola\")\r\n",
        "'''\r\n",
        "Esto es \r\n",
        "un comentario de\r\n",
        "multiple línea\r\n",
        "Ideal para cuando se desae explicar algo a fonde,\r\n",
        "que requiera mayor detalle'''\r\n",
        "\r\n",
        "print(\"Hola\")\r\n"
      ],
      "execution_count": 25,
      "outputs": [
        {
          "output_type": "stream",
          "text": [
            "Hola\n",
            "Hola\n",
            "Hola\n",
            "Hola\n"
          ],
          "name": "stdout"
        }
      ]
    }
  ]
}