{
  "nbformat": 4,
  "nbformat_minor": 0,
  "metadata": {
    "colab": {
      "name": "Tarea_4. CyP.ipynb",
      "provenance": [],
      "authorship_tag": "ABX9TyNvK1EBqSLKtipPemnNsvvk",
      "include_colab_link": true
    },
    "kernelspec": {
      "name": "python3",
      "display_name": "Python 3"
    }
  },
  "cells": [
    {
      "cell_type": "markdown",
      "metadata": {
        "id": "view-in-github",
        "colab_type": "text"
      },
      "source": [
        "<a href=\"https://colab.research.google.com/github/PBarley/cyp_2021/blob/main/Tarea_4_CyP.ipynb\" target=\"_parent\"><img src=\"https://colab.research.google.com/assets/colab-badge.svg\" alt=\"Open In Colab\"/></a>"
      ]
    },
    {
      "cell_type": "code",
      "metadata": {
        "colab": {
          "base_uri": "https://localhost:8080/"
        },
        "id": "IdPjbPnKqcAx",
        "outputId": "4a646485-09a3-4c2b-c88e-a7d4f70b0afd"
      },
      "source": [
        "#EJEMPLO 2.4. PÁG.60\n",
        "\n",
        "sueldo=0\n",
        "nuevo_sue=0\n",
        "aumen=0\n",
        "\n",
        "nom= input(\"Ingrese el nombre del trabajador: \")\n",
        "sueldo= float (input(\"Introduce el sueldo del trabajor\"))\n",
        "\n",
        "if (sueldo < 1000):\n",
        "  aumen= sueldo * 0.15\n",
        "  nuevo_sue= sueldo + aumen\n",
        "  print(\"El nuevo sueldo del trabajador \", nom, \" es: $\", nuevo_sue)\n",
        "else:\n",
        "  aumen= sueldo * 0.12\n",
        "  nuevo_sue= sueldo + aumen\n",
        "  print(\"El nuevo sueldo del trabajador \", nom, \" es: $\", nuevo_sue)\n"
      ],
      "execution_count": 6,
      "outputs": [
        {
          "output_type": "stream",
          "text": [
            "Ingrese el nombre del trabajador: Luis\n",
            "Introduce el sueldo del trabajor680.70\n",
            "El nuevo sueldo del trabajador  Luis  es: $ 782.8050000000001\n"
          ],
          "name": "stdout"
        }
      ]
    },
    {
      "cell_type": "code",
      "metadata": {
        "colab": {
          "base_uri": "https://localhost:8080/"
        },
        "id": "bZ1KTzDxvtGz",
        "outputId": "1faa5fec-9fff-4528-a6a4-387e11853f86"
      },
      "source": [
        "#EJEMPLO 2.8. PÁG.68\n",
        "cate=0\n",
        "sueldo=0\n",
        "nuevo_sue=0\n",
        "\n",
        "nom= input(\"Ingrese el nombre del trabajador: \")\n",
        "cate= int (input(\"Ingrese la categoria del trabajador (1,2,3 o 4): \"))\n",
        "sueldo= float (input(\"Ingrese el sueldo del trabajadior: \"))\n",
        "\n",
        "if (cate == 1):\n",
        "  nuevo_sue= (sueldo * 0.15) + sueldo\n",
        "  print(\"El trabajador \", nom, \" pertenece a la categoría \", cate, \" y su nuevo sueldo es: $\", nuevo_sue)\n",
        "elif (cate == 2):\n",
        "  nuevo_sue= (sueldo * 0.10) + sueldo\n",
        "  print(\"El trabajador \", nom, \" pertenece a la categoría \", cate, \" y su nuevo sueldo es: $\", nuevo_sue)\n",
        "elif (cate == 3):\n",
        "  nuevo_sue= (sueldo * 0.08) + sueldo\n",
        "  print(\"El trabajador \", nom, \" pertenece a la categoría \", cate, \" y su nuevo sueldo es: $\", nuevo_sue)\n",
        "elif (cate == 4):\n",
        "  nuevo_sue= (sueldo * 0.07) + sueldo\n",
        "  print(\"El trabajador \", nom, \" pertenece a la categoría \", cate, \" y su nuevo sueldo es: $\", nuevo_sue)\n",
        "else:\n",
        "  print(cate, \" no forma parte de las posibles categorías\") \n"
      ],
      "execution_count": 10,
      "outputs": [
        {
          "output_type": "stream",
          "text": [
            "Ingrese el nombre del trabajador: Fernando\n",
            "Ingrese la categoria del trabajador (1,2,3 o 4): 2\n",
            "Ingrese el sueldo del trabajadior: 1750\n",
            "El trabajador  Fernando  pertenece a la categoría  2  y su nuevo sueldo es: $ 1925.0\n"
          ],
          "name": "stdout"
        }
      ]
    }
  ]
}