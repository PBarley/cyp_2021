{
  "nbformat": 4,
  "nbformat_minor": 0,
  "metadata": {
    "colab": {
      "name": "Tarea_5. CyP .ipynb",
      "provenance": [],
      "authorship_tag": "ABX9TyOVDA5Mo8afE10h9aIxThIL",
      "include_colab_link": true
    },
    "kernelspec": {
      "name": "python3",
      "display_name": "Python 3"
    }
  },
  "cells": [
    {
      "cell_type": "markdown",
      "metadata": {
        "id": "view-in-github",
        "colab_type": "text"
      },
      "source": [
        "<a href=\"https://colab.research.google.com/github/PBarley/cyp_2021/blob/main/Tarea_5_CyP_.ipynb\" target=\"_parent\"><img src=\"https://colab.research.google.com/assets/colab-badge.svg\" alt=\"Open In Colab\"/></a>"
      ]
    },
    {
      "cell_type": "code",
      "metadata": {
        "id": "Ro6w9EOZ6JCD",
        "colab": {
          "base_uri": "https://localhost:8080/"
        },
        "outputId": "a7d8812a-c3ee-42e3-9e66-d3a983e64ccc"
      },
      "source": [
        "#EJEMPLO 3.1. FOR, PARA NOMINAS\n",
        "\n",
        "#Se registra num_sue (cantidad de sueldos a sumar) como un valor numerico entero, ya que será el rango de repetición de nuestro FOR.\n",
        "num_sue= int (input(\"¿Cuántos sueldos conforman la nomina?\"))\n",
        "nomina= 0\n",
        "\n",
        "#Utilzamos el valor (numero entero) de num_sue como nuestro rango de repetición. \n",
        "for i in range (num_sue):\n",
        "    #Mientras el rango se cumple iremos registrando los valores de los sueldos y guardandolos en la variable nomina. \n",
        "    sueldo= float (input(\"Dame el sueldo :\"))\n",
        "    nomina= sueldo + nomina\n",
        "#Una vez finalizado el rango, se imprimirá el valor de la nomina\n",
        "print(\"La nomina es: $\", nomina)\n",
        "\n"
      ],
      "execution_count": null,
      "outputs": [
        {
          "output_type": "stream",
          "text": [
            "¿Cuántos sueldos conforman la nomina?10\n",
            "Dame el sueldo :2800\n",
            "Dame el sueldo :3400\n",
            "Dame el sueldo :1250\n",
            "Dame el sueldo :1200\n",
            "Dame el sueldo :1940\n",
            "Dame el sueldo :6700\n",
            "Dame el sueldo :7800\n",
            "Dame el sueldo :24\n",
            "Dame el sueldo :2400\n",
            "Dame el sueldo :5600\n",
            "La nomina es: $ 33114.0\n"
          ],
          "name": "stdout"
        }
      ]
    },
    {
      "cell_type": "code",
      "metadata": {
        "id": "lMU5M_Ne8pJf",
        "colab": {
          "base_uri": "https://localhost:8080/"
        },
        "outputId": "ab417f5f-f06e-4606-b812-2a2a09af945e"
      },
      "source": [
        "#EJEMPLO 3.4.\n",
        "\n",
        "suma=0\n",
        "\n",
        "#Para detener la suma de gastos he dado una indicación al usuario, la cual es dar el valor -1 para finalizar. \n",
        "gasto= float (input(\"Introduce el valor del gasto (Si ya no hay gastos que sumar, ingresa -1): \"))\n",
        "while gasto > -1:\n",
        "  suma= suma + gasto\n",
        "  gasto= float (input(\"Introduce el valor del gasto (Si ya no hay gastos que sumar, ingresa -1): \"))\n",
        "print(\"Los gatos ascienden a un valor de : $\", suma)\n"
      ],
      "execution_count": null,
      "outputs": [
        {
          "output_type": "stream",
          "text": [
            "Introduce el valor del gasto (Si ya no hay gastos que sumar, ingresa -1): 2528\n",
            "Introduce el valor del gasto (Si ya no hay gastos que sumar, ingresa -1): 3500\n",
            "Introduce el valor del gasto (Si ya no hay gastos que sumar, ingresa -1): 1600\n",
            "Introduce el valor del gasto (Si ya no hay gastos que sumar, ingresa -1): 1850\n",
            "Introduce el valor del gasto (Si ya no hay gastos que sumar, ingresa -1): 150\n",
            "Introduce el valor del gasto (Si ya no hay gastos que sumar, ingresa -1): -1\n",
            "Los gatos ascienden a un valor de : $ 9628.0\n"
          ],
          "name": "stdout"
        }
      ]
    }
  ]
}