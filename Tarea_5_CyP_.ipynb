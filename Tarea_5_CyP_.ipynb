{
  "nbformat": 4,
  "nbformat_minor": 0,
  "metadata": {
    "colab": {
      "name": "Tarea_5. CyP .ipynb",
      "provenance": [],
      "authorship_tag": "ABX9TyOIyl31vtunlv0L3EXg+C2M",
      "include_colab_link": true
    },
    "kernelspec": {
      "name": "python3",
      "display_name": "Python 3"
    }
  },
  "cells": [
    {
      "cell_type": "markdown",
      "metadata": {
        "id": "view-in-github",
        "colab_type": "text"
      },
      "source": [
        "<a href=\"https://colab.research.google.com/github/PBarley/cyp_2021/blob/main/Tarea_5_CyP_.ipynb\" target=\"_parent\"><img src=\"https://colab.research.google.com/assets/colab-badge.svg\" alt=\"Open In Colab\"/></a>"
      ]
    },
    {
      "cell_type": "code",
      "metadata": {
        "id": "Ro6w9EOZ6JCD",
        "colab": {
          "base_uri": "https://localhost:8080/"
        },
        "outputId": "158c65d1-aefd-496a-a19a-8515b939ffe2"
      },
      "source": [
        "#EJEMPLO 3.1. FOR, PARA NOMINAS\n",
        "\n",
        "#Se registra num_sue (cantidad de sueldos a sumar) como un valor numerico entero, ya que será el rango de repetición de nuestro FOR.\n",
        "num_sue= int (input(\"¿Cuántos sueldos conforman la nomina?\"))\n",
        "nomina= 0\n",
        "\n",
        "#Utilzamos el valor (numero entero) de num_sue como nuestro rango de repetición. \n",
        "for i in range (num_sue):\n",
        "    #Mientras el ramngo se cumple iremos registrando los valores de los sueldos y guardandolos en la variable nomina. \n",
        "    sueldo= float (input(\"Dame el sueldo :\"))\n",
        "    nomina= sueldo + nomina\n",
        "#Una vez finalizado el rango, se imprimira el valor de la nomina\n",
        "print(\"La nomina es: $\", nomina)\n",
        "\n"
      ],
      "execution_count": null,
      "outputs": [
        {
          "output_type": "stream",
          "text": [
            "¿Cuántos sueldos conforman la nomina?7\n",
            "Dame el sueldo :4\n",
            "Dame el sueldo :3\n",
            "Dame el sueldo :5\n",
            "Dame el sueldo :2\n",
            "Dame el sueldo :4\n",
            "Dame el sueldo :3\n",
            "Dame el sueldo :5\n",
            "La nomina es: $ 26.0\n"
          ],
          "name": "stdout"
        }
      ]
    },
    {
      "cell_type": "code",
      "metadata": {
        "id": "lMU5M_Ne8pJf",
        "colab": {
          "base_uri": "https://localhost:8080/"
        },
        "outputId": "66254690-d205-4f62-bb2b-df607be6b3e8"
      },
      "source": [
        "#EJEMPLO 3.4.\n",
        "\n",
        "suma=0\n",
        "\n",
        "gasto= float (input(\"Introduce el valor del gasto (Si ya no hay gastos que sumar, ingresa -1): \"))\n",
        "while gasto > -1:\n",
        "  suma= suma + gasto\n",
        "  gasto= float (input(\"Introduce el valor del gasto (Si ya no hay gastos que sumar, ingresa -1): \"))\n",
        "print(\"Los gatos ascienden a un valor de : $\", suma)\n"
      ],
      "execution_count": null,
      "outputs": [
        {
          "output_type": "stream",
          "text": [
            "Introduce el valor del gasto (Si ya no hay gastos que sumar, ingresa -1): 2528\n",
            "Introduce el valor del gasto (Si ya no hay gastos que sumar, ingresa -1): 3500\n",
            "Introduce el valor del gasto (Si ya no hay gastos que sumar, ingresa -1): 1600\n",
            "Introduce el valor del gasto (Si ya no hay gastos que sumar, ingresa -1): 1850\n",
            "Introduce el valor del gasto (Si ya no hay gastos que sumar, ingresa -1): 150\n",
            "Introduce el valor del gasto (Si ya no hay gastos que sumar, ingresa -1): -1\n",
            "Los gatos ascienden a un valor de : $ 9628.0\n"
          ],
          "name": "stdout"
        }
      ]
    }
  ]
}