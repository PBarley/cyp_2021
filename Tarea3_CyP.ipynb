{
  "nbformat": 4,
  "nbformat_minor": 0,
  "metadata": {
    "colab": {
      "name": "Tarea3.CyP.ipynb",
      "provenance": [],
      "authorship_tag": "ABX9TyOEaSr4ka7eYnw5Setk4R+l",
      "include_colab_link": true
    },
    "kernelspec": {
      "name": "python3",
      "display_name": "Python 3"
    }
  },
  "cells": [
    {
      "cell_type": "markdown",
      "metadata": {
        "id": "view-in-github",
        "colab_type": "text"
      },
      "source": [
        "<a href=\"https://colab.research.google.com/github/PBarley/cyp_2021/blob/main/Tarea3_CyP.ipynb\" target=\"_parent\"><img src=\"https://colab.research.google.com/assets/colab-badge.svg\" alt=\"Open In Colab\"/></a>"
      ]
    },
    {
      "cell_type": "code",
      "metadata": {
        "colab": {
          "base_uri": "https://localhost:8080/"
        },
        "id": "kuDFSjPTQzNX",
        "outputId": "e26a1c2d-087b-4859-8de1-82547d18bced"
      },
      "source": [
        "#PROBLEMA 1.1. Vuelto de un pago.\n",
        "PRECIO=0\n",
        "PAGO=0\n",
        "DEVO=0\n",
        "\n",
        "PRECIO= float (input(\"¿Cuál es el precio del producto?\"))\n",
        "PAGO= float (input(\"¿Cuanto pago el cliente?\"))\n",
        "DEVO= PAGO - PRECIO\n",
        "print(\"El cambio es: \",DEVO )"
      ],
      "execution_count": 4,
      "outputs": [
        {
          "output_type": "stream",
          "text": [
            "¿Cuál es el precio del producto?21.73\n",
            "¿Cuanto pago el cliente?50\n",
            "El cambio es:  28.27\n"
          ],
          "name": "stdout"
        }
      ]
    },
    {
      "cell_type": "code",
      "metadata": {
        "colab": {
          "base_uri": "https://localhost:8080/"
        },
        "id": "r5iK6BMbdczD",
        "outputId": "d377d46d-9f26-4204-bb84-3a55ac3cde36"
      },
      "source": [
        "#PROBLEMA 1.2. ÁREA DE UN TRIANGULO\n",
        "BASE= 0\n",
        "ALTURA= 0\n",
        "SUP= 0\n",
        "\n",
        "BASE= float (input(\"¿Cuál es la base del triangulo?\"))\n",
        "ALTURA= float (input(\"¿Cuál es la altura del triangulo?\"))\n",
        "SUP= (BASE*ALTURA)/2\n",
        "print(\"El área del triangulo es: \", SUP)"
      ],
      "execution_count": 19,
      "outputs": [
        {
          "output_type": "stream",
          "text": [
            "¿Cuál es la base del triangulo?120.60\n",
            "¿Cuál es la altura del triangulo?85.90\n",
            "El área del triangulo es:  5179.77\n"
          ],
          "name": "stdout"
        }
      ]
    },
    {
      "cell_type": "code",
      "metadata": {
        "colab": {
          "base_uri": "https://localhost:8080/"
        },
        "id": "t0uxX0WZlRKz",
        "outputId": "84ad10fc-b32e-4225-cd93-743b5dc49b8d"
      },
      "source": [
        "#EJEMPLO 1.3. DINOSAURIOS (Caso 1. De toneladas a Kilos.)\n",
        "#Ya que en el libro, el ejercicio pide que pasemos de libras a Kilos, pero en los resultados proporionados en la tabla da de toneladas a kilos, hice dos del mismo. Este pasa de Toneladas a Kilo.\n",
        "\n",
        "PESO= 0\n",
        "LONG= 0\n",
        "\n",
        "NOM=  str (input(\"Dame el nombre del dinosaurio\"))\n",
        "PESO= float (input(\"¿Cuál es el peso en toneladas?\"))\n",
        "LONG= float (input(\"¿Cuál es su longitud en pies?\"))\n",
        "\n",
        "#En lugar de incluir otras dos variables para guardar los valores de la operación, reutilize las que ya tenia de PESO y LONG, asignandoles un nuevo valor, el de la operación.\n",
        "PESO= PESO * 1000\n",
        "LONG= LONG * 0.3047\n",
        "\n",
        "print(\"El peso del dinosaurio \", NOM, \"en Kg es: \", PESO, \"y su longitud es: \", LONG)"
      ],
      "execution_count": 21,
      "outputs": [
        {
          "output_type": "stream",
          "text": [
            "Dame el nombre del dinosaurioBrontosaurus\n",
            "¿Cuál es el peso en toneladas?25\n",
            "¿Cuál es su longitud en pies?70\n",
            "El peso del dinosaurio  Brontosaurus en Kg es:  25000.0 y su longitud es:  21.329\n"
          ],
          "name": "stdout"
        }
      ]
    },
    {
      "cell_type": "code",
      "metadata": {
        "colab": {
          "base_uri": "https://localhost:8080/"
        },
        "id": "celT1jrgG8IE",
        "outputId": "8a0d1cf4-1dba-40f6-923a-6145ac3d3e72"
      },
      "source": [
        "#EJEMPLO 1.3. DINOSAURIOS (Caso 2. De libras a Kilos.)\n",
        "\n",
        "PESO= 0\n",
        "LONG= 0\n",
        "#Declaro la libra o intento declarala como una constante con su valor correspondiente por 1 Kg.\n",
        "POUND= 2.20462\n",
        "\n",
        "NOM=  str (input(\"Dame el nombre del dinosaurio\"))\n",
        "PESO= float (input(\"¿Cuál es el peso en libras?\"))\n",
        "LONG= float (input(\"¿Cuál es su longitud en pies?\"))\n",
        "\n",
        "#En lugar de incluir otras dos variables para guardar los valores de la operación, reutilize las que ya tenia de PESO y LONG, asignandoles un nuevo valor, el de la operación.\n",
        "PESO= PESO / POUND\n",
        "LONG= LONG * 0.3047\n",
        "\n",
        "print(\"El peso del dinosaurio \", NOM, \"en Kg es: \", PESO, \"y su longitud es: \", LONG)"
      ],
      "execution_count": 22,
      "outputs": [
        {
          "output_type": "stream",
          "text": [
            "Dame el nombre del dinosaurioBrontosaurus\n",
            "¿Cuál es el peso en libras?25\n",
            "¿Cuál es su longitud en pies?70\n",
            "El peso del dinosaurio  Brontosaurus en Kg es:  11.339822735890994 y su longitud es:  21.329\n"
          ],
          "name": "stdout"
        }
      ]
    },
    {
      "cell_type": "code",
      "metadata": {
        "colab": {
          "base_uri": "https://localhost:8080/"
        },
        "id": "V_m16lsYtT4-",
        "outputId": "3fabd00a-5c1b-4f20-8a5a-c3df0ba99fec"
      },
      "source": [
        "#EJEMPLO 1.4. GASOLINERIA\n",
        "\n",
        "GAL=0\n",
        "#En este caso, sí inclui una variable más para guardar el resultado de la operación y la llame LIT.\n",
        "LIT=0\n",
        "TOTAL=0\n",
        "\n",
        "GAL= float (input(\"¿Cuánta gasolina necesina consunmio en galones?\"))\n",
        "#Calculamos la cantidad de gasolina en litros y el pago de la misma, si el litro de gasolina tiene un precio de $8.20\n",
        "LIT= GAL * 3.785\n",
        "TOTAL= LIT * 8.20\n",
        "\n",
        "print(\"El total es: $\", TOTAL)"
      ],
      "execution_count": 12,
      "outputs": [
        {
          "output_type": "stream",
          "text": [
            "¿Cuánta gasolina necesina consunmio en galones?9.66\n",
            "El total es: $ 299.81741999999997\n"
          ],
          "name": "stdout"
        }
      ]
    },
    {
      "cell_type": "code",
      "metadata": {
        "colab": {
          "base_uri": "https://localhost:8080/"
        },
        "id": "4vUwKtypyCAd",
        "outputId": "6fee05ee-8bdd-4e6e-ae22-cf9af80aa047"
      },
      "source": [
        "#EJEMPLO 1.5. VOLUMEN Y ÁREA DE UN CILINDRO\n",
        "\n",
        "RADIO= 0\n",
        "ALTURA= 0\n",
        "#Declaré PI desde el inicio, como una constante o eso intete, para no escribir todo su valor cada vez que realizamos una operación.\n",
        "PI= 3.141592\n",
        "AREA= 0\n",
        "VOL= 0\n",
        "\n",
        "RADIO= float (input(\"Dame el radio del cilindro\"))\n",
        "ALTURA= float (input(\"Dame la altutra del cilindro\"))\n",
        "AREA= 2 * PI * RADIO * ALTURA\n",
        "VOL= PI * (RADIO ** 2) *ALTURA\n",
        "\n",
        "print(\"El área del cilindro es: \", AREA, \"y su volumen es: \", VOL)"
      ],
      "execution_count": 15,
      "outputs": [
        {
          "output_type": "stream",
          "text": [
            "Dame el radio del cilindro69.30\n",
            "Dame la altutra del cilindro72.4\n",
            "El área del cilindro es:  31524.744746880006 y su volumen es:  1092332.405479392\n"
          ],
          "name": "stdout"
        }
      ]
    },
    {
      "cell_type": "code",
      "metadata": {
        "colab": {
          "base_uri": "https://localhost:8080/"
        },
        "id": "MD72r3Oj1OSw",
        "outputId": "bec7ff15-dfed-4e08-85f0-e1e42700fc46"
      },
      "source": [
        "#EJEMPLO 1.6. SEGUNDOS EN DÍAS.\n",
        "\n",
        "DIAS= 0\n",
        "TOT_SEG= 0\n",
        "\n",
        "DIAS= int (input(\"¿Cuantos días son?\"))\n",
        "TOT_SEG= 86400 * DIAS\n",
        "\n",
        "print(\"En \", DIAS, \"días hay \", TOT_SEG, \"segundos\")"
      ],
      "execution_count": 18,
      "outputs": [
        {
          "output_type": "stream",
          "text": [
            "¿Cuantos días son?116\n",
            "En  116 días hay  10022400 segundos\n"
          ],
          "name": "stdout"
        }
      ]
    }
  ]
}