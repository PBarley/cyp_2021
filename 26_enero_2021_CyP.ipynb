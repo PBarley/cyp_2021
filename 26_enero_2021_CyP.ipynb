{
  "nbformat": 4,
  "nbformat_minor": 0,
  "metadata": {
    "colab": {
      "name": "26_enero_2021. CyP.ipynb",
      "provenance": [],
      "collapsed_sections": [],
      "authorship_tag": "ABX9TyPgcHAjNJaYnLrFcZ6vfulF",
      "include_colab_link": true
    },
    "kernelspec": {
      "display_name": "Python 3",
      "name": "python3"
    }
  },
  "cells": [
    {
      "cell_type": "markdown",
      "metadata": {
        "id": "view-in-github",
        "colab_type": "text"
      },
      "source": [
        "<a href=\"https://colab.research.google.com/github/PBarley/cyp_2021/blob/main/26_enero_2021_CyP.ipynb\" target=\"_parent\"><img src=\"https://colab.research.google.com/assets/colab-badge.svg\" alt=\"Open In Colab\"/></a>"
      ]
    },
    {
      "cell_type": "markdown",
      "metadata": {
        "id": "HratYaTNss_y"
      },
      "source": [
        "# LISTAS DE PYTHON 3\r\n",
        "\r\n",
        "1. Es una estructura de datos lineal de 0 o n elementos \r\n",
        "1. \"Equivaalente a los arregglos.\r\n",
        "1. Pueden ser diferente tipo de dato. [1,2,32,12] , [1, True, 2.34, \"Hola\"] \r\n",
        "1. Pueden ser anidados, listas de listas. [\"Melon\", \"manzana roja\", \"manzana amarilla\"]\r\n",
        "1. Su selector es de la forma: [ int ]\r\n",
        "1. Son mutables. \r\n"
      ]
    },
    {
      "cell_type": "code",
      "metadata": {
        "colab": {
          "base_uri": "https://localhost:8080/"
        },
        "id": "xXcxB91Iu3yj",
        "outputId": "66797510-c904-4c5e-89b5-2f7b41759068"
      },
      "source": [
        "# EJEMPLOS \r\n",
        "numeros = [4, 2, 45, 7, 83, 3]\r\n",
        "print(numeros)\r\n",
        "print(numeros[2])\r\n",
        "\r\n",
        "\r\n",
        "#UNA LISTA DE \"N\" ELEMENTOS \r\n",
        "\r\n",
        "colores= [ ] #Declaramos lista vacia\r\n",
        "type (colores) #Metodo de lenguaje Python. Averigua de que tipo de trato es una variable con la función \r\n",
        "dias= list()\r\n",
        "print(colores)\r\n",
        "print(dias)\r\n",
        "\r\n",
        "\r\n"
      ],
      "execution_count": null,
      "outputs": [
        {
          "output_type": "stream",
          "text": [
            "[4, 2, 45, 7, 83, 3]\n",
            "45\n",
            "[]\n",
            "[]\n"
          ],
          "name": "stdout"
        }
      ]
    },
    {
      "cell_type": "code",
      "metadata": {
        "colab": {
          "base_uri": "https://localhost:8080/"
        },
        "id": "pTXUH-WMwJIp",
        "outputId": "2807e194-c52d-4d03-9f51-628a6dc24df3"
      },
      "source": [
        "#Pueden ser de diferente tipo de datos\r\n",
        "\r\n",
        "mi_lista = [1, 2, 3, \"Jose\", False, 1.76,[554327890, 56387509, 234532232]  ] #No puede empezar en 0 un número.\r\n",
        "print(mi_lista)\r\n",
        "print(mi_lista [6][1]) #Acceder a una lista dentro de otra lista \r\n",
        "print(mi_lista [3][3]) #Una letra de una palabra \r\n",
        "\r\n",
        "\r\n",
        "#Acceder con rebanado:\r\n",
        "print(mi_lista [3][-1::1])\r\n",
        "\r\n",
        "#mi_lista = [1, 2, 3, \"Jose\", False, 1.76,[\"554327890\", \"56387509\", \"234532232\"]  ] #Para sacar un númmero de \r\n",
        "\r\n",
        "print(str(mi_lista[6][1][2]))"
      ],
      "execution_count": null,
      "outputs": [
        {
          "output_type": "stream",
          "text": [
            "[1, 2, 3, 'Jose', False, 1.76, [554327890, 56387509, 234532232]]\n",
            "56387509\n",
            "e\n",
            "e\n",
            "3\n"
          ],
          "name": "stdout"
        }
      ]
    },
    {
      "cell_type": "code",
      "metadata": {
        "colab": {
          "base_uri": "https://localhost:8080/"
        },
        "id": "adlkGXRR0SCS",
        "outputId": "2a773313-6494-49fa-92a3-533cf20089db"
      },
      "source": [
        "#Son mutables\r\n",
        "#Podemos cambiar o reasignar los elementos:\r\n",
        "\r\n",
        "frutas= [\"melon\", \"sandia\", \"kiwi\", \"aguacate\", \"mango\", \"platano\"]\r\n",
        "print(frutas)\r\n",
        "frutas[0]= \"Melón\"\r\n",
        "print(frutas)\r\n",
        "# frutas[1][0]= \"S\" #Da error porque los str no son mutables, solo se puede reasignarar como a continuación:\r\n",
        "frutas[1]= frutas[1].capitalize() #Otra alternartiva: frutas[1] = frutas[1][0].upper() + frutas[1][1:]\r\n",
        "print(frutas)"
      ],
      "execution_count": null,
      "outputs": [
        {
          "output_type": "stream",
          "text": [
            "['melon', 'sandia', 'kiwi', 'aguacate', 'mango', 'platano']\n",
            "['Melón', 'sandia', 'kiwi', 'aguacate', 'mango', 'platano']\n",
            "['Melón', 'Sandia', 'kiwi', 'aguacate', 'mango', 'platano']\n"
          ],
          "name": "stdout"
        }
      ]
    },
    {
      "cell_type": "code",
      "metadata": {
        "colab": {
          "base_uri": "https://localhost:8080/"
        },
        "id": "u40XBkx82IkV",
        "outputId": "628d7a66-e5cb-4c98-f0fa-618888fd53ef"
      },
      "source": [
        "#Las listas son clases por lo tanto, tiene métodos \r\n",
        "#ejemplo:Append, agrega un elemento final \r\n",
        "frutas= [\"melon\", \"sandia\", \"kiwi\", \"aguacate\", \"mango\", \"platano\"]\r\n",
        "frutas.append(\"Fresa\")\r\n",
        "print(frutas)\r\n",
        "\r\n",
        "print(\"Ejemplo de copias\")\r\n",
        "otras_frutas= frutas.copy() #Hace una copia en memoria \r\n",
        "print(frutas)\r\n",
        "print(otras_frutas)\r\n",
        "otras_frutas [0]= \"Chico zapote\"\r\n",
        "print(otras_frutas)\r\n",
        "print(frutas)\r\n",
        "print(\"--------------------\")\r\n",
        "\r\n",
        "\r\n",
        "\r\n",
        "\r\n",
        "\r\n",
        "\r\n",
        "print(\"Ejemplo de extend\")\r\n",
        "\r\n",
        "colores= [\"rojo\", \"verde\", \"azul\"]\r\n",
        "#frutas.append(colores)\r\n",
        "#print(frutas)\r\n",
        "frutas.extend(colores)\r\n",
        "print(frutas) #Las integra completamnte\r\n",
        "\r\n",
        "\r\n",
        "print(\"Ejemplo de insert\")\r\n",
        "print(f\"El tamaño de la lista= {len(frutas)}\")\r\n",
        "frutas.insert(3, \"Limon\")\r\n",
        "print(f\"El tamaño de la lista= {len(frutas)}\")\r\n",
        "print(frutas)\r\n",
        "\r\n",
        "\r\n",
        "\r\n",
        "print(\"Ejemplo de remove, eliminar el kiwi\")\r\n",
        "frutas.remove(\"kiwi\")\r\n",
        "print(frutas)\r\n",
        "\r\n",
        "\r\n",
        "print(\"Ejemplo con del\")\r\n",
        "del frutas[2] #No es como tal una función, es un OPERADOR de listas\r\n",
        "print(frutas)\r\n",
        "\r\n",
        "\r\n",
        "\r\n",
        "frutas.clear() #Deja la lista vacia \r\n",
        "print(frutas)"
      ],
      "execution_count": 36,
      "outputs": [
        {
          "output_type": "stream",
          "text": [
            "['melon', 'sandia', 'kiwi', 'aguacate', 'mango', 'platano', 'Fresa']\n",
            "Ejemplo de copias\n",
            "['melon', 'sandia', 'kiwi', 'aguacate', 'mango', 'platano', 'Fresa']\n",
            "['melon', 'sandia', 'kiwi', 'aguacate', 'mango', 'platano', 'Fresa']\n",
            "['Chico zapote', 'sandia', 'kiwi', 'aguacate', 'mango', 'platano', 'Fresa']\n",
            "['melon', 'sandia', 'kiwi', 'aguacate', 'mango', 'platano', 'Fresa']\n",
            "--------------------\n",
            "Ejemplo de extend\n",
            "['melon', 'sandia', 'kiwi', 'aguacate', 'mango', 'platano', 'Fresa', 'rojo', 'verde', 'azul']\n",
            "Ejemplo de insert\n",
            "El tamaño de la lista= 10\n",
            "El tamaño de la lista= 11\n",
            "['melon', 'sandia', 'kiwi', 'Limon', 'aguacate', 'mango', 'platano', 'Fresa', 'rojo', 'verde', 'azul']\n",
            "Ejemplo de remove, eliminar el kiwi\n",
            "['melon', 'sandia', 'Limon', 'aguacate', 'mango', 'platano', 'Fresa', 'rojo', 'verde', 'azul']\n",
            "Ejemplo con del\n",
            "['melon', 'sandia', 'aguacate', 'mango', 'platano', 'Fresa', 'rojo', 'verde', 'azul']\n",
            "[]\n"
          ],
          "name": "stdout"
        }
      ]
    },
    {
      "cell_type": "code",
      "metadata": {
        "colab": {
          "base_uri": "https://localhost:8080/"
        },
        "id": "5TDhnUKF-2WK",
        "outputId": "c0035059-f6cc-4ddc-fd4a-7a05bb9f82a3"
      },
      "source": [
        "\r\n",
        "cosas = [\"Jose\",True,2,3,4,5,\"Pedro\",1.23]\r\n",
        "indice = 0\r\n",
        "a_eliminar=[]\r\n",
        "for elemento in cosas:\r\n",
        "    if isinstance( elemento , int ) :\r\n",
        "        print(\"entero\",elemento) # cosas.remove(elemento)\r\n",
        "        a_eliminar.append(elemento)\r\n",
        "    indice += 1\r\n",
        "\r\n",
        "print(a_eliminar)\r\n",
        "for indice in a_eliminar:\r\n",
        "    print( indice)\r\n",
        "    cosas.remove(indice)\r\n",
        "print(cosas)"
      ],
      "execution_count": 44,
      "outputs": [
        {
          "output_type": "stream",
          "text": [
            "entero True\n",
            "entero 2\n",
            "entero 3\n",
            "entero 4\n",
            "entero 5\n",
            "[True, 2, 3, 4, 5]\n",
            "True\n",
            "2\n",
            "3\n",
            "4\n",
            "5\n",
            "['Jose', 'Pedro', 1.23]\n"
          ],
          "name": "stdout"
        }
      ]
    },
    {
      "cell_type": "code",
      "metadata": {
        "colab": {
          "base_uri": "https://localhost:8080/"
        },
        "id": "iplcKONQ2P2f",
        "outputId": "4ff6b136-c3dd-4ec8-a9e9-7ef194703a7a"
      },
      "source": [
        "''' dir --> Referencia rápida\r\n",
        "help --> Toda la inf. detallada'''\r\n",
        "help(frutas)"
      ],
      "execution_count": null,
      "outputs": [
        {
          "output_type": "execute_result",
          "data": {
            "text/plain": [
              "['__add__',\n",
              " '__class__',\n",
              " '__contains__',\n",
              " '__delattr__',\n",
              " '__delitem__',\n",
              " '__dir__',\n",
              " '__doc__',\n",
              " '__eq__',\n",
              " '__format__',\n",
              " '__ge__',\n",
              " '__getattribute__',\n",
              " '__getitem__',\n",
              " '__gt__',\n",
              " '__hash__',\n",
              " '__iadd__',\n",
              " '__imul__',\n",
              " '__init__',\n",
              " '__init_subclass__',\n",
              " '__iter__',\n",
              " '__le__',\n",
              " '__len__',\n",
              " '__lt__',\n",
              " '__mul__',\n",
              " '__ne__',\n",
              " '__new__',\n",
              " '__reduce__',\n",
              " '__reduce_ex__',\n",
              " '__repr__',\n",
              " '__reversed__',\n",
              " '__rmul__',\n",
              " '__setattr__',\n",
              " '__setitem__',\n",
              " '__sizeof__',\n",
              " '__str__',\n",
              " '__subclasshook__',\n",
              " 'append',\n",
              " 'clear',\n",
              " 'copy',\n",
              " 'count',\n",
              " 'extend',\n",
              " 'index',\n",
              " 'insert',\n",
              " 'pop',\n",
              " 'remove',\n",
              " 'reverse',\n",
              " 'sort']"
            ]
          },
          "metadata": {
            "tags": []
          },
          "execution_count": 21
        }
      ]
    },
    {
      "cell_type": "code",
      "metadata": {
        "colab": {
          "base_uri": "https://localhost:8080/"
        },
        "id": "f_Fuh2S0FG-Q",
        "outputId": "9381b90f-8b9c-4adb-ffa2-18760f9f0bf5"
      },
      "source": [
        "#SLICING SOBRE LISTAS\r\n",
        "\r\n",
        "frutas= [\"melon\", \"sandia\", \"kiwi\", \"aguacate\", \"mango\", \"platano\"]\r\n",
        "\r\n",
        "print(frutas[1:4:])\r\n",
        "\r\n",
        "sistemas_operativos= [\"Windows\",\"Mac Os\", \"Linus\", \"Android\"]\r\n",
        "autos= [\"Ford\", \"Mazda\",\"Honda\"]\r\n",
        "\r\n",
        "cosas= [sistemas_operativos, autos]\r\n",
        "print(cosas)\r\n",
        "print(cosas[1]) #Imprimir la lista autos\r\n",
        "print(cosas[0][2]) #Imprimir \"Linus\"\r\n",
        "print(cosas[0][3][2:5:1])\r\n",
        "print(cosas[1][1][-2:-5:-1])"
      ],
      "execution_count": 68,
      "outputs": [
        {
          "output_type": "stream",
          "text": [
            "['sandia', 'kiwi', 'aguacate']\n",
            "[['Windows', 'Mac Os', 'Linus', 'Android'], ['Ford', 'Mazda', 'Honda']]\n",
            "['Ford', 'Mazda', 'Honda']\n",
            "Linus\n",
            "dro\n",
            "dza\n"
          ],
          "name": "stdout"
        }
      ]
    }
  ]
}