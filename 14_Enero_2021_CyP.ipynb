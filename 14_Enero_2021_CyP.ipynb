{
  "nbformat": 4,
  "nbformat_minor": 0,
  "metadata": {
    "colab": {
      "name": "14_Enero_2021_CyP.ipynb",
      "provenance": [],
      "authorship_tag": "ABX9TyMDE8Nvwwrl05xHPpuH0qom",
      "include_colab_link": true
    },
    "kernelspec": {
      "name": "python3",
      "display_name": "Python 3"
    }
  },
  "cells": [
    {
      "cell_type": "markdown",
      "metadata": {
        "id": "view-in-github",
        "colab_type": "text"
      },
      "source": [
        "<a href=\"https://colab.research.google.com/github/PBarley/cyp_2021/blob/main/14_Enero_2021_CyP.ipynb\" target=\"_parent\"><img src=\"https://colab.research.google.com/assets/colab-badge.svg\" alt=\"Open In Colab\"/></a>"
      ]
    },
    {
      "cell_type": "markdown",
      "metadata": {
        "id": "ERDxVKul5FwF"
      },
      "source": [
        "# PALABRAS RESERVADAS DE PYTHON \r\n",
        "\r\n",
        "Son las palabras que realizan una operación en especifico, un objetivo especifico. \r\n",
        "33\r\n",
        "1. False\r\n",
        "1. None\r\n",
        "1. True\r\n",
        "1. and\r\n",
        "1. as\r\n",
        "1. assert\r\n",
        "1. break\r\n",
        "1. class\r\n",
        "1. continue\r\n",
        "1. def\r\n",
        "1. del\r\n",
        "1. elif\r\n",
        "1. else\r\n",
        "1. except\r\n",
        "1. finally\r\n",
        "1. for\r\n",
        "1. from\r\n",
        "1. global\r\n",
        "1. if\r\n",
        "1. import\r\n",
        "1. in\r\n",
        "1. is\r\n",
        "1. lambda\r\n",
        "1. nonlocal\r\n",
        "1. not\r\n",
        "1. or\r\n",
        "1. pass\r\n",
        "1. raise\r\n",
        "1. return\r\n",
        "1. try\r\n",
        "1. while\r\n",
        "1. with\r\n",
        "1. yield "
      ]
    },
    {
      "cell_type": "code",
      "metadata": {
        "colab": {
          "base_uri": "https://localhost:8080/"
        },
        "id": "6U5kzTGB5Yc5",
        "outputId": "bf9c0e22-0b04-4b74-ffa8-10787058a6ee"
      },
      "source": [
        "import keyword\r\n",
        "pr = keyword.kwlist\r\n",
        "print( len(pr))\r\n",
        "for palabra in pr:\r\n",
        "  print(\"1.\", palabra) #En lugar de mandar línea por linea, nos manda una lista"
      ],
      "execution_count": 6,
      "outputs": [
        {
          "output_type": "stream",
          "text": [
            "33\n",
            "1. False\n",
            "1. None\n",
            "1. True\n",
            "1. and\n",
            "1. as\n",
            "1. assert\n",
            "1. break\n",
            "1. class\n",
            "1. continue\n",
            "1. def\n",
            "1. del\n",
            "1. elif\n",
            "1. else\n",
            "1. except\n",
            "1. finally\n",
            "1. for\n",
            "1. from\n",
            "1. global\n",
            "1. if\n",
            "1. import\n",
            "1. in\n",
            "1. is\n",
            "1. lambda\n",
            "1. nonlocal\n",
            "1. not\n",
            "1. or\n",
            "1. pass\n",
            "1. raise\n",
            "1. return\n",
            "1. try\n",
            "1. while\n",
            "1. with\n",
            "1. yield\n"
          ],
          "name": "stdout"
        }
      ]
    },
    {
      "cell_type": "markdown",
      "metadata": {
        "id": "b_9yZOgZ67Cq"
      },
      "source": [
        "## Variable \r\n",
        "\r\n",
        "Es un espacio de memoria de la computadorapara para almacenar valores que cambian a lo largo de la ejecución del programa. Este espacio de memoria está referenciado por un identificador el cual tiene ciertas reglas de nombrado.\r\n",
        " \r\n",
        "- No puede iniciar con número.\r\n",
        "- No debe ser igual a alguna de las palabras reservadas.\r\n",
        "- Puede iniciar con _\r\n",
        "- Evitar nombres de variables largos \r\n",
        "- Evitar nombres muy cortos. Ejemplo: x, y, i\r\n",
        "- Usar notación snake_case (Tipo de notación)"
      ]
    },
    {
      "cell_type": "code",
      "metadata": {
        "colab": {
          "base_uri": "https://localhost:8080/",
          "height": 51
        },
        "id": "SUQ9Fdad7u2-",
        "outputId": "7bae0a4d-2ce7-4f1f-eb06-d3bc2d463faa"
      },
      "source": [
        "# EJEMPLOS DE SITUACIONES QUE NO SE PUEDEN \r\n",
        "_2edad=12 #Al menos que agreguemos un _\r\n",
        "print(_2edad)\r\n",
        "''' \r\n",
        "No se puede usar una palabra reservada como identificador de variable:\r\n",
        "for= 12\r\n",
        "print (for)\r\n",
        "'''\r\n",
        "\r\n"
      ],
      "execution_count": 9,
      "outputs": [
        {
          "output_type": "stream",
          "text": [
            "12\n"
          ],
          "name": "stdout"
        },
        {
          "output_type": "execute_result",
          "data": {
            "application/vnd.google.colaboratory.intrinsic+json": {
              "type": "string"
            },
            "text/plain": [
              "' \\nNo se puede usar una palabra reservada como identificador de variable:\\nfor= 12\\nprint (for)\\n'"
            ]
          },
          "metadata": {
            "tags": []
          },
          "execution_count": 9
        }
      ]
    },
    {
      "cell_type": "code",
      "metadata": {
        "id": "HW2mzYhP8mHj"
      },
      "source": [
        "'''\r\n",
        "La notación snake case consta de formar el identificador de variable sparando las palabras del mismo con un guión bajo. \r\n",
        "\r\n",
        "Se recomienda que los identificadores se escriban en minusculas para las variables y en mayusculas para las constantes. \r\n",
        "\r\n",
        "Es decir si tenemos una variable para los dias de la semana , se escribiría así:\r\n",
        "dias_de_la_semana= 7\r\n",
        "dias_mes=31\r\n",
        "limite_maximo= 100\r\n",
        "etc.\r\n",
        "\r\n",
        "\r\n",
        "\r\n",
        "\r\n",
        "Otras notaciones: camel case, capital\r\n",
        "'''\r\n",
        "# Snake_case\r\n",
        "dias_de_la_semana= 7\r\n",
        "print(dias_de_la_semana)\r\n",
        "#Es mas legible que:\r\n",
        "diasdelasemana= 7\r\n",
        "print(diasdelasemana)\r\n",
        "\r\n",
        "#CAMEL CASE:\r\n",
        "\r\n",
        "# Lower camel case\r\n",
        "  diasDeLaSemana= 7\r\n",
        "# Upper camel case (Se inicia con mayúscula)\r\n",
        "  SemanaSanta = 23"
      ],
      "execution_count": null,
      "outputs": []
    },
    {
      "cell_type": "markdown",
      "metadata": {
        "id": "KyUFOinQ95ce"
      },
      "source": [
        "# TIPOS DE DATOS\r\n",
        "- Numéricos\r\n",
        "  - int (1, 2, 3, 23454, etc.) (Hata el número que podemos representar depende de los bits) (4 Bytes) \r\n",
        "  - float (4 Bytes) (1.14, 3.1416, 1.0)\r\n",
        "  - long (8 Bytes) (1, 2, 23454, etc.)\r\n",
        "  - complex  (El único lenguaje que lo implementa para principiantes NO existe, surge de despejar raices de números negativos, es decir, representa números imaginarios: 3 + 2 i)\r\n",
        "\r\n",
        "- Boolean: True o False\r\n",
        "\r\n",
        "- String: Cadena de caracteres (\"cad\", 'cad' o '''cad''' o \"\"\"cad\"\"\")\r\n",
        "\r\n",
        "- listas ([1,2,3,4,5], [a,b,1,2,3])\r\n",
        "\r\n",
        "-tuplas ( (edad,23), (3,4) )\r\n",
        "\r\n",
        "-conjuntos\r\n",
        "\r\n",
        "-diccionarios ( {\"nombre\" : \"Juan\"} )"
      ]
    },
    {
      "cell_type": "markdown",
      "metadata": {
        "id": "QFwecz2fED3X"
      },
      "source": [
        "# Tipo de dato String\r\n",
        "\r\n",
        "Este tipo de dato permite almacenar cadena de caracteres, como por ejemplo:\r\n",
        "```\r\n",
        "nombre= 'Jesus' # '' Unica palabra\r\n",
        "lugar_nacimiento= \"Mexico D.F., Tacuba\" # \"\" Con espacios intermedios\r\n",
        "frase_favorita = \"\"\"\r\n",
        "El conocimiento \r\n",
        "me persigue, \r\n",
        "pero...\r\n",
        "Yo soy más rapido!!!\r\n",
        ":)\r\n",
        "\"\"\"\r\n",
        "```\r\n",
        " #\"\"\" \"\"\"Renglones"
      ]
    },
    {
      "cell_type": "markdown",
      "metadata": {
        "id": "AcaazfgaFm9p"
      },
      "source": [
        "# String como arreglo\r\n",
        "\r\n",
        "Un String en Python es almacenado como el tipo de dato (estructura de datos) arreglo\r\n",
        "\r\n",
        "Por ejemplo la declaración nombre:\r\n",
        "```\r\n",
        "nombre= 'Jesus' \r\n",
        "```\r\n",
        "El elemento 'J' es al almacenado en un arreflo en la posición 0.\r\n",
        "La 'e' en el 1 y así sucesivamente \r\n",
        "\r\n",
        "### Selector\r\n",
        "\r\n",
        "La notación para seleccionar un elemento del arreglo es:\r\n",
        "```\r\n",
        "[ 1 ]\r\n",
        "```\r\n",
        "Donde el valor interno debe ser un valor númerico entero"
      ]
    },
    {
      "cell_type": "code",
      "metadata": {
        "colab": {
          "base_uri": "https://localhost:8080/"
        },
        "id": "WFb2OTjtGMwd",
        "outputId": "1c1cc09d-77e0-4d82-be2c-4afa4b455467"
      },
      "source": [
        "nombre= 'Jesus'\r\n",
        "print(nombre)\r\n",
        "print(nombre[0])\r\n",
        "print(nombre[3])"
      ],
      "execution_count": 10,
      "outputs": [
        {
          "output_type": "stream",
          "text": [
            "Jesus\n",
            "J\n",
            "u\n"
          ],
          "name": "stdout"
        }
      ]
    },
    {
      "cell_type": "markdown",
      "metadata": {
        "id": "c7HUERxfHQuw"
      },
      "source": [
        "# ITERARA SOBRE UN STRING \r\n",
        "\r\n",
        "Se puede iterar sobre un String con un for de la forma siguiente:\r\n",
        "```\r\n",
        "for letra in range ( len(nombre)): #Len imprime el número de elementos de un arreglo\r\n",
        "  print( letra)\r\n",
        "```\r\n"
      ]
    },
    {
      "cell_type": "code",
      "metadata": {
        "colab": {
          "base_uri": "https://localhost:8080/"
        },
        "id": "6ZjtEiXPIcYo",
        "outputId": "4f37c678-a2ff-4b7d-f450-6ac18d33e2d3"
      },
      "source": [
        "for indice in range( len(nombre)): #0, 1, 2, 3, 4\r\n",
        "  print(indice, end= \" \")\r\n",
        "  print( nombre[indice] )"
      ],
      "execution_count": 11,
      "outputs": [
        {
          "output_type": "stream",
          "text": [
            "0 J\n",
            "1 e\n",
            "2 s\n",
            "3 u\n",
            "4 s\n"
          ],
          "name": "stdout"
        }
      ]
    },
    {
      "cell_type": "markdown",
      "metadata": {
        "id": "CK7O3EXGJ-pu"
      },
      "source": [
        "# Función range (inicio, stop, incremento)\r\n",
        "\r\n",
        "El inicio es opcional y por defecto tiene  el valor 0\r\n",
        "\r\n",
        "El incremento tambien es opcional y por defecto es 1"
      ]
    },
    {
      "cell_type": "code",
      "metadata": {
        "colab": {
          "base_uri": "https://localhost:8080/"
        },
        "id": "D2ecU5OgJzdA",
        "outputId": "902d7eff-a158-42dd-a43a-75a637e10b5c"
      },
      "source": [
        "#for indice in range(4, len(nombre), -1):  #Es equivalente a:    for indice in range( len(nombre)):\r\n",
        "for indice in range(4, -1, -1): #Para imprimir el nombre al reves \r\n",
        "  print(nombre[indice])"
      ],
      "execution_count": 25,
      "outputs": [
        {
          "output_type": "stream",
          "text": [
            "s\n",
            "u\n",
            "s\n",
            "e\n",
            "J\n"
          ],
          "name": "stdout"
        }
      ]
    },
    {
      "cell_type": "markdown",
      "metadata": {
        "id": "QbRnNBldL39f"
      },
      "source": [
        "# Strings e indexado negativo\r\n",
        "\r\n",
        "En Python 3 se agrega una nueva característica a los arreglos de las cadenas de caracteres, esta consta de la capacidad de indexar de forma negativa.\r\n",
        "\r\n",
        "La lógica es la siguiente:\r\n",
        "\r\n",
        "El último elemento se le considera como índice (ALTERNATIVO) - 1, con lo cual se podria referenciar el final de la cadena sin la necesidad de saber el tamaño de la misma.\r\n",
        "\r\n",
        "```\r\n",
        "nombre= 'Paola'\r\n",
        "\r\n",
        "idice normal:        0   1   2   3\r\n",
        "\r\n",
        "                     J  e  s  u  s\r\n",
        "\r\n",
        "índice alternativo: -5 -4 -3 -2 -1\r\n",
        "```"
      ]
    },
    {
      "cell_type": "code",
      "metadata": {
        "colab": {
          "base_uri": "https://localhost:8080/"
        },
        "id": "rQNhGRBlMkpp",
        "outputId": "4c5f18c1-d890-4045-c733-1bb493b25d44"
      },
      "source": [
        "nombre= 'Paola'\r\n",
        "print(nombre[4]) #Indexado normal\r\n",
        "print(nombre[-1]) #Indexado alternativo (negativos)\r\n",
        "\r\n",
        "print(\"-------------\")\r\n",
        "\r\n",
        "for indice_alter in range(-1, -6, -1):\r\n",
        "  print(nombre[indice_alter])"
      ],
      "execution_count": 30,
      "outputs": [
        {
          "output_type": "stream",
          "text": [
            "a\n",
            "a\n",
            "-------------\n",
            "a\n",
            "l\n",
            "o\n",
            "a\n",
            "P\n"
          ],
          "name": "stdout"
        }
      ]
    },
    {
      "cell_type": "markdown",
      "metadata": {
        "id": "dacyh3qgPyFC"
      },
      "source": [
        "# Slicing de cadena de caracteres.\r\n",
        "\r\n",
        "Esta característica permite sacar secciones de una cadena con la siguiente sintaxis: \r\n",
        "\r\n",
        "```\r\n",
        "[ inicio : stop : incremento]\r\n",
        "```\r\n",
        "Donde inicio e incremento son opcionales y también soportan indexado alternativo (negativos)"
      ]
    },
    {
      "cell_type": "code",
      "metadata": {
        "colab": {
          "base_uri": "https://localhost:8080/"
        },
        "id": "nlFrNS6tQbUx",
        "outputId": "f11b0c86-0ee0-432c-db3d-d7aa4071c19d"
      },
      "source": [
        "facultad= \"Facultad de Estudios Superiores Aragón (La mejor)\"\r\n",
        "\r\n",
        "for j in range (12, 20, 1):   \r\n",
        "  print(facultad[j], end= \"\")\r\n",
        "\r\n",
        "# Hacer esto mismo con la caracteristica Slicing se lográ así:\r\n",
        "print('''\r\n",
        "\r\n",
        "Con Slicing''')\r\n",
        "print(facultad[12:20:1])\r\n",
        "\r\n",
        "#Palabra \"De\" con Slicing \r\n",
        "print('''\r\n",
        "\r\n",
        "''')\r\n",
        "print(facultad[9:11:1])"
      ],
      "execution_count": 39,
      "outputs": [
        {
          "output_type": "stream",
          "text": [
            "Estudios\n",
            "\n",
            "Con Slicing\n",
            "Estudios\n",
            "\n",
            "\n",
            "\n",
            "de\n"
          ],
          "name": "stdout"
        }
      ]
    }
  ]
}