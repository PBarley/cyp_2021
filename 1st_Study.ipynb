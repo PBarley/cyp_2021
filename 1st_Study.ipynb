{
  "nbformat": 4,
  "nbformat_minor": 0,
  "metadata": {
    "colab": {
      "name": "1st Study.ipynb",
      "provenance": [],
      "authorship_tag": "ABX9TyNeGHUSDOpZpYCPyNvKBe2w",
      "include_colab_link": true
    },
    "kernelspec": {
      "name": "python3",
      "display_name": "Python 3"
    }
  },
  "cells": [
    {
      "cell_type": "markdown",
      "metadata": {
        "id": "view-in-github",
        "colab_type": "text"
      },
      "source": [
        "<a href=\"https://colab.research.google.com/github/PBarley/cyp_2021/blob/main/1st_Study.ipynb\" target=\"_parent\"><img src=\"https://colab.research.google.com/assets/colab-badge.svg\" alt=\"Open In Colab\"/></a>"
      ]
    },
    {
      "cell_type": "markdown",
      "metadata": {
        "id": "WFY5bqYokd6i"
      },
      "source": [
        "# Notas de los Operadores "
      ]
    },
    {
      "cell_type": "code",
      "metadata": {
        "colab": {
          "base_uri": "https://localhost:8080/"
        },
        "id": "0I2kW7u5cko-",
        "outputId": "c733749a-ce74-4acc-90c9-2218ecaac642"
      },
      "source": [
        "a= 11\r\n",
        "b=3\r\n",
        "print(a%b) #Calcula el residuo de la división\r\n",
        "\r\n",
        "x=5\r\n",
        "y=4\r\n",
        "valor= (x!=y)# != Idica \"Diferente de\" y arroja un valor lógico (verdadero (True) o falso(False)) \r\n",
        "print(valor)\r\n",
        "\r\n",
        "c=4\r\n",
        "print(c**2) # ** Eleva a la \"n\" potencia el valor\r\n",
        "\r\n",
        "\r\n",
        "# EJEMPLO DE APLICACIÓN \r\n",
        "Takis= 10\r\n",
        "Dinero= 2\r\n",
        "tiendaAbierta= True\r\n",
        "compra= (Takis<Dinero) and (tiendaAbierta==True)\r\n",
        "if compra==True:\r\n",
        "  print(\"Puedes comprar los Takis\")\r\n",
        "else:\r\n",
        "  print(\"No se pueden comprar los Takis\")\r\n"
      ],
      "execution_count": null,
      "outputs": [
        {
          "output_type": "stream",
          "text": [
            "2\n",
            "True\n",
            "16\n",
            "No se pueden comprar los Takis\n"
          ],
          "name": "stdout"
        }
      ]
    },
    {
      "cell_type": "markdown",
      "metadata": {
        "id": "32z0088hl021"
      },
      "source": [
        "# REPASANDO LA TAREA 3\r\n"
      ]
    },
    {
      "cell_type": "markdown",
      "metadata": {
        "id": "9XKivpFecc8n"
      },
      "source": [
        "# ESTRUCTURA SELECTIVA"
      ]
    },
    {
      "cell_type": "code",
      "metadata": {
        "colab": {
          "base_uri": "https://localhost:8080/"
        },
        "id": "FGEkeOHdG1ZS",
        "outputId": "196f8f7f-7daf-40ea-c695-b9df6592bd88"
      },
      "source": [
        "for i in[\"TE\", \"QUIERO\", \"MUCHO\", \"FRI\"]: #\"in\" es una palabra reservada, qué indica un elemento a recorrer\r\n",
        "  print(i)\r\n",
        "\r\n"
      ],
      "execution_count": null,
      "outputs": [
        {
          "output_type": "stream",
          "text": [
            "TE\n",
            "QUIERO\n",
            "MUCHO\n",
            "FRI\n"
          ],
          "name": "stdout"
        }
      ]
    },
    {
      "cell_type": "code",
      "metadata": {
        "colab": {
          "base_uri": "https://localhost:8080/"
        },
        "id": "6GIMUtrMN9qd",
        "outputId": "f8f66a84-8e57-4673-c0c3-6b7179e392f8"
      },
      "source": [
        "coleccion={\"Mario\":20, \"Mariana\": 19, \"Yessica\":14, \"Luis\":18} #Esto es un diccionario\r\n",
        "for i in coleccion:\r\n",
        "  print(f\"El alumno {i} tiene:{coleccion[i]}\")\r\n",
        "  print(coleccion)"
      ],
      "execution_count": null,
      "outputs": [
        {
          "output_type": "stream",
          "text": [
            "El alumno Mario tiene:20\n",
            "{'Mario': 20, 'Mariana': 19, 'Yessica': 14, 'Luis': 18}\n",
            "El alumno Mariana tiene:19\n",
            "{'Mario': 20, 'Mariana': 19, 'Yessica': 14, 'Luis': 18}\n",
            "El alumno Yessica tiene:14\n",
            "{'Mario': 20, 'Mariana': 19, 'Yessica': 14, 'Luis': 18}\n",
            "El alumno Luis tiene:18\n",
            "{'Mario': 20, 'Mariana': 19, 'Yessica': 14, 'Luis': 18}\n"
          ],
          "name": "stdout"
        }
      ]
    },
    {
      "cell_type": "markdown",
      "metadata": {
        "id": "8zGhxlVqzQ-Y"
      },
      "source": [
        "#ARREGLOS, LISTAS EN PYTHON"
      ]
    },
    {
      "cell_type": "code",
      "metadata": {
        "colab": {
          "base_uri": "https://localhost:8080/"
        },
        "id": "nyoHkjHNzWjJ",
        "outputId": "3ca214c3-d516-491e-e27f-d9437b10fb7f"
      },
      "source": [
        "lista=[]\r\n",
        "print(lista)"
      ],
      "execution_count": null,
      "outputs": [
        {
          "output_type": "stream",
          "text": [
            "[range(0, 7)]\n"
          ],
          "name": "stdout"
        }
      ]
    },
    {
      "cell_type": "code",
      "metadata": {
        "colab": {
          "base_uri": "https://localhost:8080/"
        },
        "id": "yfSJAKBT7apK",
        "outputId": "a54c2e1b-1183-47c8-933c-821a0be5c9c8"
      },
      "source": [
        "#PROBLEMAS RESUELTOS. EJERCICIO 4.1 PÁG.229\r\n",
        "\r\n",
        "N= int (input(\"Ingrese el número de elementos del arreglo: \"))\r\n",
        "VEC= []\r\n",
        "if 1 <= N and N <= 500:\r\n",
        "  VEC = [0 for x in range(N)] #Declaramos el número de elementos en el arreglo. Según lo que el usuario indique en la instrucción anterior.\r\n",
        "  for i in range(N):\r\n",
        "    VEC[i]= int (input(\"Ingrese valor \" + str(i + 1) + \": \"))\r\n",
        "  print(\"Lista de números sin repeticiones: \")\r\n",
        "  i= 0\r\n",
        "  '''NUE_VEC=[]\r\n",
        "  j=0'''\r\n",
        "  while i < N and j < N:\r\n",
        "     print(VEC[i])\r\n",
        "     REPET= VEC[i]\r\n",
        "     '''NUE_VEC[j] = VEC[i]\r\n",
        "     j= j + 1'''\r\n",
        "     while i < N and REPET == VEC[i]:\r\n",
        "        i= i + 1\r\n",
        "  #print(NUE_VEC)\r\n",
        "else:\r\n",
        "  print(\"El número de elementos del arreglo es incorrecto\")"
      ],
      "execution_count": null,
      "outputs": [
        {
          "output_type": "stream",
          "text": [
            "Ingrese el número de elementos del arreglo: 3\n",
            "Ingrese valor 1: 1\n",
            "Ingrese valor 2: 2\n",
            "Ingrese valor 3: 2\n",
            "Lista de números sin repeticiones: \n",
            "1\n",
            "2\n",
            "[]\n"
          ],
          "name": "stdout"
        }
      ]
    },
    {
      "cell_type": "code",
      "metadata": {
        "colab": {
          "base_uri": "https://localhost:8080/"
        },
        "id": "DL914yhn7eCo",
        "outputId": "74e1e668-391d-427b-ce60-a83fc8ce9242"
      },
      "source": [
        "# Analisis de la estructura anterior \r\n",
        "VEC=[1,2,2,3,3] \r\n",
        "N=5\r\n",
        "i=0\r\n",
        "while i < N:\r\n",
        "    print(f'''----------\r\n",
        "    {i}\r\n",
        "-------''')\r\n",
        "    print(VEC[i])\r\n",
        "    REPET= VEC[i]\r\n",
        "    while i < N and REPET == VEC[i]:\r\n",
        "      i= i + 1\r\n",
        "    print(f'''----------\r\n",
        "    {i}\r\n",
        "-------''')"
      ],
      "execution_count": null,
      "outputs": [
        {
          "output_type": "stream",
          "text": [
            "----------\n",
            "    0\n",
            "-------\n",
            "1\n",
            "----------\n",
            "    1\n",
            "-------\n",
            "----------\n",
            "    1\n",
            "-------\n",
            "2\n",
            "----------\n",
            "    3\n",
            "-------\n",
            "----------\n",
            "    3\n",
            "-------\n",
            "3\n",
            "----------\n",
            "    5\n",
            "-------\n"
          ],
          "name": "stdout"
        }
      ]
    },
    {
      "cell_type": "markdown",
      "metadata": {
        "id": "-CSubSlyPG4P"
      },
      "source": [
        "\r\n",
        "# LA FUNCIÓN print ()"
      ]
    },
    {
      "cell_type": "code",
      "metadata": {
        "colab": {
          "base_uri": "https://localhost:8080/"
        },
        "id": "dhhFfqaBPSQh",
        "outputId": "0e20754e-740a-4098-ddee-dd37cca222a3"
      },
      "source": [
        "nombre = \"José\"\r\n",
        "edad= 18\r\n",
        "print(\"Hola\", nombre, edad) # La \",\" concatena y agrega un espacio.  Hace los espacios para que se puedan concatenar diferentes tipos de variables \r\n",
        "print(\"Hola\"+ nombre+ str(edad))\r\n",
        "\r\n",
        "# Nombre: Jose, con una edad de: 18 años\r\n",
        "print(\"Nombre:\", nombre, \"con una edad de:\", edad, \"años\")\r\n",
        "print(\"Nombre: \"+ nombre +\" con una edad de: \" + str(edad), \" años\") \r\n",
        "#Se vuelve más complicado darle formato a la salida. Y ya que se busca que los lenguajes sean simples de escribir usamos la funcion con format.()\r\n",
        "\r\n",
        "\r\n",
        "\r\n",
        "\r\n",
        "#.format()\r\n",
        "print(\"Nombre: {} con una edad de: {} años\".format( nombre,edad)) \r\n",
        "#Si ponemos comidenes es esa posición ppython va a buscar una variable que sustituya al comodin. Tiene que ver con las POSICIONES DE LOS ARGUMENTOS\r\n",
        "print(\"Nombre: {1} con una edad de: {0} años\".format(nombre,edad))\r\n"
      ],
      "execution_count": 2,
      "outputs": [
        {
          "output_type": "stream",
          "text": [
            "Hola José 18\n",
            "HolaJosé18\n",
            "Nombre: José con una edad de: 18 años\n",
            "Nombre: José con una edad de: 18  años\n",
            "Nombre: José con una edad de: 18 años\n",
            "Nombre: 18 con una edad de: José años\n"
          ],
          "name": "stdout"
        }
      ]
    },
    {
      "cell_type": "markdown",
      "metadata": {
        "id": "jl34nrymVZND"
      },
      "source": [
        "## Función print() y los caracteres de escape"
      ]
    },
    {
      "cell_type": "code",
      "metadata": {
        "colab": {
          "base_uri": "https://localhost:8080/"
        },
        "id": "U2ArKycFVZ4w",
        "outputId": "3b56b815-3abb-4782-d5f4-603761f590b8"
      },
      "source": [
        "#  \\t --> Tabulador\r\n",
        "print(\"\\tPaola\")\r\n",
        "#  \\ imprimir la diagonal \\\r\n",
        "print(\"Pao\\'Hola\")\r\n",
        "#  escapar \\' y \\\"\r\n",
        "\r\n"
      ],
      "execution_count": 14,
      "outputs": [
        {
          "output_type": "stream",
          "text": [
            "\tPaola\n",
            "Pao'Hola\n"
          ],
          "name": "stdout"
        }
      ]
    },
    {
      "cell_type": "markdown",
      "metadata": {
        "id": "5J7--qIfaVlg"
      },
      "source": [
        ""
      ]
    },
    {
      "cell_type": "code",
      "metadata": {
        "colab": {
          "base_uri": "https://localhost:8080/"
        },
        "id": "zzvAAlQcaUq3",
        "outputId": "e33e9334-4859-44ba-8b61-9459601c414a"
      },
      "source": [
        "\r\n",
        "print(\"Hola\", end= \" \")\r\n",
        "print(\"Mundo\", end=\"\\u25EF \")\r\n",
        "print(\"Fin\", end=\"\\n\")"
      ],
      "execution_count": 15,
      "outputs": [
        {
          "output_type": "stream",
          "text": [
            "Hola Mundo◯ Fin\n"
          ],
          "name": "stdout"
        }
      ]
    },
    {
      "cell_type": "markdown",
      "metadata": {
        "id": "jDoKKd8ghUVB"
      },
      "source": [
        "# PALABRAS RESERVADAS\r\n"
      ]
    },
    {
      "cell_type": "code",
      "metadata": {
        "id": "BJ61vErwhYSd"
      },
      "source": [
        "import keyword\r\n",
        "pr = keyword.kwlist\r\n",
        "print( len(pr))\r\n",
        "for palabra in pr:\r\n",
        "  print(\"1.\", palabra) #En lugar de mandar línea por linea, nos manda una lista"
      ],
      "execution_count": null,
      "outputs": []
    },
    {
      "cell_type": "markdown",
      "metadata": {
        "id": "eYKvSlHhha_1"
      },
      "source": [
        "# INDEXADO"
      ]
    },
    {
      "cell_type": "code",
      "metadata": {
        "colab": {
          "base_uri": "https://localhost:8080/"
        },
        "id": "H1YeE4t48JiN",
        "outputId": "1d06aff6-5c55-4103-f1ba-000e71769006"
      },
      "source": [
        "nombre= \"Izuku Midoriya\"\r\n",
        "#Indexado normal. Nombre en orden \r\n",
        "for indice in range(0, 14 , 1): \r\n",
        "  print(nombre[indice], end=\" \")\r\n",
        "print('''\r\n",
        "''')\r\n",
        "\r\n",
        "#Para imprimir el nombre al reves \r\n",
        "for indice in range(13,-1, -1): \r\n",
        "  print(nombre[indice], end=\" \")\r\n",
        "print('''\r\n",
        "\r\n",
        "''')\r\n",
        "\r\n",
        "\r\n",
        "\r\n",
        "#Indexado Alternativo. Nombre en orden \r\n",
        "for indice in range(-14, 0, 1): \r\n",
        "  print(nombre[indice], end=\" \")\r\n",
        "print('''\r\n",
        "''')\r\n",
        "\r\n",
        "#Para imprimir el nombre al reves \r\n",
        "for indice in range(-1,-15, -1): \r\n",
        "  print(nombre[indice], end=\" \")\r\n"
      ],
      "execution_count": 55,
      "outputs": [
        {
          "output_type": "stream",
          "text": [
            "I z u k u   M i d o r i y a \n",
            "\n",
            "a y i r o d i M   u k u z I \n",
            "\n",
            "\n",
            "I z u k u   M i d o r i y a \n",
            "\n",
            "a y i r o d i M   u k u z I "
          ],
          "name": "stdout"
        }
      ]
    },
    {
      "cell_type": "markdown",
      "metadata": {
        "id": "IntdtJcO2r6Y"
      },
      "source": [
        "# SLICING"
      ]
    },
    {
      "cell_type": "code",
      "metadata": {
        "colab": {
          "base_uri": "https://localhost:8080/"
        },
        "id": "qugxX91p2n1F",
        "outputId": "a526808f-8cc8-479e-fb0d-d9047257f554"
      },
      "source": [
        "frase= \"Como hacer a la gente mas positiva?, muy facil, has que pierdan un electrón!\"\r\n",
        "\r\n",
        " # Imprimir \"ace\" de la palabra hacer \r\n",
        "print(frase [ 6 : 9 : 1]) #Siempre agregar un valor más al stop\r\n",
        "\r\n",
        "# Imprimir \"acer\" de la palabra hacer. Al reves \r\n",
        "print(frase [ 8 : 5 : -1])\r\n",
        "\r\n",
        "#Incremento \r\n",
        "print(frase[ : :2 ]) #Toda la frase\r\n",
        "print(frase[ : :-1 ]) #Por defecto en indexado negativo el inicio sería -1 \r\n",
        "#                      y el final  en este caso sería -77"
      ],
      "execution_count": 70,
      "outputs": [
        {
          "output_type": "stream",
          "text": [
            "ace\n",
            "eca\n",
            "Cm ae  agnemspstv? u ai,hsqepednu lcrn\n",
            "!nórtcele nu nadreip euq sah ,licaf yum ,?avitisop sam etneg al a recah omoC\n"
          ],
          "name": "stdout"
        }
      ]
    },
    {
      "cell_type": "markdown",
      "metadata": {
        "id": "llnMWPFDC-po"
      },
      "source": [
        "# MÉTODOS DE LA CLASE STR\r\n"
      ]
    },
    {
      "cell_type": "code",
      "metadata": {
        "colab": {
          "base_uri": "https://localhost:8080/"
        },
        "id": "QTZkZCA4DC76",
        "outputId": "c56c7602-a0f4-4492-9ccf-5ac9d0a8a6c0"
      },
      "source": [
        "nombre= \"Todoroki Shoto\"\r\n",
        "print(nombre)\r\n",
        "print(''' -----------------\r\n",
        "ALGUNOS MÉTODOS CON STR:\r\n",
        "''')\r\n",
        "#islower= La cadena está en minúsculas? \r\n",
        "print(nombre.islower())\r\n",
        "\r\n",
        "# capitalize()= El primer carácter en mayúsculas y el resto minúsculas.\r\n",
        "print(nombre.capitalize())\r\n",
        "\r\n",
        "#endswith()= Devuelve True si S termina con el sufijo especificado, False en caso contrario.\r\n",
        "print(nombre.endswith(\"to\"))\r\n",
        "\r\n",
        "#replace()= Devuelve una copia de S con todas las apariciones de subcadena, donde lo viejo es \r\n",
        "#           reemplazado por nuevo.\r\n",
        "print(nombre.replace(\"o\", \"\\u25EF\"))\r\n",
        "\r\n",
        "\r\n",
        "\r\n",
        "\r\n",
        "#find ()= Devuelve el índice más bajo en S donde se encuentra la subcadena sub, tal que sub\r\n",
        "#         está contenido dentro de S [inicio: fin]. \r\n",
        "ind_t= nombre.find(\"t\")\r\n",
        "print(ind_t)\r\n",
        "#Solo cambiar una letra de la cadena. 1ra Opción:\r\n",
        "nombre= nombre [ : ind_t : ] + \"@\" + nombre [ind_t + 1: :]\r\n",
        "print(nombre)\r\n",
        "#segunda opción:\r\n",
        "print(nombre.replace(\"t\", \"@\", 0))\r\n",
        "\r\n",
        "\r\n",
        "\r\n",
        "# lower()= Devuelve una copia de la cadena S convertida a minúsculas\r\n",
        "print(nombre.lower())\r\n",
        "\r\n",
        "# upper()= Devuelve una copia de S convertida a mayúsculas.\r\n",
        "print(nombre.upper())\r\n",
        "\r\n",
        "#count()= Cuantas veces aparece esta subcadena en la cadena\r\n",
        "versiculo= '''Ustedes son la sal de la tierra. \r\n",
        "Pero ¿para qué sirve la sal si ha perdido su sabor?'''\r\n",
        "print(versiculo.count(\"sal\")) "
      ],
      "execution_count": 86,
      "outputs": [
        {
          "output_type": "stream",
          "text": [
            "Todoroki Shoto\n",
            " -----------------\n",
            "ALGUNOS MÉTODOS CON STR:\n",
            "\n",
            "False\n",
            "Todoroki shoto\n",
            "True\n",
            "T◯d◯r◯ki Sh◯t◯\n",
            "12\n",
            "Todoroki Sho@o\n",
            "Todoroki Sho@o\n",
            "todoroki sho@o\n",
            "TODOROKI SHO@O\n",
            "2\n"
          ],
          "name": "stdout"
        }
      ]
    },
    {
      "cell_type": "code",
      "metadata": {
        "colab": {
          "base_uri": "https://localhost:8080/"
        },
        "id": "EdlApflKJj8H",
        "outputId": "ae903613-0997-47e4-b215-e668bff4185a"
      },
      "source": [
        "# ALGUNOS MÉTODOS PARA PROCESAR STRINGS\r\n",
        "\r\n",
        "#Pregunta: ¿Cómo extraigo los números de la cadena?. Si la cadena es:\r\n",
        "numeros= \"  2,  1,3   ,4,  5    , 45   ,  7    \"\r\n",
        "print(numeros)\r\n",
        "\r\n",
        "#1.- Eliminar los espacios al principio y al final con strip()\r\n",
        "numeros= numeros.strip()\r\n",
        "print(numeros)\r\n",
        "\r\n",
        "#2.- Separo por comas\r\n",
        "numeros= numeros.split(\",\") #split genera una lista automaticamente \r\n",
        "print(numeros)\r\n",
        "\r\n",
        "#3.- Con un for e indices limpiar cadenas de la lista\r\n",
        "for indice in range(len(numeros)):\r\n",
        "  numeros[indice]= numeros[indice].strip() #strip()= Eliminar los espacios al principio y al final\r\n",
        "print(numeros)\r\n",
        "\r\n",
        "#4.- Convertirlos a tipo entero \r\n",
        "for indice in range(len(numeros)):\r\n",
        "  numeros[indice]= int (numeros[indice])\r\n",
        "print(numeros)\r\n",
        "\r\n",
        "#5.- Usar los números"
      ],
      "execution_count": 87,
      "outputs": [
        {
          "output_type": "stream",
          "text": [
            "  2,  1,3   ,4,  5    , 45   ,  7    \n",
            "2,  1,3   ,4,  5    , 45   ,  7\n",
            "['2', '  1', '3   ', '4', '  5    ', ' 45   ', '  7']\n",
            "['2', '1', '3', '4', '5', '45', '7']\n",
            "[2, 1, 3, 4, 5, 45, 7]\n"
          ],
          "name": "stdout"
        }
      ]
    }
  ]
}