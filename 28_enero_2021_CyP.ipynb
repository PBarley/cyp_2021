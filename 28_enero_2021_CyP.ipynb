{
  "nbformat": 4,
  "nbformat_minor": 0,
  "metadata": {
    "colab": {
      "name": "28_enero_2021. CyP.ipynb",
      "provenance": [],
      "authorship_tag": "ABX9TyPuPT3zBAGlbloBskPi9L3A",
      "include_colab_link": true
    },
    "kernelspec": {
      "name": "python3",
      "display_name": "Python 3"
    }
  },
  "cells": [
    {
      "cell_type": "markdown",
      "metadata": {
        "id": "view-in-github",
        "colab_type": "text"
      },
      "source": [
        "<a href=\"https://colab.research.google.com/github/PBarley/cyp_2021/blob/main/28_enero_2021_CyP.ipynb\" target=\"_parent\"><img src=\"https://colab.research.google.com/assets/colab-badge.svg\" alt=\"Open In Colab\"/></a>"
      ]
    },
    {
      "cell_type": "markdown",
      "metadata": {
        "id": "4We8-GxQBjHr"
      },
      "source": [
        "# TUPLAS \r\n",
        "\r\n",
        "Caracteristicas:\r\n",
        "- Tipo de dato líneal, es una estructura de datos\r\n",
        "- No mutable\r\n",
        "- Puede contener de 0 a n elementos \r\n",
        "- Se declara con \"(\" y \")\" \r\n",
        "- No puedes agregar ni eliminar elementos \r\n",
        "- Al igual que las listas pueden ser anidadas (tuplas de tuplas)\r\n",
        "- Los argumentos a una función son enviadas como tuplas "
      ]
    },
    {
      "cell_type": "code",
      "metadata": {
        "colab": {
          "base_uri": "https://localhost:8080/"
        },
        "id": "sbyRSGJhCRHV",
        "outputId": "31feea19-71d8-4163-d173-8c7c299e3075"
      },
      "source": [
        "#Como se declara una Tupla \r\n",
        "\r\n",
        "frutas = ('Sandía', 'Melón', 'limon', 'Mango')\r\n",
        "print(frutas)\r\n",
        "#Soporta todas las operaciones que reciben la lista, siempre que no intenten  modificarlas.\r\n",
        "#Ejemplo Slicing \r\n",
        "print(frutas[1:3:1])\r\n",
        "print(frutas.count('Melón')) #Cuenta cuantas veces apare\r\n",
        "\r\n",
        "#Son inmutables \r\n",
        "'''frutas[1] = 'Manzana' #No se puede hacer esto, NO SE PUEDE MODIFICAR LAS TUPLAS. '''\r\n",
        "\r\n",
        "#¿Pa que se usan?\r\n",
        "conexion = ('132.248.12.12',3306, 'cyp_bd', 'usr_test', '1234dios')\r\n",
        "print(f\"Usuario: {conexion [3]} y passwd:{conexion[4]}\")"
      ],
      "execution_count": 8,
      "outputs": [
        {
          "output_type": "stream",
          "text": [
            "('Sandía', 'Melón', 'limon', 'Mango')\n",
            "('Melón', 'limon')\n",
            "1\n",
            "Usuario: usr_test y passwd:1234dios\n"
          ],
          "name": "stdout"
        }
      ]
    },
    {
      "cell_type": "code",
      "metadata": {
        "colab": {
          "base_uri": "https://localhost:8080/"
        },
        "id": "aLp40JE6DUFF",
        "outputId": "ad98c96c-783e-418f-97b9-9a04652428a1"
      },
      "source": [
        "print( dir(frutas))"
      ],
      "execution_count": 3,
      "outputs": [
        {
          "output_type": "stream",
          "text": [
            "['__add__', '__class__', '__contains__', '__delattr__', '__dir__', '__doc__', '__eq__', '__format__', '__ge__', '__getattribute__', '__getitem__', '__getnewargs__', '__gt__', '__hash__', '__init__', '__init_subclass__', '__iter__', '__le__', '__len__', '__lt__', '__mul__', '__ne__', '__new__', '__reduce__', '__reduce_ex__', '__repr__', '__rmul__', '__setattr__', '__sizeof__', '__str__', '__subclasshook__', 'count', 'index']\n"
          ],
          "name": "stdout"
        }
      ]
    },
    {
      "cell_type": "markdown",
      "metadata": {
        "id": "eqhaRWF9FrVg"
      },
      "source": [
        "# DICCIONARIOS\r\n",
        "\r\n",
        "- Estructura de datos semi líneal\r\n",
        "- Formada por pares, llave - valor\r\n",
        "- Equivalente al tipo de dato JSON, de JavaScript \r\n",
        "- Utiliza organización por función de dispersión. \r\n",
        "- Se declara con los elementos '{' y '}'\r\n",
        "- El selector usa valores de tipo string (llave). El selector (ya no es por posición numerica, sino por nombre de llaves).\r\n",
        "- No se puede seleccionar por offset [1]\r\n",
        "- Son mutables "
      ]
    },
    {
      "cell_type": "code",
      "metadata": {
        "colab": {
          "base_uri": "https://localhost:8080/"
        },
        "id": "9l5ZIyScHCp4",
        "outputId": "e0183e48-0570-471c-860f-0aa0a9c13c17"
      },
      "source": [
        "\r\n",
        "'''Num_cal= float(input (\"Cuantas materias son?: \"))\r\n",
        "for i in range (Num_cal):\r\n",
        "  calif= float (input(f\"Dame la {i+1}calificación: \"))\r\n",
        "  Sum_cal= Sum_cal + calif'''\r\n",
        "Facultad= [\"FES ARAGÓN\", \"UNAM\", \"Ingeniería en computación\"]\r\n",
        "alumno= {'Nombre':'Juan Perez', 'Edad':'18 años','Sede': Facultad }\r\n",
        "print(alumno)\r\n",
        "print(alumno['Nombre'])#Solo imprime su valor\r\n",
        "print(alumno['Edad'])"
      ],
      "execution_count": 61,
      "outputs": [
        {
          "output_type": "stream",
          "text": [
            "{'Nombre': 'Juan Perez', 'Edad': '18 años', 'Sede': ['FES ARAGÓN', 'UNAM', 'Ingeniería en computación']}\n",
            "Juan Perez\n",
            "18 años\n"
          ],
          "name": "stdout"
        }
      ]
    },
    {
      "cell_type": "markdown",
      "metadata": {
        "id": "SI9KVTR3OhYK"
      },
      "source": [
        "# CAMINO PARA CREAR UN DICCIONARIO\r\n",
        "\r\n",
        "- La llave siempre va ser un string \r\n",
        "\r\n",
        "- A value can be a string in double quotes, or a number, or true or false or null, or an object or an array. \r\n",
        "\r\n",
        "\r\n",
        "\r\n",
        "![Captura de pantalla 2021-01-28 170144.jpg](data:image/jpeg;base64,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)\r\n",
        "\r\n",
        "EJEMPLOS DE COMPAÑEROS:"
      ]
    },
    {
      "cell_type": "code",
      "metadata": {
        "colab": {
          "base_uri": "https://localhost:8080/"
        },
        "id": "xPvcplGQLsYI",
        "outputId": "6c531e48-d711-47ed-991d-c880e0473b69"
      },
      "source": [
        "#Ejemplo Miguel\r\n",
        "alumno = {'nombre':'Juan Pérez',\r\n",
        "          'edad':18,\r\n",
        "          'altura':1.71,\r\n",
        "          'estatus':'Aprobado',\r\n",
        "          'numeros':[555645902, 55326372]}\r\n",
        "print(alumno)\r\n",
        "print(alumno['numeros'])\r\n",
        "print(\"Numero del alumno:\",alumno['numeros'][1])"
      ],
      "execution_count": 37,
      "outputs": [
        {
          "output_type": "stream",
          "text": [
            "{'nombre': 'Juan Pérez', 'edad': 18, 'altura': 1.71, 'estatus': 'Aprobado', 'numeros': [555645902, 55326372]}\n",
            "[555645902, 55326372]\n",
            "Numero del alumno: 55326372\n"
          ],
          "name": "stdout"
        }
      ]
    },
    {
      "cell_type": "code",
      "metadata": {
        "colab": {
          "base_uri": "https://localhost:8080/"
        },
        "id": "1cZQ-LVFLzaX",
        "outputId": "2b0de6b9-6cd2-40af-92da-ef0a0e7dbbd4"
      },
      "source": [
        "# Ejemplo Yael\r\n",
        "materia = [\"Algebra\", \"Computadoras y Programacion\", \"Calculo Diferencial e Integral\", \"Introduccion a la Ingenieria\", \"Geometria Analitica\"]\r\n",
        "alumno = {\"ID\" : (123456789), \r\n",
        "          \"Nombre\" : \"Yael\", \"Apellido\" : \"Castillo\", \r\n",
        "          \"Edad\" : 20, \r\n",
        "          \"Escuela\" : \"FES Aragon\", \r\n",
        "          \"Materia\" : materia}\r\n",
        "for i in alumno:\r\n",
        "    print(f\"Clave: {i} - Valor: {alumno[i]}\")"
      ],
      "execution_count": 21,
      "outputs": [
        {
          "output_type": "stream",
          "text": [
            "Clave: ID - Valor: 123456789\n",
            "Clave: Nombre - Valor: Yael\n",
            "Clave: Apellido - Valor: Castillo\n",
            "Clave: Edad - Valor: 20\n",
            "Clave: Escuela - Valor: FES Aragon\n",
            "Clave: Materia - Valor: ['Algebra', 'Computadoras y Programacion', 'Calculo Diferencial e Integral', 'Introduccion a la Ingenieria', 'Geometria Analitica']\n"
          ],
          "name": "stdout"
        }
      ]
    },
    {
      "cell_type": "code",
      "metadata": {
        "colab": {
          "base_uri": "https://localhost:8080/"
        },
        "id": "nrVXiKbXL25A",
        "outputId": "96c25f46-cb5a-4a61-a28b-a6f9bd01c787"
      },
      "source": [
        "#Ejemplo Kareli\r\n",
        "alumno = {        'nombre'       : 'Juan Pérez', \r\n",
        "          'edad' : 18, \r\n",
        "          'Matricula': 312193, \r\n",
        "          'calificaciones' : {'Mate: ': 8, 'ciencias: ': 9, 'ingles: ': 8}, \r\n",
        "          'aprovado' : True,\r\n",
        "          'dirección': {\r\n",
        "              'Calle':'Rancho seco',\r\n",
        "              'Numero': 's/n',\r\n",
        "              'colonia': 'impulsora popular avicola',\r\n",
        "              'municipio': 'minesota',\r\n",
        "              'Estado': {\r\n",
        "                  'Clave_del_estado': 15,\r\n",
        "                  'nombre_clave': 'Estado de México'\r\n",
        "                  }\r\n",
        "              } #Anidamos diccionarios\r\n",
        "          }\r\n",
        "print(alumno)\r\n",
        "print(alumno['nombre'])\r\n",
        "# 9 Calificación de ciencias???\r\n",
        "print(alumno['calificaciones']['ciencias: '])\r\n",
        "\r\n",
        "#Nombre, todo en mayusculas (Ejercicio)\r\n",
        "print(alumno['nombre'].upper())\r\n",
        "print(\"---------------------------------------\")\r\n",
        "print(alumno)\r\n",
        "alumno['seguro']= True   #Es mutable\r\n",
        "print(alumno)\r\n",
        "#Ahora agreguemos el código postal dentro de dirección \r\n",
        "alumno['dirección']['cp']=57170\r\n",
        "print(alumno)"
      ],
      "execution_count": 41,
      "outputs": [
        {
          "output_type": "stream",
          "text": [
            "{'nombre': 'Juan Pérez', 'edad': 18, 'Matricula': 312193, 'calificaciones': {'Mate: ': 8, 'ciencias: ': 9, 'ingles: ': 8}, 'aprovado': True, 'dirección': {'Calle': 'Rancho seco', 'Numero': 's/n', 'colonia': 'impulsora popular avicola', 'municipio': 'minesota', 'Estado': {'Clave_del_estado': 15, 'nombre_clave': 'Estado de México'}}}\n",
            "Juan Pérez\n",
            "9\n",
            "JUAN PÉREZ\n",
            "---------------------------------------\n",
            "{'nombre': 'Juan Pérez', 'edad': 18, 'Matricula': 312193, 'calificaciones': {'Mate: ': 8, 'ciencias: ': 9, 'ingles: ': 8}, 'aprovado': True, 'dirección': {'Calle': 'Rancho seco', 'Numero': 's/n', 'colonia': 'impulsora popular avicola', 'municipio': 'minesota', 'Estado': {'Clave_del_estado': 15, 'nombre_clave': 'Estado de México'}}}\n",
            "{'nombre': 'Juan Pérez', 'edad': 18, 'Matricula': 312193, 'calificaciones': {'Mate: ': 8, 'ciencias: ': 9, 'ingles: ': 8}, 'aprovado': True, 'dirección': {'Calle': 'Rancho seco', 'Numero': 's/n', 'colonia': 'impulsora popular avicola', 'municipio': 'minesota', 'Estado': {'Clave_del_estado': 15, 'nombre_clave': 'Estado de México'}}, 'seguro': True}\n",
            "{'nombre': 'Juan Pérez', 'edad': 18, 'Matricula': 312193, 'calificaciones': {'Mate: ': 8, 'ciencias: ': 9, 'ingles: ': 8}, 'aprovado': True, 'dirección': {'Calle': 'Rancho seco', 'Numero': 's/n', 'colonia': 'impulsora popular avicola', 'municipio': 'minesota', 'Estado': {'Clave_del_estado': 15, 'nombre_clave': 'Estado de México'}, 'cp': 57170}, 'seguro': True}\n"
          ],
          "name": "stdout"
        }
      ]
    },
    {
      "cell_type": "code",
      "metadata": {
        "id": "yZljcs5HORK6"
      },
      "source": [
        "cliente= {}"
      ],
      "execution_count": 34,
      "outputs": []
    },
    {
      "cell_type": "code",
      "metadata": {
        "colab": {
          "base_uri": "https://localhost:8080/"
        },
        "id": "cmpAybbAVFQS",
        "outputId": "28c33b92-579f-4c6e-f448-0cb25f409e9d"
      },
      "source": [
        "funciones= dir(dict) #El tipo de dato Diccionario se llama \"dict\"\r\n",
        "for funcion in funciones:\r\n",
        "  print(funcion)"
      ],
      "execution_count": 42,
      "outputs": [
        {
          "output_type": "stream",
          "text": [
            "__class__\n",
            "__contains__\n",
            "__delattr__\n",
            "__delitem__\n",
            "__dir__\n",
            "__doc__\n",
            "__eq__\n",
            "__format__\n",
            "__ge__\n",
            "__getattribute__\n",
            "__getitem__\n",
            "__gt__\n",
            "__hash__\n",
            "__init__\n",
            "__init_subclass__\n",
            "__iter__\n",
            "__le__\n",
            "__len__\n",
            "__lt__\n",
            "__ne__\n",
            "__new__\n",
            "__reduce__\n",
            "__reduce_ex__\n",
            "__repr__\n",
            "__setattr__\n",
            "__setitem__\n",
            "__sizeof__\n",
            "__str__\n",
            "__subclasshook__\n",
            "clear\n",
            "copy\n",
            "fromkeys\n",
            "get\n",
            "items\n",
            "keys\n",
            "pop\n",
            "popitem\n",
            "setdefault\n",
            "update\n",
            "values\n"
          ],
          "name": "stdout"
        }
      ]
    },
    {
      "cell_type": "markdown",
      "metadata": {
        "id": "7a9_dSTgVF_v"
      },
      "source": [
        "# MANIPULACIÓN DE LOS PARES LLAVE VALOR.\r\n",
        "\r\n",
        "Para ello se emplean los métodos:\r\n",
        "- Keys()  Te regresa una tupla con los valores \r\n",
        "- Values()\r\n",
        "- items()  Te regresa los pares "
      ]
    },
    {
      "cell_type": "code",
      "metadata": {
        "colab": {
          "base_uri": "https://localhost:8080/"
        },
        "id": "DuqVNcFcWF2L",
        "outputId": "04230818-53f0-48da-9faa-f91525879900"
      },
      "source": [
        "#Manipular llaves \r\n",
        "print(alumno)\r\n",
        "llaves= alumno.keys()\r\n",
        "print(llaves) #Es como una lista dentro de un objeto.....   Solo puede ser utilizado con iteradores, con un for.\r\n",
        "for elem in llaves:\r\n",
        "  print(elem)\r\n",
        "  print(alumno[elem])\r\n",
        "\r\n",
        "#Manipular los valores\r\n",
        "valores= alumno.values()\r\n",
        "print(valores)\r\n",
        "print(\".-.-.-.-.-.-.-..-.-.-.-.-.-.\")\r\n",
        "for val in valores:\r\n",
        "  print(val)\r\n",
        "\r\n",
        "\r\n",
        "#Manipular Pares \r\n",
        "pares= alumno.items() #Una lista donde cada elemento es una tupla \r\n",
        "print(pares)\r\n",
        "print(\"............................\")\r\n",
        "for par in pares:\r\n",
        "  print(par)"
      ],
      "execution_count": 57,
      "outputs": [
        {
          "output_type": "stream",
          "text": [
            "{'nombre': 'Juan Pérez', 'edad': 18, 'Matricula': 312193, 'calificaciones': {'Mate: ': 8, 'ciencias: ': 9, 'ingles: ': 8}, 'aprovado': True, 'dirección': {'Calle': 'Rancho seco', 'Numero': 's/n', 'colonia': 'impulsora popular avicola', 'municipio': 'minesota', 'Estado': {'Clave_del_estado': 15, 'nombre_clave': 'Estado de México'}, 'cp': 57170}, 'seguro': True}\n",
            "dict_keys(['nombre', 'edad', 'Matricula', 'calificaciones', 'aprovado', 'dirección', 'seguro'])\n",
            "nombre\n",
            "Juan Pérez\n",
            "edad\n",
            "18\n",
            "Matricula\n",
            "312193\n",
            "calificaciones\n",
            "{'Mate: ': 8, 'ciencias: ': 9, 'ingles: ': 8}\n",
            "aprovado\n",
            "True\n",
            "dirección\n",
            "{'Calle': 'Rancho seco', 'Numero': 's/n', 'colonia': 'impulsora popular avicola', 'municipio': 'minesota', 'Estado': {'Clave_del_estado': 15, 'nombre_clave': 'Estado de México'}, 'cp': 57170}\n",
            "seguro\n",
            "True\n",
            "dict_values(['Juan Pérez', 18, 312193, {'Mate: ': 8, 'ciencias: ': 9, 'ingles: ': 8}, True, {'Calle': 'Rancho seco', 'Numero': 's/n', 'colonia': 'impulsora popular avicola', 'municipio': 'minesota', 'Estado': {'Clave_del_estado': 15, 'nombre_clave': 'Estado de México'}, 'cp': 57170}, True])\n",
            ".-.-.-.-.-.-.-..-.-.-.-.-.-.\n",
            "Juan Pérez\n",
            "18\n",
            "312193\n",
            "{'Mate: ': 8, 'ciencias: ': 9, 'ingles: ': 8}\n",
            "True\n",
            "{'Calle': 'Rancho seco', 'Numero': 's/n', 'colonia': 'impulsora popular avicola', 'municipio': 'minesota', 'Estado': {'Clave_del_estado': 15, 'nombre_clave': 'Estado de México'}, 'cp': 57170}\n",
            "True\n",
            "dict_items([('nombre', 'Juan Pérez'), ('edad', 18), ('Matricula', 312193), ('calificaciones', {'Mate: ': 8, 'ciencias: ': 9, 'ingles: ': 8}), ('aprovado', True), ('dirección', {'Calle': 'Rancho seco', 'Numero': 's/n', 'colonia': 'impulsora popular avicola', 'municipio': 'minesota', 'Estado': {'Clave_del_estado': 15, 'nombre_clave': 'Estado de México'}, 'cp': 57170}), ('seguro', True)])\n",
            "............................\n",
            "('nombre', 'Juan Pérez')\n",
            "('edad', 18)\n",
            "('Matricula', 312193)\n",
            "('calificaciones', {'Mate: ': 8, 'ciencias: ': 9, 'ingles: ': 8})\n",
            "('aprovado', True)\n",
            "('dirección', {'Calle': 'Rancho seco', 'Numero': 's/n', 'colonia': 'impulsora popular avicola', 'municipio': 'minesota', 'Estado': {'Clave_del_estado': 15, 'nombre_clave': 'Estado de México'}, 'cp': 57170})\n",
            "('seguro', True)\n"
          ],
          "name": "stdout"
        }
      ]
    },
    {
      "cell_type": "code",
      "metadata": {
        "colab": {
          "base_uri": "https://localhost:8080/"
        },
        "id": "BR0dmPGNWTqh",
        "outputId": "7ea8d2a8-9ad0-4e7b-ce3e-42bf02952b94"
      },
      "source": [
        "print (help(dict.keys))"
      ],
      "execution_count": 45,
      "outputs": [
        {
          "output_type": "stream",
          "text": [
            "Help on method_descriptor:\n",
            "\n",
            "keys(...)\n",
            "    D.keys() -> a set-like object providing a view on D's keys\n",
            "\n",
            "None\n"
          ],
          "name": "stdout"
        }
      ]
    }
  ]
}