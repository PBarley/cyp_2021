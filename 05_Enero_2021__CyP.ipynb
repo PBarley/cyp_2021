{
  "nbformat": 4,
  "nbformat_minor": 0,
  "metadata": {
    "colab": {
      "name": "05_Enero_2021._CyP.ipynb",
      "provenance": [],
      "authorship_tag": "ABX9TyOCXwJpr+qEmCIpkXDfsIeM",
      "include_colab_link": true
    },
    "kernelspec": {
      "name": "python3",
      "display_name": "Python 3"
    }
  },
  "cells": [
    {
      "cell_type": "markdown",
      "metadata": {
        "id": "view-in-github",
        "colab_type": "text"
      },
      "source": [
        "<a href=\"https://colab.research.google.com/github/PBarley/cyp_2021/blob/main/05_Enero_2021__CyP.ipynb\" target=\"_parent\"><img src=\"https://colab.research.google.com/assets/colab-badge.svg\" alt=\"Open In Colab\"/></a>"
      ]
    },
    {
      "cell_type": "code",
      "metadata": {
        "colab": {
          "base_uri": "https://localhost:8080/"
        },
        "id": "hHalr4Z-i1Kc",
        "outputId": "7ffe4935-9a9b-401a-f6c6-b188336a5235"
      },
      "source": [
        "\r\n",
        "sueldos = [0.0 for x in range(7)]\r\n",
        "print(sueldos)\r\n",
        "sueldos [0]= 12.3\r\n",
        "sueldos [1]= 22.3\r\n",
        "sueldos [2]= 32.3\r\n",
        "sueldos [3]= 42.3\r\n",
        "sueldos [4]= 52.3\r\n",
        "sueldos [5]= 62.3\r\n",
        "sueldos [6]= 72.3\r\n",
        "print(sueldos)\r\n",
        "\r\n",
        "#Automatiar el recorrido de los elementos del arreglo\r\n",
        "for i in range(7):\r\n",
        "  print(f\"El trabajador {int(i) + 1} gana ${sueldos [i]}\")"
      ],
      "execution_count": 10,
      "outputs": [
        {
          "output_type": "stream",
          "text": [
            "[0.0, 0.0, 0.0, 0.0, 0.0, 0.0, 0.0]\n",
            "[12.3, 22.3, 32.3, 42.3, 52.3, 62.3, 72.3]\n",
            "El trabajador 1 gana $12.3\n",
            "El trabajador 2 gana $22.3\n",
            "El trabajador 3 gana $32.3\n",
            "El trabajador 4 gana $42.3\n",
            "El trabajador 5 gana $52.3\n",
            "El trabajador 6 gana $62.3\n",
            "El trabajador 7 gana $72.3\n"
          ],
          "name": "stdout"
        }
      ]
    },
    {
      "cell_type": "code",
      "metadata": {
        "colab": {
          "base_uri": "https://localhost:8080/"
        },
        "id": "MituOxWIlz6S",
        "outputId": "4b40dedf-1c71-4ada-f25b-e298bcf7e821"
      },
      "source": [
        "\r\n",
        "sueldos = [0.0 for x in range(7)]\r\n",
        "print(sueldos)\r\n",
        "i= 0\r\n",
        "nue_valor= 1.0\r\n",
        "for i in range(7):\r\n",
        "  sueldos[i]= nue_valor\r\n",
        "  nue_valor= nue_valor + 1\r\n",
        "print(sueldos)"
      ],
      "execution_count": 9,
      "outputs": [
        {
          "output_type": "stream",
          "text": [
            "[0.0, 0.0, 0.0, 0.0, 0.0, 0.0, 0.0]\n",
            "[1.0, 2.0, 3.0, 4.0, 5.0, 6.0, 7.0]\n"
          ],
          "name": "stdout"
        }
      ]
    },
    {
      "cell_type": "code",
      "metadata": {
        "colab": {
          "base_uri": "https://localhost:8080/"
        },
        "id": "H653cAWgoljW",
        "outputId": "1b418dea-c143-4efc-e6ed-5da8e5d058df"
      },
      "source": [
        "#EJERCICIO 4.1. PÁG.175\r\n",
        "\r\n",
        "maximo= 7\r\n",
        "sueldos = [0.0 for x in range(maximo)]\r\n",
        "suma= 0.0\r\n",
        "promedio= 0.0\r\n",
        "\r\n",
        "for i in range(maximo):\r\n",
        "  sueldos[i]= float (input(\"Dame el sueldo: \"))\r\n",
        "\r\n",
        "for i in range(maximo):\r\n",
        "  print(f\"Trabajador {i+1}, gana: {sueldos[i]}\")\r\n",
        "\r\n",
        "for i in range(maximo):\r\n",
        "  suma= suma + sueldos[i]\r\n",
        "promedio= suma/maximo\r\n",
        "print(f\"El promedio del sueldo es: ${promedio}\")\r\n",
        "\r\n",
        "num_trab= 0\r\n",
        "\r\n",
        "for i in range(maximo):\r\n",
        "  if sueldos [i]> promedio:\r\n",
        "    print(f\"El trabajador {i + 1} tiene un sueldo mayor al promedio\")\r\n",
        "    num_trab= num_trab + 1\r\n",
        "print(f\"El número de trabadores con un sueldo mayor al promedio son {num_trab}\")   "
      ],
      "execution_count": 15,
      "outputs": [
        {
          "output_type": "stream",
          "text": [
            "Dame el sueldo: 4\n",
            "Dame el sueldo: 5\n",
            "Dame el sueldo: 4\n",
            "Dame el sueldo: 5\n",
            "Dame el sueldo: 4\n",
            "Dame el sueldo: 5\n",
            "Dame el sueldo: 4\n",
            "Trabajador 1, gana: 4.0\n",
            "Trabajador 2, gana: 5.0\n",
            "Trabajador 3, gana: 4.0\n",
            "Trabajador 4, gana: 5.0\n",
            "Trabajador 5, gana: 4.0\n",
            "Trabajador 6, gana: 5.0\n",
            "Trabajador 7, gana: 4.0\n",
            "El promedio del sueldo es: $4.428571428571429\n",
            "El trabajador 2 tiene un sueldo mayor al promedio\n",
            "El trabajador 4 tiene un sueldo mayor al promedio\n",
            "El trabajador 6 tiene un sueldo mayor al promedio\n",
            "El número de trabadores con un sueldo mayor al promedio son 3\n"
          ],
          "name": "stdout"
        }
      ]
    },
    {
      "cell_type": "code",
      "metadata": {
        "colab": {
          "base_uri": "https://localhost:8080/"
        },
        "id": "F7-63QO0sqXW",
        "outputId": "a5ab98d5-ae15-4a96-eadf-1a52d01757f6"
      },
      "source": [
        "#EJERCICIO\r\n",
        "num= 5\r\n",
        "valores= [0 for x in range(num)]\r\n",
        "num_mayor= 0\r\n",
        "num_menor= 1000\r\n",
        "suma= 0\r\n",
        "\r\n",
        "for i in range(num):\r\n",
        "  valores[i]= int (input(f\"Dame el valor {i + 1}: \"))\r\n",
        "  suma= suma + valores[i]\r\n",
        "  if valores[i] > num_mayor:\r\n",
        "    num_mayor = valores [i]\r\n",
        "  if valores[i] < num_menor:\r\n",
        "    num_menor= valores[i]\r\n",
        "promedio= suma/num\r\n",
        "\r\n",
        "print(f''' El mayor de los número es: {num_mayor}\r\n",
        "El menor de los núumeros es: {num_menor}\r\n",
        "El promedio es: {promedio}''')"
      ],
      "execution_count": 19,
      "outputs": [
        {
          "output_type": "stream",
          "text": [
            "Dame el valor 1: 1\n",
            "Dame el valor 2: 2\n",
            "Dame el valor 3: 3\n",
            "Dame el valor 4: 4\n",
            "Dame el valor 5: 5\n",
            " El mayor de los número es: 5\n",
            "El menor de los núumeros es: 1\n",
            "El promedio es: 3.0\n"
          ],
          "name": "stdout"
        }
      ]
    },
    {
      "cell_type": "code",
      "metadata": {
        "colab": {
          "base_uri": "https://localhost:8080/"
        },
        "id": "ljIoT2NbvGGo",
        "outputId": "f00f2fc7-caf5-421e-f97a-98a8c19c255c"
      },
      "source": [
        "# PROBLEMAS RESUELTOS. EJERCICIO 4.1 PÁG.229\r\n",
        "\r\n",
        "N= int (input(\"Ingrese el número de elementos del arreglo: \"))\r\n",
        "VEC= []\r\n",
        "if 1 <= N and N <= 500:\r\n",
        "  VEC = [0 for x in range(N)] #Declaramos el número de elementos en el arreglo. Según lo que el usuario indique en la instrucción anterior.\r\n",
        "  for i in range(N):\r\n",
        "    VEC[i]= int (input(\"Ingrese valor \" + str(i + 1) + \": \"))\r\n",
        "  print(\"Lista de números sin repeticiones: \")\r\n",
        "  i= 0\r\n",
        "  while i < N:\r\n",
        "     print(VEC[i])\r\n",
        "     REPET= VEC[i]\r\n",
        "     while i < N and REPET == VEC[i]:\r\n",
        "        i= i + 1\r\n",
        "else:\r\n",
        "  print(\"El número de elementos del arreglo es incorrecto\") "
      ],
      "execution_count": 40,
      "outputs": [
        {
          "output_type": "stream",
          "text": [
            "Ingrese el número de elementos del arreglo: 5\n",
            "Ingrese valor 1: 1\n",
            "Ingrese valor 2: 2\n",
            "Ingrese valor 3: 2\n",
            "Ingrese valor 4: 3\n",
            "Ingrese valor 5: 4\n",
            "Lista de números sin repeticiones: \n",
            "1\n",
            "2\n",
            "3\n",
            "4\n"
          ],
          "name": "stdout"
        }
      ]
    }
  ]
}