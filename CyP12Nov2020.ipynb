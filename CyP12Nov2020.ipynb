{
  "nbformat": 4,
  "nbformat_minor": 0,
  "metadata": {
    "colab": {
      "name": "CyP12Nov2020.ipynb",
      "provenance": [],
      "authorship_tag": "ABX9TyMtFmvrMWAzhaguuvwt/Jjc",
      "include_colab_link": true
    },
    "kernelspec": {
      "name": "python3",
      "display_name": "Python 3"
    }
  },
  "cells": [
    {
      "cell_type": "markdown",
      "metadata": {
        "id": "view-in-github",
        "colab_type": "text"
      },
      "source": [
        "<a href=\"https://colab.research.google.com/github/PBarley/cyp_2021/blob/main/CyP12Nov2020.ipynb\" target=\"_parent\"><img src=\"https://colab.research.google.com/assets/colab-badge.svg\" alt=\"Open In Colab\"/></a>"
      ]
    },
    {
      "cell_type": "code",
      "metadata": {
        "id": "-VxP0wj8cbJo",
        "outputId": "e3533467-2410-47aa-a3e7-58942b46e30f",
        "colab": {
          "base_uri": "https://localhost:8080/"
        }
      },
      "source": [
        "#EJEMPLO 1\n",
        "numero= int (input(\"Dame un número\"))\n",
        "if numero >0:\n",
        "  print(\"El numero es positivo\")\n",
        "print(\"Fin del programa\")"
      ],
      "execution_count": null,
      "outputs": [
        {
          "output_type": "stream",
          "text": [
            "Dame un número-2\n",
            "Fin del programa\n"
          ],
          "name": "stdout"
        }
      ]
    },
    {
      "cell_type": "code",
      "metadata": {
        "id": "h8SADjamfKz7",
        "outputId": "81c9f589-448d-4e78-d117-ac62c5a224ca",
        "colab": {
          "base_uri": "https://localhost:8080/"
        }
      },
      "source": [
        "#EJEMPLO 2\n",
        "numero= int(input(\"Digite un numero\"))\n",
        "if numero >0:\n",
        "  print(\"El numero es positivo\")\n",
        "else: #sino imprime es negativo\n",
        "  print(\"El numero es negativo\")"
      ],
      "execution_count": null,
      "outputs": [
        {
          "output_type": "stream",
          "text": [
            "Digite un numero -2\n",
            "El nuero es negativo\n"
          ],
          "name": "stdout"
        }
      ]
    },
    {
      "cell_type": "code",
      "metadata": {
        "id": "567lGfSIhGzR",
        "outputId": "6b279828-233d-4a0e-b774-77d71429e8a0",
        "colab": {
          "base_uri": "https://localhost:8080/"
        }
      },
      "source": [
        "#EJEMPLO 3\n",
        "numero= int(input(\"Digite un numero\"))\n",
        "if numero >0:\n",
        "  print(\"El numero es positivo\")\n",
        "elif numero ==0:\n",
        "  print(\"El número es cero\")\n",
        "else: #sino imprime es negativo\n",
        "  print(\"El numero es negativo\") \n",
        "print()"
      ],
      "execution_count": 5,
      "outputs": [
        {
          "output_type": "stream",
          "text": [
            "Digite un numero0\n",
            "El número es cero\n",
            "\n"
          ],
          "name": "stdout"
        }
      ]
    },
    {
      "cell_type": "code",
      "metadata": {
        "id": "903dGyAWg81h"
      },
      "source": [
        ""
      ],
      "execution_count": null,
      "outputs": []
    }
  ]
}